{ 
 "cells": [
  {
   "cell_type": "code",
   "execution_count": null,
   "metadata": {},
   "outputs": [],
   "source": [
    "import pandas as pd\n",
    "import numpy as np\n",
    "import seaborn as sns\n",
    "\n",
    "zillow_2016_merged = pd.read_csv('/Users/katherineling/Desktop/Ironhack/zillow_2016_merger.csv') \n",
    "\n",
    "# zillow_2016_merged.head(100)"
   ]
  },
  {
   "cell_type": "code",
   "execution_count": null,
   "metadata": {},
   "outputs": [],
   "source": [
    "#looked at correlation between x variables with each other to check for multicollinearity\n",
    "zillow_2016_merged.corr()"
   ]
  },
  {
   "cell_type": "code",
   "execution_count": null,
   "metadata": {},
   "outputs": [],
   "source": [
    "#dropped x variables that displayed high correlation with other x variables\n",
    "\n",
    "zillow_2016_merged = zillow_2016_merged.drop(columns=['pooltypeid10', 'pooltypeid7', 'bathroomcnt', 'censustractandblock', 'pooltypeid7', 'taxvaluedollarcnt', 'taxamount', 'parcelid'])\n",
    "\n",
    "# zillow_2016_merged.head(100)"
   ]
  },
  {
   "cell_type": "code",
   "execution_count": null,
   "metadata": {},
   "outputs": [],
   "source": [
    "#more exploratory data analysis - checking distributions and outliers\n",
    "\n",
    "\n",
    "import seaborn as sns\n",
    "sns.set(style=\"whitegrid\")\n",
    "tips = sns.load_dataset(\"tips\")\n",
    "\n",
    "ax = sns.boxplot(x = zillow_2016_merged['regionidzip'])\n",
    "\n",
    "ax\n",
    "\n"
   ]
  },
  {
   "cell_type": "code",
   "execution_count": null,
   "metadata": {},
   "outputs": [],
   "source": [
    "zillow_2016_merged['regionidzip'].hist()"
   ]
  },
  {
   "cell_type": "code",
   "execution_count": null,
   "metadata": {},
   "outputs": [],
   "source": [
    "#Checking for outliers using IQR\n",
    "\n",
    "\n",
    "value_counts_zip = zillow_2016_merged['regionidzip'].value_counts()\n",
    "\n",
    "value_counts_zip\n",
    "\n",
    "q1_regionidzip = np.percentile(value_counts_zip, 25)\n",
    "\n",
    "q1_regionidzip #remove zipcodes occuring less than 35 times\n",
    "\n",
    "q3_regionidzip = np.percentile(value_counts_zip, 75)\n",
    "\n",
    "iqr_zip = q3_regionidzip - q1_regionidzip\n",
    "\n",
    "#iqr_zip = 176\n",
    "\n",
    "upper_fence_zip = q3_regionidzip + (3 * iqr_zip)\n",
    "lower_fence_zip = q1_regionidzip  - (3 * iqr_zip)\n",
    "\n",
    "upper_fence_zip\n",
    "lower_fence_zip\n",
    "\n",
    "q1_regionidzip"
   ]
  },
  {
   "cell_type": "code",
   "execution_count": null,
   "metadata": {},
   "outputs": [],
   "source": [
    "#eliminating outliers\n",
    "\n",
    "# vc = zillow_2016_merged['regionidzip'].value_counts()\n",
    "# u  = [i not in set(vc[vc<35].index) for i in zillow_2016_merged['regionidzip']]\n",
    "# zillow_2016_merged = zillow_2016_merged[u]\n",
    "\n",
    "# zillow_2016_merged[zillow_2016_merged['regionidzip'] == 96434]"
   ]
  },
  {
   "cell_type": "code",
   "execution_count": null,
   "metadata": {},
   "outputs": [],
   "source": [
    "zillow_2016_merged['regionidzip'].value_counts()"
   ]
  },
  {
   "cell_type": "code",
   "execution_count": null,
   "metadata": {},
   "outputs": [],
   "source": [
    "boxplot_bedroomcnt = sns.boxplot(x = zillow_2016_merged['bedroomcnt'])\n",
    "\n",
    "boxplot_bedroomcnt"
   ]
  },
  {
   "cell_type": "code",
   "execution_count": null,
   "metadata": {},
   "outputs": [],
   "source": [
    "q1_bedroomcnt = np.percentile(zillow_2016_merged.bedroomcnt, 25)\n",
    "\n",
    "q1_bedroomcnt \n",
    "\n",
    "\n",
    "q3_bedroomcnt = np.percentile(zillow_2016_merged.bedroomcnt, 75)\n",
    "\n",
    "q3_bedroomcnt"
   ]
  },
  {
   "cell_type": "code",
   "execution_count": null,
   "metadata": {},
   "outputs": [],
   "source": [
    "iqr_bedroomcnt = q3_bedroomcnt - q1_bedroomcnt\n",
    "\n",
    "upper_fence_bedroomcnt = q3_bedroomcnt + (3 * iqr_bedroomcnt)\n",
    "\n",
    "lower_fence_bedroomcnt = q1_bedroomcnt  - (3 * iqr_bedroomcnt)"
   ]
  },
  {
   "cell_type": "code",
   "execution_count": null,
   "metadata": {},
   "outputs": [],
   "source": [
    "upper_fence_bedroomcnt\n",
    "\n",
    "lower_fence_bedroomcnt"
   ]
  },
  {
   "cell_type": "code",
   "execution_count": null,
   "metadata": {},
   "outputs": [],
   "source": [
    "len(zillow_2016_merged[zillow_2016_merged['bedroomcnt'] > 6])\n",
    "\n",
    "# #drop bedroom counts higher than 6"
   ]
  },
  {
   "cell_type": "code",
   "execution_count": null,
   "metadata": {},
   "outputs": [],
   "source": [
    "indexNames = zillow_2016_merged[ zillow_2016_merged['bedroomcnt'] > 6 ].index\n",
    "\n",
    "zillow_2016_merged.drop(indexNames, inplace=True)"
   ]
  },
  {
   "cell_type": "code",
   "execution_count": null,
   "metadata": {},
   "outputs": [],
   "source": [
    "zillow_2016_merged['bedroomcnt'].unique()"
   ]
  },
  {
   "cell_type": "code",
   "execution_count": null,
   "metadata": {},
   "outputs": [],
   "source": []
  },
  {
   "cell_type": "code",
   "execution_count": null,
   "metadata": {},
   "outputs": [],
   "source": [
    "boxplot_calculatedfinishedsquarefeet = sns.boxplot(x = zillow_2016_merged['calculatedfinishedsquarefeet'])\n",
    "\n",
    "boxplot_calculatedfinishedsquarefeet\n"
   ]
  },
  {
   "cell_type": "code",
   "execution_count": null,
   "metadata": {},
   "outputs": [],
   "source": [
    "q1_calculatedfinishedsquarefeet = np.percentile(zillow_2016_merged.calculatedfinishedsquarefeet, 25)\n",
    "\n",
    "q1_calculatedfinishedsquarefeet\n",
    "\n",
    "\n",
    "q3_calculatedfinishedsquarefeet = np.percentile(zillow_2016_merged.calculatedfinishedsquarefeet, 75)\n",
    "\n",
    "q3_calculatedfinishedsquarefeet"
   ]
  },
  {
   "cell_type": "code",
   "execution_count": null,
   "metadata": {},
   "outputs": [],
   "source": [
    "iqr_calculatedfinishedsquarefeet = q3_calculatedfinishedsquarefeet - q1_calculatedfinishedsquarefeet\n",
    "\n",
    "iqr_calculatedfinishedsquarefeet\n",
    "\n",
    "upper_fence_calculatedfinishedsquarefeet = q3_calculatedfinishedsquarefeet + (3 * iqr_calculatedfinishedsquarefeet)\n",
    "\n",
    "lower_fence_calculatedfinishedsquarefeet = q1_calculatedfinishedsquarefeet  - (3 * iqr_calculatedfinishedsquarefeet)\n",
    "\n",
    "upper_fence_calculatedfinishedsquarefeet\n",
    "lower_fence_calculatedfinishedsquarefeet"
   ]
  },
  {
   "cell_type": "code",
   "execution_count": null,
   "metadata": {},
   "outputs": [],
   "source": [
    "len(zillow_2016_merged[zillow_2016_merged['calculatedfinishedsquarefeet'] > 4410])"
   ]
  },
  {
   "cell_type": "code",
   "execution_count": null,
   "metadata": {},
   "outputs": [],
   "source": [
    "indexNames = zillow_2016_merged[ zillow_2016_merged['calculatedfinishedsquarefeet'] > 4410 ].index\n",
    "\n",
    "zillow_2016_merged.drop(indexNames, inplace=True)"
   ]
  },
  {
   "cell_type": "code",
   "execution_count": null,
   "metadata": {},
   "outputs": [],
   "source": [
    "zillow_2016_merged['calculatedfinishedsquarefeet'].max()"
   ]
  },
  {
   "cell_type": "code",
   "execution_count": null,
   "metadata": {},
   "outputs": [],
   "source": [
    "boxplot_calculatedfinishedsquarefeet = sns.boxplot(x = zillow_2016_merged['calculatedfinishedsquarefeet'])\n",
    "\n",
    "boxplot_calculatedfinishedsquarefeet\n"
   ]
  },
  {
   "cell_type": "code",
   "execution_count": null,
   "metadata": {},
   "outputs": [],
   "source": [
    "boxplot_lotsizesquarefeet = sns.boxplot(x = zillow_2016_merged['lotsizesquarefeet'])\n",
    "\n",
    "boxplot_lotsizesquarefeet\n",
    "\n",
    "\n"
   ]
  },
  {
   "cell_type": "code",
   "execution_count": null,
   "metadata": {},
   "outputs": [],
   "source": [
    "q1_lotsizesquarefeet = np.percentile(zillow_2016_merged.lotsizesquarefeet, 25)\n",
    "\n",
    "\n",
    "q3_lotsizesquarefeet = np.percentile(zillow_2016_merged.lotsizesquarefeet, 75)\n",
    "\n",
    "\n",
    "iqr_lotsizesquarefeet = q3_lotsizesquarefeet - q1_lotsizesquarefeet\n",
    "\n",
    "upper_fence_lotsizesquarefeet = q3_lotsizesquarefeet + (3 * iqr_lotsizesquarefeet)\n",
    "\n",
    "lower_fence_lotsizesquarefeet = q1_lotsizesquarefeet  - (3 * iqr_lotsizesquarefeet)\n",
    "\n",
    "\n",
    "upper_fence_lotsizesquarefeet\n",
    "\n",
    "lower_fence_lotsizesquarefeet"
   ]
  },
  {
   "cell_type": "code",
   "execution_count": null,
   "metadata": {},
   "outputs": [],
   "source": [
    "len(zillow_2016_merged[zillow_2016_merged['lotsizesquarefeet'] > 62961])\n",
    "indexNames = zillow_2016_merged[ zillow_2016_merged['lotsizesquarefeet'] > 62961 ].index\n",
    "\n",
    "zillow_2016_merged.drop(indexNames, inplace=True)"
   ]
  },
  {
   "cell_type": "code",
   "execution_count": null,
   "metadata": {},
   "outputs": [],
   "source": [
    "zillow_2016_merged['lotsizesquarefeet'].max()\n"
   ]
  },
  {
   "cell_type": "code",
   "execution_count": null,
   "metadata": {},
   "outputs": [],
   "source": [
    "zillow_2016_merged['calculatedfinishedsquarefeet'].hist()"
   ]
  },
  {
   "cell_type": "code",
   "execution_count": null,
   "metadata": {},
   "outputs": [],
   "source": [
    "zillow_2016_merged['yearbuilt'].hist()"
   ]
  },
  {
   "cell_type": "code",
   "execution_count": null,
   "metadata": {},
   "outputs": [],
   "source": [
    "zillow_2016_merged = zillow_2016_merged.drop(columns=['numberofstories'])\n",
    "\n",
    "zillow_2016_merged"
   ]
  },
  {
   "cell_type": "code",
   "execution_count": null,
   "metadata": {},
   "outputs": [],
   "source": [
    "zillow_2016_merged = zillow_2016_merged.drop(columns=['unitcnt'])\n",
    "\n",
    "# zillow_2016_merged"
   ]
  },
  {
   "cell_type": "code",
   "execution_count": null,
   "metadata": {},
   "outputs": [],
   "source": [
    "# zillow_2016_merged.head()"
   ]
  },
  {
   "cell_type": "code",
   "execution_count": null,
   "metadata": {},
   "outputs": [],
   "source": [
    "#Cleaning categorical variables - replacing \"Yes or No\" values with numerical \n",
    "\n",
    "zillow_2016_merged['taxdelinquencyflag'] = zillow_2016_merged['taxdelinquencyflag'].replace('Y', 1)\n",
    "zillow_2016_merged['taxdelinquencyflag'] = zillow_2016_merged['taxdelinquencyflag'].replace('N', 0)"
   ]
  },
  {
   "cell_type": "code",
   "execution_count": null,
   "metadata": {},
   "outputs": [],
   "source": [
    "# zillow_2016_merged = zillow_2016_merged.drop(columns=['assessmentyear'])\n",
    "\n",
    "# zillow_2016_merged"
   ]
  },
  {
   "cell_type": "code",
   "execution_count": null,
   "metadata": {},
   "outputs": [],
   "source": [
    "#did one hot encoding to transform categorical variable to numerical\n",
    "\n",
    "zillow_2016_merged = pd.get_dummies(zillow_2016_merged, columns=[\"heatingorsystemtypeid\"])\n",
    "\n",
    "# zillow_2016_merged"
   ]
  },
  {
   "cell_type": "code",
   "execution_count": null,
   "metadata": {},
   "outputs": [],
   "source": [
    "indexNames8 = zillow_2016_merged[ zillow_2016_merged['buildingqualitytypeid'] == 8].index\n",
    "\n",
    "indexNames8\n"
   ]
  },
  {
   "cell_type": "code",
   "execution_count": null,
   "metadata": {},
   "outputs": [],
   "source": [
    "zillow_2016_merged.drop(indexNames8, inplace=True)\n",
    "\n",
    "zillow_2016_merged['buildingqualitytypeid'].value_counts()"
   ]
  },
  {
   "cell_type": "code",
   "execution_count": null,
   "metadata": {},
   "outputs": [],
   "source": [
    "indexNames12 = zillow_2016_merged[ zillow_2016_merged['buildingqualitytypeid'] == 12].index\n",
    "\n",
    "zillow_2016_merged.drop(indexNames12, inplace=True)\n",
    "\n",
    "zillow_2016_merged['buildingqualitytypeid'].value_counts()"
   ]
  },
  {
   "cell_type": "code",
   "execution_count": null,
   "metadata": {},
   "outputs": [],
   "source": [
    "valuecounts = zillow_2016_merged['propertycountylandusecode'].value_counts()\n",
    "\n",
    "zillow_2016_merged['propertycountylandusecode'].value_counts()\n",
    "\n",
    "sum(valuecounts)\n",
    "\n",
    "landusecode_ValueCounts = zillow_2016_merged['propertycountylandusecode'].value_counts()\n",
    "\n",
    "vc = zillow_2016_merged['propertycountylandusecode'].value_counts()\n",
    "u  = [i not in set(vc[vc<51].index) for i in zillow_2016_merged['propertycountylandusecode']]\n",
    "zillow_2016_merged = zillow_2016_merged[u]"
   ]
  },
  {
   "cell_type": "code",
   "execution_count": null,
   "metadata": {},
   "outputs": [],
   "source": [
    "zillow_2016_merged['propertycountylandusecode'].value_counts()"
   ]
  },
  {
   "cell_type": "code",
   "execution_count": null,
   "metadata": {},
   "outputs": [],
   "source": [
    "zillow_2016_merged = pd.get_dummies(zillow_2016_merged, columns=[\"propertycountylandusecode\"])"
   ]
  },
  {
   "cell_type": "code",
   "execution_count": null,
   "metadata": {},
   "outputs": [],
   "source": [
    "zillow_2016_merged = pd.get_dummies(zillow_2016_merged, columns=[\"propertylandusetypeid\"])"
   ]
  },
  {
   "cell_type": "code",
   "execution_count": null,
   "metadata": {},
   "outputs": [],
   "source": [
    "zillow_2016_merged['propertyzoningdesc'].value_counts()\n",
    "\n",
    "vc = zillow_2016_merged['propertyzoningdesc'].value_counts()\n",
    "u  = [i not in set(vc[vc<100].index) for i in zillow_2016_merged['propertyzoningdesc']]\n",
    "zillow_2016_merged = zillow_2016_merged[u]"
   ]
  },
  {
   "cell_type": "code",
   "execution_count": null,
   "metadata": {},
   "outputs": [],
   "source": [
    "zillow_2016_merged['propertyzoningdesc'].value_counts()"
   ]
  },
  {
   "cell_type": "code",
   "execution_count": null,
   "metadata": {},
   "outputs": [],
   "source": [
    "# zillow_2016_merged.head(100)"
   ]
  },
  {
   "cell_type": "code",
   "execution_count": null,
   "metadata": {},
   "outputs": [],
   "source": [
    "zillow_2016_merged.shape"
   ]
  },
  {
   "cell_type": "code",
   "execution_count": null,
   "metadata": {},
   "outputs": [],
   "source": []
  },
  {
   "cell_type": "code",
   "execution_count": null,
   "metadata": {},
   "outputs": [],
   "source": [
    "zillow_2016_merged['transactiondate']"
   ]
  },
  {
   "cell_type": "code",
   "execution_count": null,
   "metadata": {},
   "outputs": [],
   "source": [
    "zillow_2016_merged['transactiondate'] = pd.to_numeric(zillow_2016_merged.transactiondate.str.replace('-',''))"
   ]
  },
  {
   "cell_type": "code",
   "execution_count": null,
   "metadata": {},
   "outputs": [],
   "source": [
    "from datetime import datetime\n"
   ]
  },
  {
   "cell_type": "code",
   "execution_count": null,
   "metadata": {},
   "outputs": [],
   "source": [
    "zillow_2016_merged['transactiondate'].unique()"
   ]
  },
  {
   "cell_type": "code",
   "execution_count": null,
   "metadata": {},
   "outputs": [],
   "source": [
    "zillow_2016_merged['transactiondate'].dtype"
   ]
  },
  {
   "cell_type": "code",
   "execution_count": null,
   "metadata": {},
   "outputs": [],
   "source": [
    "zillow_2016_merged['transactiondate'] = zillow_2016_merged['transactiondate'].astype(str)"
   ]
  },
  {
   "cell_type": "code",
   "execution_count": null,
   "metadata": {},
   "outputs": [],
   "source": [
    "zillow_2016_merged['transactiondate'].dtype"
   ]
  },
  {
   "cell_type": "code",
   "execution_count": null,
   "metadata": {},
   "outputs": [],
   "source": [
    "zillow_2016_merged['transactiondate'] = zillow_2016_merged['transactiondate'].str[4:]"
   ]
  },
  {
   "cell_type": "code",
   "execution_count": null,
   "metadata": {},
   "outputs": [],
   "source": [
    "zillow_2016_merged['transactiondate'].unique()\n"
   ]
  },
  {
   "cell_type": "code",
   "execution_count": null,
   "metadata": {},
   "outputs": [],
   "source": [
    "zillow_2016_merged['transactiondate'] = zillow_2016_merged['transactiondate'].str[:2]"
   ]
  },
  {
   "cell_type": "code",
   "execution_count": null,
   "metadata": {},
   "outputs": [],
   "source": [
    "zillow_2016_merged['transactiondate'].unique()"
   ]
  },
  {
   "cell_type": "code",
   "execution_count": null,
   "metadata": {},
   "outputs": [],
   "source": [
    "zillow_2016_merged['transactiondate'] = zillow_2016_merged['transactiondate'].astype('int')"
   ]
  },
  {
   "cell_type": "code",
   "execution_count": null,
   "metadata": {},
   "outputs": [],
   "source": [
    "zillow_2016_merged['transactiondate'].dtype"
   ]
  },
  {
   "cell_type": "code",
   "execution_count": null,
   "metadata": {},
   "outputs": [],
   "source": [
    "zillow_2016_merged['transactiondate'].unique()"
   ]
  },
  {
   "cell_type": "code",
   "execution_count": null,
   "metadata": {},
   "outputs": [],
   "source": [
    "pd.set_option('display.max_columns', None)\n",
    "\n",
    "# zillow_2016_merged.head(100)"
   ]
  },
  {
   "cell_type": "code",
   "execution_count": null,
   "metadata": {},
   "outputs": [],
   "source": [
    "zillow_2016_merged['propertyzoningdesc'].unique()"
   ]
  },
  {
   "cell_type": "code",
   "execution_count": null,
   "metadata": {},
   "outputs": [],
   "source": [
    "zillow_2016_merged['regionidcity'].unique()"
   ]
  },
  {
   "cell_type": "code",
   "execution_count": null,
   "metadata": {},
   "outputs": [],
   "source": [
    "zillow_2016_merged['regionidcounty'].unique()"
   ]
  },
  {
   "cell_type": "code",
   "execution_count": null,
   "metadata": {},
   "outputs": [],
   "source": [
    "zillow_2016_merged['regionidneighborhood'].unique()"
   ]
  },
  {
   "cell_type": "code",
   "execution_count": null,
   "metadata": {},
   "outputs": [],
   "source": [
    "zillow_2016_merged['regionidzip'].unique()"
   ]
  },
  {
   "cell_type": "code",
   "execution_count": null,
   "metadata": {},
   "outputs": [],
   "source": [
    "#check to see if more x variables can be dropped\n",
    "\n",
    "zillow_2016_merged.corr()"
   ]
  },
  {
   "cell_type": "code",
   "execution_count": null,
   "metadata": {},
   "outputs": [],
   "source": [
    "import seaborn as sns\n",
    "import matplotlib.pyplot as plt\n",
    "\n",
    "f, ax = plt.subplots(figsize=(10,10))\n",
    "\n",
    "heatmap = sns.heatmap(zillow_2016_merged.corr())\n",
    "\n",
    "heatmap"
   ]
  },
  {
   "cell_type": "code",
   "execution_count": null,
   "metadata": {},
   "outputs": [],
   "source": [
    "pd.set_option('display.max_rows', None)\n",
    "\n",
    "# zillow_2016_merged['yearbuilt'] = zillow_2016_merged['yearbuilt'].astype('int')\n",
    "\n",
    "vc = zillow_2016_merged['yearbuilt'].value_counts()\n",
    "zillow_2016_merged['yearbuilt'].dtype\n",
    "\n",
    "\n",
    "#decided to drop homes built before 1935 (Great Depression)\n",
    "\n",
    "indexNames = zillow_2016_merged[ zillow_2016_merged['yearbuilt'] <1935].index\n",
    " \n",
    "zillow_2016_merged.drop(indexNames , inplace=True)\n",
    "\n",
    "zillow_2016_merged['yearbuilt'].value_counts()\n",
    "\n",
    "\n",
    "           "
   ]
  },
  {
   "cell_type": "code",
   "execution_count": null,
   "metadata": {},
   "outputs": [],
   "source": [
    "zillow_2016_merged.head()"
   ]
  },
  {
   "cell_type": "code",
   "execution_count": null,
   "metadata": {},
   "outputs": [],
   "source": [
    "zillow_2016_merged.shape"
   ]
  },
  {
   "cell_type": "code",
   "execution_count": null,
   "metadata": {},
   "outputs": [],
   "source": [
    "zillow_2016_new = zillow_2016_merged.drop(columns=['transactiondate', 'regionidzip', 'propertyzoningdesc', 'rawcensustractandblock', 'latitude', 'longitude', 'regionidcounty', 'regionidneighborhood'])\n",
    "\n",
    "zillow_2016_new.head(100)"
   ]
  },
  {
   "cell_type": "code",
   "execution_count": null,
   "metadata": {},
   "outputs": [],
   "source": [
    "zillow_2016_new.shape"
   ]
  },
  {
   "cell_type": "code",
   "execution_count": null,
   "metadata": {},
   "outputs": [],
   "source": [
    "zillow_2016_new = pd.get_dummies(zillow_2016_new, columns=[\"regionidcity\"])"
   ]
  },
  {
   "cell_type": "code",
   "execution_count": null,
   "metadata": {},
   "outputs": [],
   "source": [
    "zillow_2016_new.head()"
   ]
  },
  {
   "cell_type": "code",
   "execution_count": null,
   "metadata": {},
   "outputs": [],
   "source": []
  },
  {
   "cell_type": "code",
   "execution_count": null,
   "metadata": {},
   "outputs": [],
   "source": [
    "zillow_2016_new['buildingqualitytypeid'].dtype"
   ]
  },
  {
   "cell_type": "code",
   "execution_count": null,
   "metadata": {},
   "outputs": [],
   "source": [
    "zillow_2016_new[ zillow_2016_new['propertylandusetypeid_269'] == 1 ]"
   ]
  },
  {
   "cell_type": "markdown",
   "metadata": {},
   "source": [
    "# Normalizing Data"
   ]
  },
  {
   "cell_type": "code",
   "execution_count": null,
   "metadata": {},
   "outputs": [],
   "source": [
    "from sklearn.preprocessing import MinMaxScaler\n",
    "\n",
    "import pandas as pd\n",
    "from sklearn import preprocessing\n",
    "\n",
    "\n",
    "column_names_to_normalize = ['bedroomcnt', 'buildingqualitytypeid', 'calculatedfinishedsquarefeet', 'lotsizesquarefeet', 'poolcnt', 'structuretaxvaluedollarcnt', 'landtaxvaluedollarcnt']\n",
    "\n",
    "column_names_to_normalize\n",
    "\n",
    "\n",
    "x = zillow_2016_new[column_names_to_normalize].values\n",
    "\n",
    "x\n",
    "\n",
    "min_max_scaler = preprocessing.MinMaxScaler()\n",
    "\n",
    "x_scaled = min_max_scaler.fit_transform(x)\n",
    "\n",
    "x_scaled\n",
    "\n",
    "\n",
    "\n",
    "a = pd.DataFrame(x_scaled)\n",
    "\n",
    "a.values\n",
    "\n",
    "# zillow_2016_new[['bedroomcnt', 'buildingqualitytypeid', 'calculatedfinishedsquarefeet', 'lotsizesquarefeet', 'poolcnt', 'structuretaxvaluedollarcnt', 'landtaxvaluedollarcnt']] = a.values\n",
    "\n",
    "\n",
    "a.shape\n",
    "\n",
    "\n",
    "\n",
    "\n",
    "\n",
    "\n",
    "\n",
    "\n",
    "\n"
   ]
  },
  {
   "cell_type": "code",
   "execution_count": null,
   "metadata": {},
   "outputs": [],
   "source": [
    "zillow_2016_new.head(100)"
   ]
  },
  {
   "cell_type": "code",
   "execution_count": null,
   "metadata": {},
   "outputs": [],
   "source": [
    "zillow_2016_new.shape"
   ]
  },
  {
   "cell_type": "markdown",
   "metadata": {},
   "source": [
    "# Transform \"year\" values into decades"
   ]
  },
  {
   "cell_type": "code",
   "execution_count": null,
   "metadata": {},
   "outputs": [],
   "source": [
    "zillow_2016_new['yearbuilt'] = zillow_2016_new['yearbuilt'].astype('category')"
   ]
  },
  {
   "cell_type": "code",
   "execution_count": null,
   "metadata": {},
   "outputs": [],
   "source": [
    "zillow_2016_new['yearbuilt'].dtype"
   ]
  },
  {
   "cell_type": "code",
   "execution_count": null,
   "metadata": {},
   "outputs": [],
   "source": [
    "zillow_2016_new['yearbuilt'] = zillow_2016_new['yearbuilt'].astype('str')"
   ]
  },
  {
   "cell_type": "code",
   "execution_count": null,
   "metadata": {},
   "outputs": [],
   "source": [
    "pd.set_option('display.max_columns', None)\n",
    "\n",
    "listofyears = list(zillow_2016_new['yearbuilt'].unique())\n",
    "\n",
    "listofyears"
   ]
  },
  {
   "cell_type": "code",
   "execution_count": null,
   "metadata": {},
   "outputs": [],
   "source": [
    "zillow_2016_new['yearbuilt'] = zillow_2016_new['yearbuilt'].astype('int')"
   ]
  },
  {
   "cell_type": "code",
   "execution_count": null,
   "metadata": {},
   "outputs": [],
   "source": [
    "indexNames = zillow_2016_new[ zillow_2016_new['yearbuilt'] <1935].index\n",
    " \n",
    "zillow_2016_new.drop(indexNames , inplace=True)\n",
    "\n",
    "zillow_2016_new['yearbuilt'].value_counts()\n"
   ]
  },
  {
   "cell_type": "code",
   "execution_count": null,
   "metadata": {},
   "outputs": [],
   "source": [
    "zillow_2016_new['yearbuilt'] = zillow_2016_new['yearbuilt'].astype('str')"
   ]
  },
  {
   "cell_type": "code",
   "execution_count": null,
   "metadata": {},
   "outputs": [],
   "source": [
    "zillow_2016_new['yearbuilt'] = (zillow_2016_new.yearbuilt.replace({'195':'1950'}, regex=True))\n"
   ]
  },
  {
   "cell_type": "code",
   "execution_count": null,
   "metadata": {},
   "outputs": [],
   "source": [
    "zillow_2016_new['yearbuilt'].unique()"
   ]
  },
  {
   "cell_type": "code",
   "execution_count": null,
   "metadata": {},
   "outputs": [],
   "source": [
    "zillow_2016_new['yearbuilt'] = (zillow_2016_new.yearbuilt.replace({'193':'1930'}, regex=True))"
   ]
  },
  {
   "cell_type": "code",
   "execution_count": null,
   "metadata": {},
   "outputs": [],
   "source": [
    "zillow_2016_new['yearbuilt'] = (zillow_2016_new.yearbuilt.replace({'194':'1940'}, regex=True))"
   ]
  },
  {
   "cell_type": "code",
   "execution_count": null,
   "metadata": {},
   "outputs": [],
   "source": [
    "zillow_2016_new['yearbuilt'] = (zillow_2016_new.yearbuilt.replace({'196':'1960'}, regex=True))"
   ]
  },
  {
   "cell_type": "code",
   "execution_count": null,
   "metadata": {},
   "outputs": [],
   "source": [
    "zillow_2016_new['yearbuilt'] = (zillow_2016_new.yearbuilt.replace({'197':'1970'}, regex=True))"
   ]
  },
  {
   "cell_type": "code",
   "execution_count": null,
   "metadata": {},
   "outputs": [],
   "source": [
    "zillow_2016_new['yearbuilt'] = (zillow_2016_new.yearbuilt.replace({'198':'1980'}, regex=True))"
   ]
  },
  {
   "cell_type": "code",
   "execution_count": null,
   "metadata": {},
   "outputs": [],
   "source": [
    "zillow_2016_new['yearbuilt'] = (zillow_2016_new.yearbuilt.replace({'199':'1990'}, regex=True))"
   ]
  },
  {
   "cell_type": "code",
   "execution_count": null,
   "metadata": {},
   "outputs": [],
   "source": [
    "zillow_2016_new['yearbuilt'] = (zillow_2016_new.yearbuilt.replace({'20':'2000'}, regex=True))"
   ]
  },
  {
   "cell_type": "code",
   "execution_count": null,
   "metadata": {},
   "outputs": [],
   "source": [
    "zillow_2016_new['yearbuilt'] = (zillow_2016_new.yearbuilt.replace({'201':'2010'}, regex=True))"
   ]
  },
  {
   "cell_type": "code",
   "execution_count": null,
   "metadata": {},
   "outputs": [],
   "source": [
    "zillow_2016_new['yearbuilt'].unique()"
   ]
  },
  {
   "cell_type": "code",
   "execution_count": null,
   "metadata": {},
   "outputs": [],
   "source": [
    "zillow_2016_new['yearbuilt'] = zillow_2016_new['yearbuilt'].astype(str).str[:-1]"
   ]
  },
  {
   "cell_type": "code",
   "execution_count": null,
   "metadata": {},
   "outputs": [],
   "source": [
    "zillow_2016_new['yearbuilt']"
   ]
  },
  {
   "cell_type": "code",
   "execution_count": null,
   "metadata": {},
   "outputs": [],
   "source": [
    "zillow_2016_new['yearbuilt'] = (zillow_2016_new.yearbuilt.replace({'19500':'1950'}, regex=True))"
   ]
  },
  {
   "cell_type": "code",
   "execution_count": null,
   "metadata": {},
   "outputs": [],
   "source": [
    "zillow_2016_new['yearbuilt'].unique()"
   ]
  },
  {
   "cell_type": "code",
   "execution_count": null,
   "metadata": {},
   "outputs": [],
   "source": [
    "zillow_2016_new['yearbuilt'] = (zillow_2016_new.yearbuilt.replace({'20000':'2000'}, regex=True))"
   ]
  },
  {
   "cell_type": "code",
   "execution_count": null,
   "metadata": {},
   "outputs": [],
   "source": [
    "zillow_2016_new['yearbuilt'] = (zillow_2016_new.yearbuilt.replace({'20001':'2010'}, regex=True))"
   ]
  },
  {
   "cell_type": "code",
   "execution_count": null,
   "metadata": {},
   "outputs": [],
   "source": [
    "zillow_2016_new['yearbuilt'].unique()"
   ]
  },
  {
   "cell_type": "code",
   "execution_count": null,
   "metadata": {},
   "outputs": [],
   "source": [
    "zillow_2016_new['yearbuilt'] = zillow_2016_new['yearbuilt'].astype('category')"
   ]
  },
  {
   "cell_type": "code",
   "execution_count": null,
   "metadata": {},
   "outputs": [],
   "source": [
    "zillow_2016_new = pd.get_dummies(zillow_2016_new, columns=[\"yearbuilt\"])\n",
    "\n",
    "zillow_2016_new.head(100)"
   ]
  },
  {
   "cell_type": "code",
   "execution_count": null,
   "metadata": {},
   "outputs": [],
   "source": [
    "zillow_2016_new.shape"
   ]
  },
  {
   "cell_type": "code",
   "execution_count": null,
   "metadata": {},
   "outputs": [],
   "source": [
    "zillow_2016_new.columns"
   ]
  },
  {
   "cell_type": "markdown",
   "metadata": {},
   "source": [
    "# Train Test Split "
   ]
  },
  {
   "cell_type": "code",
   "execution_count": null,
   "metadata": {},
   "outputs": [],
   "source": [
    "x = zillow_2016_new[zillow_2016_new.columns].drop(columns = [\"logerror\"])\n",
    "\n",
    "x\n",
    "\n",
    "y =zillow_2016_new[\"logerror\"]\n",
    "\n",
    "y"
   ]
  },
  {
   "cell_type": "code",
   "execution_count": null,
   "metadata": {},
   "outputs": [],
   "source": [
    "from sklearn.model_selection import train_test_split\n",
    "\n",
    "#split the data into 80% training data and 20% testing data\n",
    "\n",
    "x_train, x_test, y_train, y_test = train_test_split(x,y,train_size = .8)"
   ]
  },
  {
   "cell_type": "code",
   "execution_count": null,
   "metadata": {},
   "outputs": [],
   "source": [
    "x_train.shape"
   ]
  },
  {
   "cell_type": "markdown",
   "metadata": {},
   "source": [
    "# Principal Component Analysis"
   ]
  },
  {
   "cell_type": "code",
   "execution_count": null,
   "metadata": {},
   "outputs": [],
   "source": [
    "from sklearn.decomposition import PCA\n",
    "import matplotlib.pyplot as plt\n",
    "\n",
    "#did PCA on numerical variables to see if amount of variables could be refined even further...\n",
    "\n",
    "\n",
    "pca_zillow = PCA(n_components=7)\n",
    "\n",
    "\n",
    "principalComponents_zillow = pca_zillow.fit_transform(a)\n",
    "\n",
    "principalComponents_zillow\n"
   ]
  },
  {
   "cell_type": "code",
   "execution_count": null,
   "metadata": {},
   "outputs": [],
   "source": [
    "pca_zillow"
   ]
  },
  {
   "cell_type": "code",
   "execution_count": null,
   "metadata": {},
   "outputs": [],
   "source": [
    "pca = PCA()\n",
    "pca.fit(a)"
   ]
  },
  {
   "cell_type": "code",
   "execution_count": null,
   "metadata": {},
   "outputs": [],
   "source": [
    "variations = pca.explained_variance_ratio_*100\n",
    "variations = np.round(variations, decimals=1)\n",
    "variations"
   ]
  },
  {
   "cell_type": "code",
   "execution_count": null,
   "metadata": {},
   "outputs": [],
   "source": [
    "plot_labels = ['PC'+str(i) for i in range(1,len(variations)+1)]\n",
    "?plot_labels"
   ]
  },
  {
   "cell_type": "code",
   "execution_count": null,
   "metadata": {},
   "outputs": [],
   "source": [
    "from matplotlib.pyplot import figure\n",
    "figure(figsize=(20,5))\n",
    "plt.bar(x = plot_labels, height=variations)\n",
    "plt.xlabel('Principal Components')\n",
    "plt.ylabel('Variance Explained')\n",
    "plt.title('PCA Scree Plot')"
   ]
  },
  {
   "cell_type": "code",
   "execution_count": null,
   "metadata": {},
   "outputs": [],
   "source": [
    "zillow_2016_new.columns\n",
    "\n"
   ]
  },
  {
   "cell_type": "code",
   "execution_count": null,
   "metadata": {},
   "outputs": [],
   "source": [
    "from sklearn.decomposition import PCA\n",
    "pca = PCA(n_components=3)\n",
    "principalComponents = pca.fit_transform(x_scaled)\n",
    "principalDf = pd.DataFrame(data = principalComponents\n",
    "             , columns = ['principal component 1', 'principal component 2', 'principal component 3'])"
   ]
  },
  {
   "cell_type": "code",
   "execution_count": null,
   "metadata": {},
   "outputs": [],
   "source": [
    "pca = PCA().fit(principalComponents_zillow)\n",
    "#Plotting the Cumulative Summation of the Explained Variance\n",
    "plt.figure()\n",
    "plt.plot(np.cumsum(pca.explained_variance_ratio_))\n",
    "plt.xlabel('Number of Components')\n",
    "plt.ylabel('Variance (%)') #for each component\n",
    "plt.title('Zillow Dataset Explained Variance')\n",
    "plt.show()"
   ]
  },
  {
   "cell_type": "code",
   "execution_count": null,
   "metadata": {},
   "outputs": [],
   "source": [
    "principalComponents_zillow"
   ]
  },
  {
   "cell_type": "code",
   "execution_count": null,
   "metadata": {},
   "outputs": [],
   "source": [
    "principal_zillow_Df = pd.DataFrame(data = principalComponents_zillow, columns = ['PC 1', 'PC 2', 'PC 3', 'PC 4', 'PC 5', 'PC 6', 'PC 7'])\n",
    "\n",
    "principal_zillow_Df\n",
    "\n",
    "                      \n",
    "                         \n",
    "                         \n",
    "                         \n",
    "                         "
   ]
  },
  {
   "cell_type": "code",
   "execution_count": null,
   "metadata": {},
   "outputs": [],
   "source": [
    "principal_zillow_Df.tail()"
   ]
  },
  {
   "cell_type": "code",
   "execution_count": null,
   "metadata": {},
   "outputs": [],
   "source": [
    "print('Explained variation per principal component: {}'.format(pca_zillow.explained_variance_ratio_))"
   ]
  },
  {
   "cell_type": "code",
   "execution_count": null,
   "metadata": {},
   "outputs": [],
   "source": [
    "pca_new = PCA(n_components=4)\n",
    "\n",
    "pca_new\n",
    "# zillow_dataset = pca_new.fit_transform(x_scaled)"
   ]
  },
  {
   "cell_type": "code",
   "execution_count": null,
   "metadata": {},
   "outputs": [],
   "source": [
    "#picked the top 4 principal components, as the top 4 explain over 95% of the variation in y\n",
    "\n",
    "top_pca = principal_zillow_Df.iloc[:, : 4]"
   ]
  },
  {
   "cell_type": "code",
   "execution_count": null,
   "metadata": {},
   "outputs": [],
   "source": [
    "top_pca"
   ]
  },
  {
   "cell_type": "code",
   "execution_count": null,
   "metadata": {},
   "outputs": [],
   "source": [
    "#concatenate with categorical variables"
   ]
  },
  {
   "cell_type": "code",
   "execution_count": null,
   "metadata": {},
   "outputs": [],
   "source": [
    "taxdelinquencyflag\n",
    "airconditioningtypeid\n",
    "hashottuborspa\n",
    "regionidcity_45457\n",
    "regionidcity_46298\n",
    "regionidcity_47019\n",
    "regionidcity_48424\n",
    "regionidcity_51617\n",
    "regionidcity_51861\n",
    "regionidcity_54299\n",
    "regionidcity_54311\n",
    "regionidcity_54722\n",
    "regionidcity_396054\n",
    "yearbuilt_1930\n",
    "yearbuilt_1940\n",
    "yearbuilt_1950\n",
    "yearbuilt_1960\n",
    "yearbuilt_1970\n",
    "yearbuilt_1980\n",
    "yearbuilt_1990\n",
    "yearbuilt_2000\n",
    "yearbuilt_2010"
   ]
  },
  {
   "cell_type": "code",
   "execution_count": null,
   "metadata": {},
   "outputs": [],
   "source": [
    "categorical_columns = ['taxdelinquencyflag', 'airconditioningtypeid', 'hashottuborspa', 'regionidcity_45457',\n",
    "                      'regionidcity_46298', 'regionidcity_47019', 'regionidcity_51617',\n",
    "                      'regionidcity_54299', 'regionidcity_54311', 'regionidcity_54722',\n",
    "                       'yearbuilt_1930', 'yearbuilt_1940', 'yearbuilt_1950', 'yearbuilt_1960',\n",
    "                      'yearbuilt_1970', 'yearbuilt_1980', 'yearbuilt_1990', 'yearbuilt_2000', 'yearbuilt_2010']"
   ]
  },
  {
   "cell_type": "code",
   "execution_count": null,
   "metadata": {},
   "outputs": [],
   "source": [
    "\n",
    "categorical = zillow_2016_new[categorical_columns].values\n",
    "\n",
    "categorical\n",
    "\n",
    "categorical_df = pd.DataFrame(categorical, columns = ['taxdelinquencyflag', 'airconditioningtypeid', 'hashottuborspa', 'regionidcity_45457',\n",
    "                      'regionidcity_46298', 'regionidcity_47019', 'regionidcity_51617',\n",
    "                      'regionidcity_54299', 'regionidcity_54311', 'regionidcity_54722',\n",
    "                       'yearbuilt_1930', 'yearbuilt_1940', 'yearbuilt_1950', 'yearbuilt_1960',\n",
    "                      'yearbuilt_1970', 'yearbuilt_1980', 'yearbuilt_1990', 'yearbuilt_2000', 'yearbuilt_2010'])\n",
    "\n",
    "categorical_df\n",
    "\n"
   ]
  },
  {
   "cell_type": "code",
   "execution_count": null,
   "metadata": {},
   "outputs": [],
   "source": [
    "top_pca.shape"
   ]
  },
  {
   "cell_type": "code",
   "execution_count": null,
   "metadata": {},
   "outputs": [],
   "source": [
    "categorical_df.shape"
   ]
  },
  {
   "cell_type": "code",
   "execution_count": null,
   "metadata": {},
   "outputs": [],
   "source": [
    "\n",
    "\n",
    "concatenated_result2 = pd.concat([categorical_df, top_pca], axis=1)\n",
    "\n",
    "concatenated_result2.shape"
   ]
  },
  {
   "cell_type": "code",
   "execution_count": null,
   "metadata": {},
   "outputs": [],
   "source": [
    "concatenated_result2.head()"
   ]
  },
  {
   "cell_type": "code",
   "execution_count": null,
   "metadata": {},
   "outputs": [],
   "source": [
    "concatenated_result2 = pd.concat([categorical_df, top_pca], axis=1)"
   ]
  },
  {
   "cell_type": "code",
   "execution_count": null,
   "metadata": {},
   "outputs": [],
   "source": [
    "y = zillow_2016_new['logerror'].values\n",
    "\n",
    "\n",
    "\n",
    "y_df = pd.DataFrame(y, columns = ['logerror'])\n",
    "\n",
    "y_df"
   ]
  },
  {
   "cell_type": "code",
   "execution_count": null,
   "metadata": {},
   "outputs": [],
   "source": [
    "concatenated_result2 = pd.concat([categorical_df, top_pca], axis=1)"
   ]
  },
  {
   "cell_type": "code",
   "execution_count": null,
   "metadata": {},
   "outputs": [],
   "source": [
    "concat_x_y = pd.concat([y_df, concatenated_result2], axis=1)\n",
    "pd.set_option('display.max_columns', None)\n",
    "concat_x_y.head()"
   ]
  },
  {
   "cell_type": "code",
   "execution_count": null,
   "metadata": {},
   "outputs": [],
   "source": [
    "concat_x_y.shape"
   ]
  },
  {
   "cell_type": "markdown",
   "metadata": {},
   "source": [
    "# Linear Regression"
   ]
  },
  {
   "cell_type": "code",
   "execution_count": null,
   "metadata": {},
   "outputs": [],
   "source": [
    "from sklearn import linear_model\n",
    "from sklearn import metrics\n",
    "from sklearn.linear_model import LinearRegression\n"
   ]
  },
  {
   "cell_type": "code",
   "execution_count": null,
   "metadata": {},
   "outputs": [],
   "source": [
    "linearregression_model = linear_model.LinearRegression()"
   ]
  },
  {
   "cell_type": "code",
   "execution_count": null,
   "metadata": {},
   "outputs": [],
   "source": [
    "regressor = LinearRegression()  \n",
    "regressor.fit(x_train, y_train)"
   ]
  },
  {
   "cell_type": "code",
   "execution_count": null,
   "metadata": {},
   "outputs": [],
   "source": [
    "coeff_df = pd.DataFrame(regressor.coef_, x.columns, columns=['Coefficient'])  \n",
    "coeff_df"
   ]
  },
  {
   "cell_type": "code",
   "execution_count": null,
   "metadata": {},
   "outputs": [],
   "source": [
    "y_pred = regressor.predict(x_test)\n",
    "\n",
    "y_pred"
   ]
  },
  {
   "cell_type": "code",
   "execution_count": null,
   "metadata": {},
   "outputs": [],
   "source": [
    "df = pd.DataFrame({'Actual': y_test, 'Predicted': y_pred})\n",
    "df1 = df.head(25)"
   ]
  },
  {
   "cell_type": "code",
   "execution_count": null,
   "metadata": {},
   "outputs": [],
   "source": [
    "df1"
   ]
  },
  {
   "cell_type": "code",
   "execution_count": null,
   "metadata": {},
   "outputs": [],
   "source": [
    "df1.plot(kind='bar',figsize=(10,8))\n",
    "plt.grid(which='major', linestyle='-', linewidth='0.5', color='green')\n",
    "plt.grid(which='minor', linestyle=':', linewidth='0.5', color='black')\n",
    "plt.show()"
   ]
  },
  {
   "cell_type": "code",
   "execution_count": null,
   "metadata": {},
   "outputs": [],
   "source": [
    "print('Mean Absolute Error:', metrics.mean_absolute_error(y_test, y_pred))  \n",
    "print('Mean Squared Error:', metrics.mean_squared_error(y_test, y_pred))  \n",
    "print('Root Mean Squared Error:', np.sqrt(metrics.mean_squared_error(y_test, y_pred)))"
   ]
  },
  {
   "cell_type": "code",
   "execution_count": null,
   "metadata": {},
   "outputs": [],
   "source": [
    "regressor.score(x_test, y_test)"
   ]
  },
  {
   "cell_type": "code",
   "execution_count": null,
   "metadata": {},
   "outputs": [],
   "source": [
    "import statsmodels.api as sm\n",
    "from statsmodels.formula.api import ols\n",
    "data = pd.concat([x_train,y_train], axis=1)\n",
    "model = ols(\"y_train~x_train\", data=data).fit()\n",
    "print(model.summary())"
   ]
  },
  {
   "cell_type": "code",
   "execution_count": null,
   "metadata": {},
   "outputs": [],
   "source": [
    "#x_train"
   ]
  },
  {
   "cell_type": "code",
   "execution_count": null,
   "metadata": {},
   "outputs": [],
   "source": [
    "%matplotlib inline\n",
    "# visualizer.poof() "
   ]
  },
  {
   "cell_type": "code",
   "execution_count": null,
   "metadata": {},
   "outputs": [],
   "source": [
    "!pip install patsy\n",
    "!pip install statsmodels"
   ]
  },
  {
   "cell_type": "code",
   "execution_count": null,
   "metadata": {},
   "outputs": [],
   "source": [
    "import statsmodels.api as sm\n",
    "\n",
    "linearregression_model = linear_model.LinearRegression()\n",
    "\n",
    "linearregression_model.fit(x_train, y_train)\n",
    "\n",
    "predictions = linearregression_model.predict(x_test)\n",
    "residuals = y_test - predictions\n",
    "sm.qqplot(residuals)\n",
    "\n"
   ]
  },
  {
   "cell_type": "code",
   "execution_count": null,
   "metadata": {},
   "outputs": [],
   "source": [
    "predictions"
   ]
  },
  {
   "cell_type": "markdown",
   "metadata": {},
   "source": [
    "# Random Forest"
   ]
  },
  {
   "cell_type": "code",
   "execution_count": null,
   "metadata": {},
   "outputs": [],
   "source": [
    "X = zillow_2016_new[zillow_2016_new.columns].drop(columns = [\"logerror\"])\n",
    "\n",
    "X\n",
    "\n",
    "y =zillow_2016_new[\"logerror\"]\n",
    "\n",
    "y"
   ]
  },
  {
   "cell_type": "code",
   "execution_count": null,
   "metadata": {},
   "outputs": [],
   "source": [
    "from sklearn.model_selection import train_test_split\n",
    "\n",
    "\n",
    "\n",
    "\n",
    "x_train, x_test, y_train,y_test = train_test_split(x,y,train_size = .8)"
   ]
  },
  {
   "cell_type": "code",
   "execution_count": null,
   "metadata": {},
   "outputs": [],
   "source": [
    "# Import the model we are using\n",
    "from sklearn.ensemble import RandomForestRegressor\n",
    "from sklearn.metrics import accuracy_score\n"
   ]
  },
  {
   "cell_type": "code",
   "execution_count": null,
   "metadata": {},
   "outputs": [],
   "source": [
    "# Instantiate model with 100 decision trees\n",
    "rf = RandomForestRegressor(n_estimators = 100, oob_score = True, random_state = 0)\n",
    "# Train the model on training data\n",
    "rf.fit(x_train, y_train)"
   ]
  },
  {
   "cell_type": "code",
   "execution_count": null,
   "metadata": {},
   "outputs": [],
   "source": [
    "from sklearn.metrics import r2_score\n",
    "from scipy.stats import spearmanr, pearsonr\n",
    "predicted_train = rf.predict(x_train)\n",
    "predicted_test = rf.predict(x_test)\n",
    "test_score = r2_score(y_test, predicted_test)\n",
    "spearman = spearmanr(y_test, predicted_test)\n",
    "pearson = pearsonr(y_test, predicted_test)\n",
    "print(f'Out-of-bag R-2 score estimate: {rf.oob_score_:>5.3}')\n",
    "print(f'Test data R-2 score: {test_score:>5.3}')\n",
    "print(f'Test data Spearman correlation: {spearman[0]:.3}')\n",
    "print(f'Test data Pearson correlation: {pearson[0]:.3}')"
   ]
  },
  {
   "cell_type": "code",
   "execution_count": null,
   "metadata": {},
   "outputs": [],
   "source": []
  },
  {
   "cell_type": "code",
   "execution_count": null,
   "metadata": {},
   "outputs": [],
   "source": [
    "# Use the forest's prediction method on the test data\n",
    "predictions = rf.predict(x_test)\n",
    "\n",
    "predictions\n"
   ]
  },
  {
   "cell_type": "code",
   "execution_count": null,
   "metadata": {},
   "outputs": [],
   "source": [
    "# Calculate the absolute errors\n",
    "errors = abs(predictions - y_test)\n",
    "errors"
   ]
  },
  {
   "cell_type": "code",
   "execution_count": null,
   "metadata": {},
   "outputs": [],
   "source": [
    "# Print out the mean absolute error (mae)\n",
    "print('Mean Absolute Error:', round(np.mean(errors), 2))"
   ]
  },
  {
   "cell_type": "code",
   "execution_count": null,
   "metadata": {},
   "outputs": [],
   "source": [
    "# Calculate mean absolute percentage error (MAPE)\n",
    "mape = 100 * (errors / y_test)\n",
    "mape"
   ]
  },
  {
   "cell_type": "code",
   "execution_count": null,
   "metadata": {},
   "outputs": [],
   "source": [
    "# Calculate and display accuracy\n",
    "accuracy = 100 - np.mean(mape)\n",
    "print('Accuracy:', round(accuracy, 2), '%.')"
   ]
  },
  {
   "cell_type": "markdown",
   "metadata": {},
   "source": [
    "# KNN"
   ]
  },
  {
   "cell_type": "code",
   "execution_count": null,
   "metadata": {},
   "outputs": [],
   "source": [
    "#import required packages\n",
    "from sklearn import neighbors\n",
    "from sklearn.metrics import mean_squared_error \n",
    "from math import sqrt\n",
    "import matplotlib.pyplot as plt\n",
    "%matplotlib inline"
   ]
  },
  {
   "cell_type": "code",
   "execution_count": null,
   "metadata": {},
   "outputs": [],
   "source": [
    "X = zillow_2016_new[zillow_2016_new.columns].drop(columns = [\"logerror\"])\n",
    "\n",
    "X\n",
    "\n",
    "y =zillow_2016_new[\"logerror\"]\n",
    "\n",
    "y"
   ]
  },
  {
   "cell_type": "code",
   "execution_count": null,
   "metadata": {},
   "outputs": [],
   "source": []
  },
  {
   "cell_type": "code",
   "execution_count": null,
   "metadata": {},
   "outputs": [],
   "source": [
    "from sklearn.model_selection import train_test_split\n",
    "\n",
    "\n",
    "\n",
    "\n",
    "X_train, X_test, y_train,y_test = train_test_split(X,y,train_size = .8)"
   ]
  },
  {
   "cell_type": "code",
   "execution_count": null,
   "metadata": {},
   "outputs": [],
   "source": [
    "from sklearn.neighbors import KNeighborsRegressor"
   ]
  },
  {
   "cell_type": "code",
   "execution_count": null,
   "metadata": {},
   "outputs": [],
   "source": [
    "# knn = KNeighborsRegressor(n_neighbors=3)\n",
    "# knn.fit(X_train, y_train)\n",
    "# y_pred = knn.predict(X_test)\n",
    "# print(metrics.accuracy_score(y_test, y_pred))"
   ]
  },
  {
   "cell_type": "code",
   "execution_count": null,
   "metadata": {},
   "outputs": [],
   "source": [
    "rmse_val = [] #to store rmse values for different k\n",
    "for K in range(5):\n",
    "    K = K+1\n",
    "    model = neighbors.KNeighborsRegressor(n_neighbors = K)\n",
    "\n",
    "    model.fit(X_train, y_train)  #fit the model\n",
    "    pred=model.predict(X_test) #make prediction on test set\n",
    "    error = sqrt(mean_squared_error(y_test,pred)) #calculate rmse\n",
    "    rmse_val.append(error) #store rmse values\n",
    "    print('RMSE value for k= ' , K , 'is:', error)"
   ]
  },
  {
   "cell_type": "code",
   "execution_count": null,
   "metadata": {},
   "outputs": [],
   "source": [
    "#plotting the rmse values against k values\n",
    "curve = pd.DataFrame(rmse_val) #elbow curve \n",
    "curve.plot()"
   ]
  },
  {
   "cell_type": "code",
   "execution_count": null,
   "metadata": {},
   "outputs": [],
   "source": [
    "#check accuracy of our model on the test data\n",
    "model.score(X_test, y_test)"
   ]
  },
  {
   "cell_type": "code",
   "execution_count": null,
   "metadata": {},
   "outputs": [],
   "source": []
  },
  {
   "cell_type": "code",
   "execution_count": null,
   "metadata": {},
   "outputs": [],
   "source": []
  }
 ],
 "metadata": {
  "kernelspec": {
   "display_name": "Python 3",
   "language": "python",
   "name": "python3"
  },
  "language_info": {
   "codemirror_mode": {
    "name": "ipython",
    "version": 3
   },
   "file_extension": ".py",
   "mimetype": "text/x-python",
   "name": "python",
   "nbconvert_exporter": "python",
   "pygments_lexer": "ipython3",
   "version": "3.7.4"
  }
 },
 "nbformat": 4,
 "nbformat_minor": 2
}
