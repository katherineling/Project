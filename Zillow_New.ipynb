{
 "cells": [
  {
   "cell_type": "code",
   "execution_count": 26,
   "metadata": {},
   "outputs": [
    {
     "data": {
      "text/html": [
       "<div>\n",
       "<style scoped>\n",
       "    .dataframe tbody tr th:only-of-type {\n",
       "        vertical-align: middle;\n",
       "    }\n",
       "\n",
       "    .dataframe tbody tr th {\n",
       "        vertical-align: top;\n",
       "    }\n",
       "\n",
       "    .dataframe thead th {\n",
       "        text-align: right;\n",
       "    }\n",
       "</style>\n",
       "<table border=\"1\" class=\"dataframe\">\n",
       "  <thead>\n",
       "    <tr style=\"text-align: right;\">\n",
       "      <th></th>\n",
       "      <th>parcelid</th>\n",
       "      <th>logerror</th>\n",
       "      <th>transactiondate</th>\n",
       "      <th>regionidzip</th>\n",
       "      <th>taxdelinquencyflag</th>\n",
       "      <th>airconditioningtypeid</th>\n",
       "      <th>bathroomcnt</th>\n",
       "      <th>bedroomcnt</th>\n",
       "      <th>buildingqualitytypeid</th>\n",
       "      <th>calculatedfinishedsquarefeet</th>\n",
       "      <th>...</th>\n",
       "      <th>regionidcounty</th>\n",
       "      <th>regionidneighborhood</th>\n",
       "      <th>unitcnt</th>\n",
       "      <th>yearbuilt</th>\n",
       "      <th>numberofstories</th>\n",
       "      <th>structuretaxvaluedollarcnt</th>\n",
       "      <th>taxvaluedollarcnt</th>\n",
       "      <th>assessmentyear</th>\n",
       "      <th>landtaxvaluedollarcnt</th>\n",
       "      <th>taxamount</th>\n",
       "    </tr>\n",
       "  </thead>\n",
       "  <tbody>\n",
       "    <tr>\n",
       "      <td>0</td>\n",
       "      <td>10836049</td>\n",
       "      <td>0.0020</td>\n",
       "      <td>2016-01-08</td>\n",
       "      <td>96415</td>\n",
       "      <td>N</td>\n",
       "      <td>0</td>\n",
       "      <td>1</td>\n",
       "      <td>3</td>\n",
       "      <td>7</td>\n",
       "      <td>1126</td>\n",
       "      <td>...</td>\n",
       "      <td>3101</td>\n",
       "      <td>32368</td>\n",
       "      <td>1</td>\n",
       "      <td>1950</td>\n",
       "      <td>0</td>\n",
       "      <td>22008</td>\n",
       "      <td>61967</td>\n",
       "      <td>2015</td>\n",
       "      <td>39959</td>\n",
       "      <td>933.78</td>\n",
       "    </tr>\n",
       "    <tr>\n",
       "      <td>1</td>\n",
       "      <td>10771670</td>\n",
       "      <td>0.0030</td>\n",
       "      <td>2016-01-12</td>\n",
       "      <td>96341</td>\n",
       "      <td>N</td>\n",
       "      <td>0</td>\n",
       "      <td>2</td>\n",
       "      <td>3</td>\n",
       "      <td>7</td>\n",
       "      <td>1216</td>\n",
       "      <td>...</td>\n",
       "      <td>3101</td>\n",
       "      <td>27987</td>\n",
       "      <td>1</td>\n",
       "      <td>1955</td>\n",
       "      <td>0</td>\n",
       "      <td>54031</td>\n",
       "      <td>229427</td>\n",
       "      <td>2015</td>\n",
       "      <td>175396</td>\n",
       "      <td>2838.77</td>\n",
       "    </tr>\n",
       "    <tr>\n",
       "      <td>2</td>\n",
       "      <td>10880407</td>\n",
       "      <td>-0.0545</td>\n",
       "      <td>2016-01-05</td>\n",
       "      <td>96450</td>\n",
       "      <td>N</td>\n",
       "      <td>1</td>\n",
       "      <td>1</td>\n",
       "      <td>3</td>\n",
       "      <td>7</td>\n",
       "      <td>984</td>\n",
       "      <td>...</td>\n",
       "      <td>3101</td>\n",
       "      <td>46795</td>\n",
       "      <td>1</td>\n",
       "      <td>1949</td>\n",
       "      <td>0</td>\n",
       "      <td>41803</td>\n",
       "      <td>209018</td>\n",
       "      <td>2015</td>\n",
       "      <td>167215</td>\n",
       "      <td>2655.27</td>\n",
       "    </tr>\n",
       "    <tr>\n",
       "      <td>3</td>\n",
       "      <td>10984360</td>\n",
       "      <td>0.0411</td>\n",
       "      <td>2016-01-03</td>\n",
       "      <td>96361</td>\n",
       "      <td>N</td>\n",
       "      <td>0</td>\n",
       "      <td>2</td>\n",
       "      <td>4</td>\n",
       "      <td>7</td>\n",
       "      <td>1150</td>\n",
       "      <td>...</td>\n",
       "      <td>3101</td>\n",
       "      <td>40215</td>\n",
       "      <td>1</td>\n",
       "      <td>1956</td>\n",
       "      <td>0</td>\n",
       "      <td>101800</td>\n",
       "      <td>330000</td>\n",
       "      <td>2015</td>\n",
       "      <td>228200</td>\n",
       "      <td>4205.43</td>\n",
       "    </tr>\n",
       "    <tr>\n",
       "      <td>4</td>\n",
       "      <td>12462074</td>\n",
       "      <td>0.0100</td>\n",
       "      <td>2016-01-04</td>\n",
       "      <td>96241</td>\n",
       "      <td>N</td>\n",
       "      <td>0</td>\n",
       "      <td>2</td>\n",
       "      <td>2</td>\n",
       "      <td>7</td>\n",
       "      <td>1648</td>\n",
       "      <td>...</td>\n",
       "      <td>3101</td>\n",
       "      <td>272968</td>\n",
       "      <td>1</td>\n",
       "      <td>1941</td>\n",
       "      <td>0</td>\n",
       "      <td>29551</td>\n",
       "      <td>60330</td>\n",
       "      <td>2015</td>\n",
       "      <td>30779</td>\n",
       "      <td>6542.57</td>\n",
       "    </tr>\n",
       "    <tr>\n",
       "      <td>...</td>\n",
       "      <td>...</td>\n",
       "      <td>...</td>\n",
       "      <td>...</td>\n",
       "      <td>...</td>\n",
       "      <td>...</td>\n",
       "      <td>...</td>\n",
       "      <td>...</td>\n",
       "      <td>...</td>\n",
       "      <td>...</td>\n",
       "      <td>...</td>\n",
       "      <td>...</td>\n",
       "      <td>...</td>\n",
       "      <td>...</td>\n",
       "      <td>...</td>\n",
       "      <td>...</td>\n",
       "      <td>...</td>\n",
       "      <td>...</td>\n",
       "      <td>...</td>\n",
       "      <td>...</td>\n",
       "      <td>...</td>\n",
       "      <td>...</td>\n",
       "    </tr>\n",
       "    <tr>\n",
       "      <td>95</td>\n",
       "      <td>11655826</td>\n",
       "      <td>-0.2421</td>\n",
       "      <td>2016-01-06</td>\n",
       "      <td>96086</td>\n",
       "      <td>N</td>\n",
       "      <td>1</td>\n",
       "      <td>7</td>\n",
       "      <td>7</td>\n",
       "      <td>10</td>\n",
       "      <td>8520</td>\n",
       "      <td>...</td>\n",
       "      <td>3101</td>\n",
       "      <td>113749</td>\n",
       "      <td>1</td>\n",
       "      <td>1966</td>\n",
       "      <td>0</td>\n",
       "      <td>4969342</td>\n",
       "      <td>7797746</td>\n",
       "      <td>2015</td>\n",
       "      <td>2828404</td>\n",
       "      <td>94997.03</td>\n",
       "    </tr>\n",
       "    <tr>\n",
       "      <td>96</td>\n",
       "      <td>12651416</td>\n",
       "      <td>0.0325</td>\n",
       "      <td>2016-01-08</td>\n",
       "      <td>96221</td>\n",
       "      <td>N</td>\n",
       "      <td>0</td>\n",
       "      <td>2</td>\n",
       "      <td>2</td>\n",
       "      <td>4</td>\n",
       "      <td>1876</td>\n",
       "      <td>...</td>\n",
       "      <td>3101</td>\n",
       "      <td>54300</td>\n",
       "      <td>1</td>\n",
       "      <td>1980</td>\n",
       "      <td>0</td>\n",
       "      <td>99970</td>\n",
       "      <td>499867</td>\n",
       "      <td>2015</td>\n",
       "      <td>399897</td>\n",
       "      <td>6106.45</td>\n",
       "    </tr>\n",
       "    <tr>\n",
       "      <td>97</td>\n",
       "      <td>10834436</td>\n",
       "      <td>-0.0040</td>\n",
       "      <td>2016-01-08</td>\n",
       "      <td>96415</td>\n",
       "      <td>N</td>\n",
       "      <td>0</td>\n",
       "      <td>1</td>\n",
       "      <td>3</td>\n",
       "      <td>7</td>\n",
       "      <td>1080</td>\n",
       "      <td>...</td>\n",
       "      <td>3101</td>\n",
       "      <td>32368</td>\n",
       "      <td>1</td>\n",
       "      <td>1949</td>\n",
       "      <td>0</td>\n",
       "      <td>19762</td>\n",
       "      <td>61759</td>\n",
       "      <td>2015</td>\n",
       "      <td>41997</td>\n",
       "      <td>801.58</td>\n",
       "    </tr>\n",
       "    <tr>\n",
       "      <td>98</td>\n",
       "      <td>10862983</td>\n",
       "      <td>0.0354</td>\n",
       "      <td>2016-01-07</td>\n",
       "      <td>96412</td>\n",
       "      <td>N</td>\n",
       "      <td>1</td>\n",
       "      <td>2</td>\n",
       "      <td>2</td>\n",
       "      <td>4</td>\n",
       "      <td>1261</td>\n",
       "      <td>...</td>\n",
       "      <td>3101</td>\n",
       "      <td>27080</td>\n",
       "      <td>1</td>\n",
       "      <td>1965</td>\n",
       "      <td>0</td>\n",
       "      <td>96788</td>\n",
       "      <td>228845</td>\n",
       "      <td>2015</td>\n",
       "      <td>132057</td>\n",
       "      <td>2867.68</td>\n",
       "    </tr>\n",
       "    <tr>\n",
       "      <td>99</td>\n",
       "      <td>12672640</td>\n",
       "      <td>0.0060</td>\n",
       "      <td>2016-01-07</td>\n",
       "      <td>96161</td>\n",
       "      <td>N</td>\n",
       "      <td>0</td>\n",
       "      <td>2</td>\n",
       "      <td>3</td>\n",
       "      <td>7</td>\n",
       "      <td>1162</td>\n",
       "      <td>...</td>\n",
       "      <td>3101</td>\n",
       "      <td>416331</td>\n",
       "      <td>1</td>\n",
       "      <td>1955</td>\n",
       "      <td>0</td>\n",
       "      <td>133404</td>\n",
       "      <td>667020</td>\n",
       "      <td>2015</td>\n",
       "      <td>533616</td>\n",
       "      <td>7727.33</td>\n",
       "    </tr>\n",
       "  </tbody>\n",
       "</table>\n",
       "<p>100 rows × 34 columns</p>\n",
       "</div>"
      ],
      "text/plain": [
       "    parcelid  logerror transactiondate  regionidzip taxdelinquencyflag  \\\n",
       "0   10836049    0.0020      2016-01-08        96415                  N   \n",
       "1   10771670    0.0030      2016-01-12        96341                  N   \n",
       "2   10880407   -0.0545      2016-01-05        96450                  N   \n",
       "3   10984360    0.0411      2016-01-03        96361                  N   \n",
       "4   12462074    0.0100      2016-01-04        96241                  N   \n",
       "..       ...       ...             ...          ...                ...   \n",
       "95  11655826   -0.2421      2016-01-06        96086                  N   \n",
       "96  12651416    0.0325      2016-01-08        96221                  N   \n",
       "97  10834436   -0.0040      2016-01-08        96415                  N   \n",
       "98  10862983    0.0354      2016-01-07        96412                  N   \n",
       "99  12672640    0.0060      2016-01-07        96161                  N   \n",
       "\n",
       "    airconditioningtypeid  bathroomcnt  bedroomcnt  buildingqualitytypeid  \\\n",
       "0                       0            1           3                      7   \n",
       "1                       0            2           3                      7   \n",
       "2                       1            1           3                      7   \n",
       "3                       0            2           4                      7   \n",
       "4                       0            2           2                      7   \n",
       "..                    ...          ...         ...                    ...   \n",
       "95                      1            7           7                     10   \n",
       "96                      0            2           2                      4   \n",
       "97                      0            1           3                      7   \n",
       "98                      1            2           2                      4   \n",
       "99                      0            2           3                      7   \n",
       "\n",
       "    calculatedfinishedsquarefeet  ...  regionidcounty  regionidneighborhood  \\\n",
       "0                           1126  ...            3101                 32368   \n",
       "1                           1216  ...            3101                 27987   \n",
       "2                            984  ...            3101                 46795   \n",
       "3                           1150  ...            3101                 40215   \n",
       "4                           1648  ...            3101                272968   \n",
       "..                           ...  ...             ...                   ...   \n",
       "95                          8520  ...            3101                113749   \n",
       "96                          1876  ...            3101                 54300   \n",
       "97                          1080  ...            3101                 32368   \n",
       "98                          1261  ...            3101                 27080   \n",
       "99                          1162  ...            3101                416331   \n",
       "\n",
       "    unitcnt  yearbuilt  numberofstories  structuretaxvaluedollarcnt  \\\n",
       "0         1       1950                0                       22008   \n",
       "1         1       1955                0                       54031   \n",
       "2         1       1949                0                       41803   \n",
       "3         1       1956                0                      101800   \n",
       "4         1       1941                0                       29551   \n",
       "..      ...        ...              ...                         ...   \n",
       "95        1       1966                0                     4969342   \n",
       "96        1       1980                0                       99970   \n",
       "97        1       1949                0                       19762   \n",
       "98        1       1965                0                       96788   \n",
       "99        1       1955                0                      133404   \n",
       "\n",
       "    taxvaluedollarcnt  assessmentyear landtaxvaluedollarcnt  taxamount  \n",
       "0               61967            2015                 39959     933.78  \n",
       "1              229427            2015                175396    2838.77  \n",
       "2              209018            2015                167215    2655.27  \n",
       "3              330000            2015                228200    4205.43  \n",
       "4               60330            2015                 30779    6542.57  \n",
       "..                ...             ...                   ...        ...  \n",
       "95            7797746            2015               2828404   94997.03  \n",
       "96             499867            2015                399897    6106.45  \n",
       "97              61759            2015                 41997     801.58  \n",
       "98             228845            2015                132057    2867.68  \n",
       "99             667020            2015                533616    7727.33  \n",
       "\n",
       "[100 rows x 34 columns]"
      ]
     },
     "execution_count": 26,
     "metadata": {},
     "output_type": "execute_result"
    }
   ],
   "source": [
    "import pandas as pd\n",
    "import numpy as np\n",
    "import seaborn as sns\n",
    "\n",
    "zillow_2016_merged = pd.read_csv('/Users/katherineling/Desktop/Ironhack/zillow_2016_merger.csv') \n",
    "\n",
    "zillow_2016_merged.head(100)"
   ]
  },
  {
   "cell_type": "code",
   "execution_count": null,
   "metadata": {},
   "outputs": [],
   "source": []
  },
  {
   "cell_type": "code",
   "execution_count": null,
   "metadata": {},
   "outputs": [],
   "source": [
    "zillow_2016_merged.corr()"
   ]
  },
  {
   "cell_type": "code",
   "execution_count": 27,
   "metadata": {},
   "outputs": [
    {
     "data": {
      "text/html": [
       "<div>\n",
       "<style scoped>\n",
       "    .dataframe tbody tr th:only-of-type {\n",
       "        vertical-align: middle;\n",
       "    }\n",
       "\n",
       "    .dataframe tbody tr th {\n",
       "        vertical-align: top;\n",
       "    }\n",
       "\n",
       "    .dataframe thead th {\n",
       "        text-align: right;\n",
       "    }\n",
       "</style>\n",
       "<table border=\"1\" class=\"dataframe\">\n",
       "  <thead>\n",
       "    <tr style=\"text-align: right;\">\n",
       "      <th></th>\n",
       "      <th>logerror</th>\n",
       "      <th>transactiondate</th>\n",
       "      <th>regionidzip</th>\n",
       "      <th>taxdelinquencyflag</th>\n",
       "      <th>airconditioningtypeid</th>\n",
       "      <th>bedroomcnt</th>\n",
       "      <th>buildingqualitytypeid</th>\n",
       "      <th>calculatedfinishedsquarefeet</th>\n",
       "      <th>hashottuborspa</th>\n",
       "      <th>heatingorsystemtypeid</th>\n",
       "      <th>...</th>\n",
       "      <th>rawcensustractandblock</th>\n",
       "      <th>regionidcity</th>\n",
       "      <th>regionidcounty</th>\n",
       "      <th>regionidneighborhood</th>\n",
       "      <th>unitcnt</th>\n",
       "      <th>yearbuilt</th>\n",
       "      <th>numberofstories</th>\n",
       "      <th>structuretaxvaluedollarcnt</th>\n",
       "      <th>assessmentyear</th>\n",
       "      <th>landtaxvaluedollarcnt</th>\n",
       "    </tr>\n",
       "  </thead>\n",
       "  <tbody>\n",
       "    <tr>\n",
       "      <td>0</td>\n",
       "      <td>0.0020</td>\n",
       "      <td>2016-01-08</td>\n",
       "      <td>96415</td>\n",
       "      <td>N</td>\n",
       "      <td>0</td>\n",
       "      <td>3</td>\n",
       "      <td>7</td>\n",
       "      <td>1126</td>\n",
       "      <td>0</td>\n",
       "      <td>7</td>\n",
       "      <td>...</td>\n",
       "      <td>6.037132e+07</td>\n",
       "      <td>12447</td>\n",
       "      <td>3101</td>\n",
       "      <td>32368</td>\n",
       "      <td>1</td>\n",
       "      <td>1950</td>\n",
       "      <td>0</td>\n",
       "      <td>22008</td>\n",
       "      <td>2015</td>\n",
       "      <td>39959</td>\n",
       "    </tr>\n",
       "    <tr>\n",
       "      <td>1</td>\n",
       "      <td>0.0030</td>\n",
       "      <td>2016-01-12</td>\n",
       "      <td>96341</td>\n",
       "      <td>N</td>\n",
       "      <td>0</td>\n",
       "      <td>3</td>\n",
       "      <td>7</td>\n",
       "      <td>1216</td>\n",
       "      <td>0</td>\n",
       "      <td>2</td>\n",
       "      <td>...</td>\n",
       "      <td>6.037135e+07</td>\n",
       "      <td>12447</td>\n",
       "      <td>3101</td>\n",
       "      <td>27987</td>\n",
       "      <td>1</td>\n",
       "      <td>1955</td>\n",
       "      <td>0</td>\n",
       "      <td>54031</td>\n",
       "      <td>2015</td>\n",
       "      <td>175396</td>\n",
       "    </tr>\n",
       "    <tr>\n",
       "      <td>2</td>\n",
       "      <td>-0.0545</td>\n",
       "      <td>2016-01-05</td>\n",
       "      <td>96450</td>\n",
       "      <td>N</td>\n",
       "      <td>1</td>\n",
       "      <td>3</td>\n",
       "      <td>7</td>\n",
       "      <td>984</td>\n",
       "      <td>0</td>\n",
       "      <td>2</td>\n",
       "      <td>...</td>\n",
       "      <td>6.037123e+07</td>\n",
       "      <td>12447</td>\n",
       "      <td>3101</td>\n",
       "      <td>46795</td>\n",
       "      <td>1</td>\n",
       "      <td>1949</td>\n",
       "      <td>0</td>\n",
       "      <td>41803</td>\n",
       "      <td>2015</td>\n",
       "      <td>167215</td>\n",
       "    </tr>\n",
       "    <tr>\n",
       "      <td>3</td>\n",
       "      <td>0.0411</td>\n",
       "      <td>2016-01-03</td>\n",
       "      <td>96361</td>\n",
       "      <td>N</td>\n",
       "      <td>0</td>\n",
       "      <td>4</td>\n",
       "      <td>7</td>\n",
       "      <td>1150</td>\n",
       "      <td>0</td>\n",
       "      <td>2</td>\n",
       "      <td>...</td>\n",
       "      <td>6.037104e+07</td>\n",
       "      <td>12447</td>\n",
       "      <td>3101</td>\n",
       "      <td>40215</td>\n",
       "      <td>1</td>\n",
       "      <td>1956</td>\n",
       "      <td>0</td>\n",
       "      <td>101800</td>\n",
       "      <td>2015</td>\n",
       "      <td>228200</td>\n",
       "    </tr>\n",
       "    <tr>\n",
       "      <td>4</td>\n",
       "      <td>0.0100</td>\n",
       "      <td>2016-01-04</td>\n",
       "      <td>96241</td>\n",
       "      <td>N</td>\n",
       "      <td>0</td>\n",
       "      <td>2</td>\n",
       "      <td>7</td>\n",
       "      <td>1648</td>\n",
       "      <td>0</td>\n",
       "      <td>7</td>\n",
       "      <td>...</td>\n",
       "      <td>6.037572e+07</td>\n",
       "      <td>46298</td>\n",
       "      <td>3101</td>\n",
       "      <td>272968</td>\n",
       "      <td>1</td>\n",
       "      <td>1941</td>\n",
       "      <td>0</td>\n",
       "      <td>29551</td>\n",
       "      <td>2015</td>\n",
       "      <td>30779</td>\n",
       "    </tr>\n",
       "    <tr>\n",
       "      <td>...</td>\n",
       "      <td>...</td>\n",
       "      <td>...</td>\n",
       "      <td>...</td>\n",
       "      <td>...</td>\n",
       "      <td>...</td>\n",
       "      <td>...</td>\n",
       "      <td>...</td>\n",
       "      <td>...</td>\n",
       "      <td>...</td>\n",
       "      <td>...</td>\n",
       "      <td>...</td>\n",
       "      <td>...</td>\n",
       "      <td>...</td>\n",
       "      <td>...</td>\n",
       "      <td>...</td>\n",
       "      <td>...</td>\n",
       "      <td>...</td>\n",
       "      <td>...</td>\n",
       "      <td>...</td>\n",
       "      <td>...</td>\n",
       "      <td>...</td>\n",
       "    </tr>\n",
       "    <tr>\n",
       "      <td>95</td>\n",
       "      <td>-0.2421</td>\n",
       "      <td>2016-01-06</td>\n",
       "      <td>96086</td>\n",
       "      <td>N</td>\n",
       "      <td>1</td>\n",
       "      <td>7</td>\n",
       "      <td>10</td>\n",
       "      <td>8520</td>\n",
       "      <td>0</td>\n",
       "      <td>2</td>\n",
       "      <td>...</td>\n",
       "      <td>6.037261e+07</td>\n",
       "      <td>12447</td>\n",
       "      <td>3101</td>\n",
       "      <td>113749</td>\n",
       "      <td>1</td>\n",
       "      <td>1966</td>\n",
       "      <td>0</td>\n",
       "      <td>4969342</td>\n",
       "      <td>2015</td>\n",
       "      <td>2828404</td>\n",
       "    </tr>\n",
       "    <tr>\n",
       "      <td>96</td>\n",
       "      <td>0.0325</td>\n",
       "      <td>2016-01-08</td>\n",
       "      <td>96221</td>\n",
       "      <td>N</td>\n",
       "      <td>0</td>\n",
       "      <td>2</td>\n",
       "      <td>4</td>\n",
       "      <td>1876</td>\n",
       "      <td>0</td>\n",
       "      <td>2</td>\n",
       "      <td>...</td>\n",
       "      <td>6.037297e+07</td>\n",
       "      <td>12447</td>\n",
       "      <td>3101</td>\n",
       "      <td>54300</td>\n",
       "      <td>1</td>\n",
       "      <td>1980</td>\n",
       "      <td>0</td>\n",
       "      <td>99970</td>\n",
       "      <td>2015</td>\n",
       "      <td>399897</td>\n",
       "    </tr>\n",
       "    <tr>\n",
       "      <td>97</td>\n",
       "      <td>-0.0040</td>\n",
       "      <td>2016-01-08</td>\n",
       "      <td>96415</td>\n",
       "      <td>N</td>\n",
       "      <td>0</td>\n",
       "      <td>3</td>\n",
       "      <td>7</td>\n",
       "      <td>1080</td>\n",
       "      <td>0</td>\n",
       "      <td>7</td>\n",
       "      <td>...</td>\n",
       "      <td>6.037132e+07</td>\n",
       "      <td>12447</td>\n",
       "      <td>3101</td>\n",
       "      <td>32368</td>\n",
       "      <td>1</td>\n",
       "      <td>1949</td>\n",
       "      <td>0</td>\n",
       "      <td>19762</td>\n",
       "      <td>2015</td>\n",
       "      <td>41997</td>\n",
       "    </tr>\n",
       "    <tr>\n",
       "      <td>98</td>\n",
       "      <td>0.0354</td>\n",
       "      <td>2016-01-07</td>\n",
       "      <td>96412</td>\n",
       "      <td>N</td>\n",
       "      <td>1</td>\n",
       "      <td>2</td>\n",
       "      <td>4</td>\n",
       "      <td>1261</td>\n",
       "      <td>0</td>\n",
       "      <td>2</td>\n",
       "      <td>...</td>\n",
       "      <td>6.037141e+07</td>\n",
       "      <td>12447</td>\n",
       "      <td>3101</td>\n",
       "      <td>27080</td>\n",
       "      <td>1</td>\n",
       "      <td>1965</td>\n",
       "      <td>0</td>\n",
       "      <td>96788</td>\n",
       "      <td>2015</td>\n",
       "      <td>132057</td>\n",
       "    </tr>\n",
       "    <tr>\n",
       "      <td>99</td>\n",
       "      <td>0.0060</td>\n",
       "      <td>2016-01-07</td>\n",
       "      <td>96161</td>\n",
       "      <td>N</td>\n",
       "      <td>0</td>\n",
       "      <td>3</td>\n",
       "      <td>7</td>\n",
       "      <td>1162</td>\n",
       "      <td>0</td>\n",
       "      <td>2</td>\n",
       "      <td>...</td>\n",
       "      <td>6.037651e+07</td>\n",
       "      <td>54722</td>\n",
       "      <td>3101</td>\n",
       "      <td>416331</td>\n",
       "      <td>1</td>\n",
       "      <td>1955</td>\n",
       "      <td>0</td>\n",
       "      <td>133404</td>\n",
       "      <td>2015</td>\n",
       "      <td>533616</td>\n",
       "    </tr>\n",
       "  </tbody>\n",
       "</table>\n",
       "<p>100 rows × 27 columns</p>\n",
       "</div>"
      ],
      "text/plain": [
       "    logerror transactiondate  regionidzip taxdelinquencyflag  \\\n",
       "0     0.0020      2016-01-08        96415                  N   \n",
       "1     0.0030      2016-01-12        96341                  N   \n",
       "2    -0.0545      2016-01-05        96450                  N   \n",
       "3     0.0411      2016-01-03        96361                  N   \n",
       "4     0.0100      2016-01-04        96241                  N   \n",
       "..       ...             ...          ...                ...   \n",
       "95   -0.2421      2016-01-06        96086                  N   \n",
       "96    0.0325      2016-01-08        96221                  N   \n",
       "97   -0.0040      2016-01-08        96415                  N   \n",
       "98    0.0354      2016-01-07        96412                  N   \n",
       "99    0.0060      2016-01-07        96161                  N   \n",
       "\n",
       "    airconditioningtypeid  bedroomcnt  buildingqualitytypeid  \\\n",
       "0                       0           3                      7   \n",
       "1                       0           3                      7   \n",
       "2                       1           3                      7   \n",
       "3                       0           4                      7   \n",
       "4                       0           2                      7   \n",
       "..                    ...         ...                    ...   \n",
       "95                      1           7                     10   \n",
       "96                      0           2                      4   \n",
       "97                      0           3                      7   \n",
       "98                      1           2                      4   \n",
       "99                      0           3                      7   \n",
       "\n",
       "    calculatedfinishedsquarefeet  hashottuborspa  heatingorsystemtypeid  ...  \\\n",
       "0                           1126               0                      7  ...   \n",
       "1                           1216               0                      2  ...   \n",
       "2                            984               0                      2  ...   \n",
       "3                           1150               0                      2  ...   \n",
       "4                           1648               0                      7  ...   \n",
       "..                           ...             ...                    ...  ...   \n",
       "95                          8520               0                      2  ...   \n",
       "96                          1876               0                      2  ...   \n",
       "97                          1080               0                      7  ...   \n",
       "98                          1261               0                      2  ...   \n",
       "99                          1162               0                      2  ...   \n",
       "\n",
       "    rawcensustractandblock  regionidcity  regionidcounty  \\\n",
       "0             6.037132e+07         12447            3101   \n",
       "1             6.037135e+07         12447            3101   \n",
       "2             6.037123e+07         12447            3101   \n",
       "3             6.037104e+07         12447            3101   \n",
       "4             6.037572e+07         46298            3101   \n",
       "..                     ...           ...             ...   \n",
       "95            6.037261e+07         12447            3101   \n",
       "96            6.037297e+07         12447            3101   \n",
       "97            6.037132e+07         12447            3101   \n",
       "98            6.037141e+07         12447            3101   \n",
       "99            6.037651e+07         54722            3101   \n",
       "\n",
       "    regionidneighborhood unitcnt  yearbuilt numberofstories  \\\n",
       "0                  32368       1       1950               0   \n",
       "1                  27987       1       1955               0   \n",
       "2                  46795       1       1949               0   \n",
       "3                  40215       1       1956               0   \n",
       "4                 272968       1       1941               0   \n",
       "..                   ...     ...        ...             ...   \n",
       "95                113749       1       1966               0   \n",
       "96                 54300       1       1980               0   \n",
       "97                 32368       1       1949               0   \n",
       "98                 27080       1       1965               0   \n",
       "99                416331       1       1955               0   \n",
       "\n",
       "    structuretaxvaluedollarcnt  assessmentyear  landtaxvaluedollarcnt  \n",
       "0                        22008            2015                  39959  \n",
       "1                        54031            2015                 175396  \n",
       "2                        41803            2015                 167215  \n",
       "3                       101800            2015                 228200  \n",
       "4                        29551            2015                  30779  \n",
       "..                         ...             ...                    ...  \n",
       "95                     4969342            2015                2828404  \n",
       "96                       99970            2015                 399897  \n",
       "97                       19762            2015                  41997  \n",
       "98                       96788            2015                 132057  \n",
       "99                      133404            2015                 533616  \n",
       "\n",
       "[100 rows x 27 columns]"
      ]
     },
     "execution_count": 27,
     "metadata": {},
     "output_type": "execute_result"
    }
   ],
   "source": [
    "zillow_2016_merged = zillow_2016_merged.drop(columns=['pooltypeid10', 'pooltypeid7', 'bathroomcnt', 'censustractandblock', 'pooltypeid7', 'taxvaluedollarcnt', 'taxamount', 'parcelid'])\n",
    "\n",
    "zillow_2016_merged.head(100)"
   ]
  },
  {
   "cell_type": "code",
   "execution_count": null,
   "metadata": {},
   "outputs": [],
   "source": [
    "import seaborn as sns\n",
    "sns.set(style=\"whitegrid\")\n",
    "tips = sns.load_dataset(\"tips\")\n",
    "\n",
    "ax = sns.boxplot(x = zillow_2016_merged['regionidzip'])\n",
    "\n",
    "ax\n",
    "\n"
   ]
  },
  {
   "cell_type": "code",
   "execution_count": null,
   "metadata": {},
   "outputs": [],
   "source": [
    "zillow_2016_merged['regionidzip'].hist()"
   ]
  },
  {
   "cell_type": "code",
   "execution_count": null,
   "metadata": {},
   "outputs": [],
   "source": [
    "value_counts_zip = zillow_2016_merged['regionidzip'].value_counts()\n",
    "\n",
    "value_counts_zip\n",
    "\n",
    "q1_regionidzip = np.percentile(value_counts_zip, 25)\n",
    "\n",
    "q1_regionidzip #remove zipcodes occuring less than 35 times\n",
    "\n",
    "q3_regionidzip = np.percentile(value_counts_zip, 75)\n",
    "\n",
    "iqr_zip = q3_regionidzip - q1_regionidzip\n",
    "\n",
    "#iqr_zip = 176\n",
    "\n",
    "upper_fence_zip = q3_regionidzip + (3 * iqr_zip)\n",
    "lower_fence_zip = q1_regionidzip  - (3 * iqr_zip)\n",
    "\n",
    "upper_fence_zip\n",
    "# lower_fence_zip\n",
    "\n",
    "# q1_regionidzip"
   ]
  },
  {
   "cell_type": "code",
   "execution_count": null,
   "metadata": {},
   "outputs": [],
   "source": [
    "# vc = zillow_2016_merged['regionidzip'].value_counts()\n",
    "# u  = [i not in set(vc[vc<35].index) for i in zillow_2016_merged['regionidzip']]\n",
    "# zillow_2016_merged = zillow_2016_merged[u]\n",
    "\n",
    "# zillow_2016_merged[zillow_2016_merged['regionidzip'] == 96434]"
   ]
  },
  {
   "cell_type": "code",
   "execution_count": null,
   "metadata": {},
   "outputs": [],
   "source": [
    "zillow_2016_merged['regionidzip'].value_counts()"
   ]
  },
  {
   "cell_type": "code",
   "execution_count": 28,
   "metadata": {},
   "outputs": [
    {
     "data": {
      "image/png": "[encoded data removed]",
      "text/plain": [
       "<Figure size 432x288 with 1 Axes>"
      ]
     },
     "metadata": {
      "needs_background": "light"
     },
     "output_type": "display_data"
    }
   ],
   "source": [
    "boxplot_bedroomcnt = sns.boxplot(x = zillow_2016_merged['bedroomcnt'])\n",
    "\n",
    "boxplot_bedroomcnt\n",
    "\n",
    "q1_bedroomcnt = np.percentile(zillow_2016_merged.bedroomcnt, 25)\n",
    "\n",
    "\n",
    "q3_bedroomcnt = np.percentile(zillow_2016_merged.bedroomcnt, 75)\n",
    "\n",
    "\n",
    "iqr_bedroomcnt = q3_bedroomcnt - q1_bedroomcnt\n",
    "\n",
    "upper_fence_bedroomcnt = q3_bedroomcnt + (3 * iqr_bedroomcnt)\n",
    "\n",
    "lower_fence_bedroomcnt = q1_bedroomcnt  - (3 * iqr_bedroomcnt)\n",
    "\n",
    "\n",
    "upper_fence_bedroomcnt\n",
    "\n",
    "lower_fence_bedroomcnt\n",
    "\n",
    "\n",
    "len(zillow_2016_merged[zillow_2016_merged['bedroomcnt'] > 6])\n",
    "\n",
    "#drop bedroom counts higher than 6\n",
    "\n",
    "\n",
    "\n",
    "indexNames = zillow_2016_merged[ zillow_2016_merged['bedroomcnt'] > 6 ].index\n",
    "\n",
    "zillow_2016_merged.drop(indexNames, inplace=True)\n"
   ]
  },
  {
   "cell_type": "code",
   "execution_count": null,
   "metadata": {},
   "outputs": [],
   "source": [
    "zillow_2016_merged['bedroomcnt'].unique()"
   ]
  },
  {
   "cell_type": "code",
   "execution_count": 6,
   "metadata": {},
   "outputs": [
    {
     "data": {
      "image/png": "[encoded data removed]",
      "text/plain": [
       "<Figure size 432x288 with 1 Axes>"
      ]
     },
     "metadata": {
      "needs_background": "light"
     },
     "output_type": "display_data"
    }
   ],
   "source": [
    "boxplot_calculatedfinishedsquarefeet = sns.boxplot(x = zillow_2016_merged['calculatedfinishedsquarefeet'])\n",
    "\n",
    "boxplot_calculatedfinishedsquarefeet\n",
    "\n",
    "q1_calculatedfinishedsquarefeet = np.percentile(zillow_2016_merged.calculatedfinishedsquarefeet, 25)\n",
    "\n",
    "\n",
    "q3_calculatedfinishedsquarefeet = np.percentile(zillow_2016_merged.calculatedfinishedsquarefeet, 75)\n",
    "\n",
    "\n",
    "iqr_calculatedfinishedsquarefeet = q3_calculatedfinishedsquarefeet - q1_calculatedfinishedsquarefeet\n",
    "\n",
    "upper_fence_calculatedfinishedsquarefeet = q3_calculatedfinishedsquarefeet + (3 * iqr_calculatedfinishedsquarefeet)\n",
    "\n",
    "lower_fence_calculatedfinishedsquarefeet = q1_calculatedfinishedsquarefeet  - (3 * iqr_calculatedfinishedsquarefeet)\n",
    "\n",
    "\n",
    "upper_fence_calculatedfinishedsquarefeet\n",
    "\n",
    "# lower_fence_calculatedfinishedsquarefeet\n",
    "\n",
    "\n",
    "#len(zillow_2016_merged[zillow_2016_merged['calculatedfinishedsquarefeet'] > 4410])\n",
    "\n",
    "indexNames = zillow_2016_merged[ zillow_2016_merged['calculatedfinishedsquarefeet'] > 4410 ].index\n",
    "\n",
    "zillow_2016_merged.drop(indexNames, inplace=True)\n"
   ]
  },
  {
   "cell_type": "code",
   "execution_count": null,
   "metadata": {},
   "outputs": [],
   "source": [
    "zillow_2016_merged['calculatedfinishedsquarefeet'].max()"
   ]
  },
  {
   "cell_type": "code",
   "execution_count": null,
   "metadata": {},
   "outputs": [],
   "source": [
    "boxplot_calculatedfinishedsquarefeet = sns.boxplot(x = zillow_2016_merged['calculatedfinishedsquarefeet'])\n",
    "\n",
    "boxplot_calculatedfinishedsquarefeet\n"
   ]
  },
  {
   "cell_type": "code",
   "execution_count": 7,
   "metadata": {},
   "outputs": [
    {
     "data": {
      "image/png": "[encoded data removed]",
      "text/plain": [
       "<Figure size 432x288 with 1 Axes>"
      ]
     },
     "metadata": {
      "needs_background": "light"
     },
     "output_type": "display_data"
    }
   ],
   "source": [
    "boxplot_lotsizesquarefeet = sns.boxplot(x = zillow_2016_merged['lotsizesquarefeet'])\n",
    "\n",
    "boxplot_lotsizesquarefeet\n",
    "\n",
    "q1_lotsizesquarefeet = np.percentile(zillow_2016_merged.lotsizesquarefeet, 25)\n",
    "\n",
    "\n",
    "q3_lotsizesquarefeet = np.percentile(zillow_2016_merged.lotsizesquarefeet, 75)\n",
    "\n",
    "\n",
    "iqr_lotsizesquarefeet = q3_lotsizesquarefeet - q1_lotsizesquarefeet\n",
    "\n",
    "upper_fence_lotsizesquarefeet = q3_lotsizesquarefeet + (3 * iqr_lotsizesquarefeet)\n",
    "\n",
    "lower_fence_lotsizesquarefeet = q1_lotsizesquarefeet  - (3 * iqr_lotsizesquarefeet)\n",
    "\n",
    "\n",
    "upper_fence_lotsizesquarefeet\n",
    "\n",
    "# lower_fence_lotsizesquarefeet\n",
    "\n",
    "\n",
    "# len(zillow_2016_merged[zillow_2016_merged['lotsizesquarefeet'] > 62961])\n",
    "indexNames = zillow_2016_merged[ zillow_2016_merged['lotsizesquarefeet'] > 62961 ].index\n",
    "\n",
    "zillow_2016_merged.drop(indexNames, inplace=True)"
   ]
  },
  {
   "cell_type": "code",
   "execution_count": null,
   "metadata": {},
   "outputs": [],
   "source": [
    "zillow_2016_merged['lotsizesquarefeet'].max()\n"
   ]
  },
  {
   "cell_type": "code",
   "execution_count": null,
   "metadata": {},
   "outputs": [],
   "source": [
    "zillow_2016_merged['calculatedfinishedsquarefeet'].hist()\n",
    "\n",
    "zillow_2016_merged['yearbuilt'].hist()"
   ]
  },
  {
   "cell_type": "code",
   "execution_count": 8,
   "metadata": {},
   "outputs": [],
   "source": [
    "zillow_2016_merged = zillow_2016_merged.drop(columns=['numberofstories'])"
   ]
  },
  {
   "cell_type": "code",
   "execution_count": 9,
   "metadata": {},
   "outputs": [],
   "source": [
    "zillow_2016_merged = zillow_2016_merged.drop(columns=['unitcnt'])"
   ]
  },
  {
   "cell_type": "code",
   "execution_count": null,
   "metadata": {},
   "outputs": [],
   "source": [
    "zillow_2016_merged.head()"
   ]
  },
  {
   "cell_type": "code",
   "execution_count": 10,
   "metadata": {},
   "outputs": [],
   "source": [
    "zillow_2016_merged['taxdelinquencyflag'] = zillow_2016_merged['taxdelinquencyflag'].replace('Y', 1)\n",
    "zillow_2016_merged['taxdelinquencyflag'] = zillow_2016_merged['taxdelinquencyflag'].replace('N', 0)"
   ]
  },
  {
   "cell_type": "code",
   "execution_count": 11,
   "metadata": {},
   "outputs": [],
   "source": [
    "zillow_2016_merged = zillow_2016_merged.drop(columns=['assessmentyear'])"
   ]
  },
  {
   "cell_type": "code",
   "execution_count": 12,
   "metadata": {},
   "outputs": [],
   "source": [
    "zillow_2016_merged = pd.get_dummies(zillow_2016_merged, columns=[\"heatingorsystemtypeid\"])"
   ]
  },
  {
   "cell_type": "code",
   "execution_count": 13,
   "metadata": {},
   "outputs": [
    {
     "data": {
      "text/plain": [
       "7     11735\n",
       "4      8988\n",
       "1      1176\n",
       "10      418\n",
       "12       22\n",
       "Name: buildingqualitytypeid, dtype: int64"
      ]
     },
     "execution_count": 13,
     "metadata": {},
     "output_type": "execute_result"
    }
   ],
   "source": [
    "indexNames8 = zillow_2016_merged[ zillow_2016_merged['buildingqualitytypeid'] == 8].index\n",
    "\n",
    "indexNames8\n",
    "\n",
    "zillow_2016_merged.drop(indexNames8, inplace=True)\n",
    "\n",
    "zillow_2016_merged['buildingqualitytypeid'].value_counts()"
   ]
  },
  {
   "cell_type": "code",
   "execution_count": 14,
   "metadata": {},
   "outputs": [
    {
     "data": {
      "text/plain": [
       "7     11735\n",
       "4      8988\n",
       "1      1176\n",
       "10      418\n",
       "Name: buildingqualitytypeid, dtype: int64"
      ]
     },
     "execution_count": 14,
     "metadata": {},
     "output_type": "execute_result"
    }
   ],
   "source": [
    "indexNames12 = zillow_2016_merged[ zillow_2016_merged['buildingqualitytypeid'] == 12].index\n",
    "\n",
    "zillow_2016_merged.drop(indexNames12, inplace=True)\n",
    "\n",
    "zillow_2016_merged['buildingqualitytypeid'].value_counts()"
   ]
  },
  {
   "cell_type": "code",
   "execution_count": 15,
   "metadata": {},
   "outputs": [],
   "source": [
    "valuecounts = zillow_2016_merged['propertycountylandusecode'].value_counts()\n",
    "\n",
    "zillow_2016_merged['propertycountylandusecode'].value_counts()\n",
    "\n",
    "sum(valuecounts)\n",
    "\n",
    "landusecode_ValueCounts = zillow_2016_merged['propertycountylandusecode'].value_counts()\n",
    "\n",
    "vc = zillow_2016_merged['propertycountylandusecode'].value_counts()\n",
    "u  = [i not in set(vc[vc<51].index) for i in zillow_2016_merged['propertycountylandusecode']]\n",
    "zillow_2016_merged = zillow_2016_merged[u]"
   ]
  },
  {
   "cell_type": "code",
   "execution_count": null,
   "metadata": {},
   "outputs": [],
   "source": [
    "zillow_2016_merged['propertycountylandusecode'].value_counts()"
   ]
  },
  {
   "cell_type": "code",
   "execution_count": 16,
   "metadata": {},
   "outputs": [],
   "source": [
    "zillow_2016_merged = pd.get_dummies(zillow_2016_merged, columns=[\"propertycountylandusecode\"])"
   ]
  },
  {
   "cell_type": "code",
   "execution_count": 17,
   "metadata": {},
   "outputs": [],
   "source": [
    "zillow_2016_merged = pd.get_dummies(zillow_2016_merged, columns=[\"propertylandusetypeid\"])"
   ]
  },
  {
   "cell_type": "code",
   "execution_count": 18,
   "metadata": {},
   "outputs": [],
   "source": [
    "zillow_2016_merged['propertyzoningdesc'].value_counts()\n",
    "\n",
    "vc = zillow_2016_merged['propertyzoningdesc'].value_counts()\n",
    "u  = [i not in set(vc[vc<100].index) for i in zillow_2016_merged['propertyzoningdesc']]\n",
    "zillow_2016_merged = zillow_2016_merged[u]"
   ]
  },
  {
   "cell_type": "code",
   "execution_count": null,
   "metadata": {},
   "outputs": [],
   "source": [
    "# zillow_2016_merged['propertyzoningdesc'].value_counts()"
   ]
  },
  {
   "cell_type": "code",
   "execution_count": null,
   "metadata": {},
   "outputs": [],
   "source": [
    "zillow_2016_merged.head(100)"
   ]
  },
  {
   "cell_type": "code",
   "execution_count": null,
   "metadata": {},
   "outputs": [],
   "source": [
    "zillow_2016_merged.shape"
   ]
  },
  {
   "cell_type": "code",
   "execution_count": null,
   "metadata": {},
   "outputs": [],
   "source": [
    "(22135, 42)"
   ]
  },
  {
   "cell_type": "code",
   "execution_count": null,
   "metadata": {},
   "outputs": [],
   "source": [
    "zillow_2016_merged['transactiondate']"
   ]
  },
  {
   "cell_type": "code",
   "execution_count": null,
   "metadata": {},
   "outputs": [],
   "source": [
    "zillow_2016_merged['transactiondate'] = pd.to_numeric(zillow_2016_merged.transactiondate.str.replace('-',''))"
   ]
  },
  {
   "cell_type": "code",
   "execution_count": null,
   "metadata": {},
   "outputs": [],
   "source": [
    "from datetime import datetime\n"
   ]
  },
  {
   "cell_type": "code",
   "execution_count": null,
   "metadata": {},
   "outputs": [],
   "source": [
    "zillow_2016_merged['transactiondate'].unique()"
   ]
  },
  {
   "cell_type": "code",
   "execution_count": null,
   "metadata": {},
   "outputs": [],
   "source": [
    "zillow_2016_merged['transactiondate'].dtype"
   ]
  },
  {
   "cell_type": "code",
   "execution_count": null,
   "metadata": {},
   "outputs": [],
   "source": [
    "zillow_2016_merged['transactiondate'] = zillow_2016_merged['transactiondate'].astype(str)"
   ]
  },
  {
   "cell_type": "code",
   "execution_count": null,
   "metadata": {},
   "outputs": [],
   "source": [
    "zillow_2016_merged['transactiondate'].dtype"
   ]
  },
  {
   "cell_type": "code",
   "execution_count": null,
   "metadata": {},
   "outputs": [],
   "source": [
    "zillow_2016_merged['transactiondate'] = zillow_2016_merged['transactiondate'].str[4:]"
   ]
  },
  {
   "cell_type": "code",
   "execution_count": null,
   "metadata": {},
   "outputs": [],
   "source": [
    "zillow_2016_merged['transactiondate'].unique()\n"
   ]
  },
  {
   "cell_type": "code",
   "execution_count": null,
   "metadata": {},
   "outputs": [],
   "source": [
    "zillow_2016_merged['transactiondate'] = zillow_2016_merged['transactiondate'].str[:2]"
   ]
  },
  {
   "cell_type": "code",
   "execution_count": null,
   "metadata": {},
   "outputs": [],
   "source": [
    "zillow_2016_merged['transactiondate'].unique()"
   ]
  },
  {
   "cell_type": "code",
   "execution_count": null,
   "metadata": {},
   "outputs": [],
   "source": [
    "zillow_2016_merged['transactiondate'] = zillow_2016_merged['transactiondate'].astype('int')"
   ]
  },
  {
   "cell_type": "code",
   "execution_count": null,
   "metadata": {},
   "outputs": [],
   "source": [
    "zillow_2016_merged['transactiondate'].dtype"
   ]
  },
  {
   "cell_type": "code",
   "execution_count": null,
   "metadata": {},
   "outputs": [],
   "source": [
    "zillow_2016_merged['transactiondate'].unique()"
   ]
  },
  {
   "cell_type": "code",
   "execution_count": null,
   "metadata": {},
   "outputs": [],
   "source": [
    "pd.set_option('display.max_columns', None)\n",
    "\n",
    "zillow_2016_merged.head(100)"
   ]
  },
  {
   "cell_type": "code",
   "execution_count": null,
   "metadata": {},
   "outputs": [],
   "source": [
    "zillow_2016_merged['propertyzoningdesc'].unique()"
   ]
  },
  {
   "cell_type": "code",
   "execution_count": null,
   "metadata": {},
   "outputs": [],
   "source": [
    "zillow_2016_merged['regionidcity'].unique()"
   ]
  },
  {
   "cell_type": "code",
   "execution_count": null,
   "metadata": {},
   "outputs": [],
   "source": [
    "zillow_2016_merged['regionidcounty'].unique()"
   ]
  },
  {
   "cell_type": "code",
   "execution_count": null,
   "metadata": {},
   "outputs": [],
   "source": [
    "zillow_2016_merged['regionidneighborhood'].unique()"
   ]
  },
  {
   "cell_type": "code",
   "execution_count": null,
   "metadata": {},
   "outputs": [],
   "source": [
    "zillow_2016_merged['regionidzip'].unique()"
   ]
  },
  {
   "cell_type": "code",
   "execution_count": null,
   "metadata": {},
   "outputs": [],
   "source": [
    "zillow_2016_merged.corr()"
   ]
  },
  {
   "cell_type": "code",
   "execution_count": null,
   "metadata": {},
   "outputs": [],
   "source": [
    "import seaborn as sns\n",
    "import matplotlib.pyplot as plt\n",
    "\n",
    "f, ax = plt.subplots(figsize=(10,10))\n",
    "\n",
    "heatmap = sns.heatmap(zillow_2016_merged.corr())\n",
    "\n",
    "heatmap"
   ]
  },
  {
   "cell_type": "code",
   "execution_count": 19,
   "metadata": {},
   "outputs": [
    {
     "data": {
      "text/plain": [
       "1950    730\n",
       "1953    633\n",
       "1954    577\n",
       "1951    534\n",
       "1955    519\n",
       "       ... \n",
       "2013     10\n",
       "2010      8\n",
       "2014      6\n",
       "2012      6\n",
       "2011      5\n",
       "Name: yearbuilt, Length: 80, dtype: int64"
      ]
     },
     "execution_count": 19,
     "metadata": {},
     "output_type": "execute_result"
    }
   ],
   "source": [
    "# pd.set_option('display.max_rows', None)\n",
    "\n",
    "# # zillow_2016_merged['yearbuilt'] = zillow_2016_merged['yearbuilt'].astype('int')\n",
    "\n",
    "# vc = zillow_2016_merged['yearbuilt'].value_counts()\n",
    "# zillow_2016_merged['yearbuilt'].dtype\n",
    "\n",
    "\n",
    "\n",
    "\n",
    "indexNames = zillow_2016_merged[ zillow_2016_merged['yearbuilt'] <1935].index\n",
    " \n",
    "zillow_2016_merged.drop(indexNames , inplace=True)\n",
    "\n",
    "zillow_2016_merged['yearbuilt'].value_counts()\n",
    "\n",
    "\n",
    "           "
   ]
  },
  {
   "cell_type": "code",
   "execution_count": null,
   "metadata": {},
   "outputs": [],
   "source": [
    "zillow_2016_merged.head()"
   ]
  },
  {
   "cell_type": "code",
   "execution_count": null,
   "metadata": {},
   "outputs": [],
   "source": [
    "zillow_2016_merged.shape"
   ]
  },
  {
   "cell_type": "code",
   "execution_count": 20,
   "metadata": {},
   "outputs": [
    {
     "data": {
      "text/html": [
       "<div>\n",
       "<style scoped>\n",
       "    .dataframe tbody tr th:only-of-type {\n",
       "        vertical-align: middle;\n",
       "    }\n",
       "\n",
       "    .dataframe tbody tr th {\n",
       "        vertical-align: top;\n",
       "    }\n",
       "\n",
       "    .dataframe thead th {\n",
       "        text-align: right;\n",
       "    }\n",
       "</style>\n",
       "<table border=\"1\" class=\"dataframe\">\n",
       "  <thead>\n",
       "    <tr style=\"text-align: right;\">\n",
       "      <th></th>\n",
       "      <th>logerror</th>\n",
       "      <th>taxdelinquencyflag</th>\n",
       "      <th>airconditioningtypeid</th>\n",
       "      <th>bedroomcnt</th>\n",
       "      <th>buildingqualitytypeid</th>\n",
       "      <th>calculatedfinishedsquarefeet</th>\n",
       "      <th>hashottuborspa</th>\n",
       "      <th>lotsizesquarefeet</th>\n",
       "      <th>poolcnt</th>\n",
       "      <th>regionidcity</th>\n",
       "      <th>...</th>\n",
       "      <th>propertycountylandusecode_0100</th>\n",
       "      <th>propertycountylandusecode_0101</th>\n",
       "      <th>propertycountylandusecode_0104</th>\n",
       "      <th>propertycountylandusecode_010C</th>\n",
       "      <th>propertycountylandusecode_010D</th>\n",
       "      <th>propertycountylandusecode_010E</th>\n",
       "      <th>propertycountylandusecode_012C</th>\n",
       "      <th>propertylandusetypeid_261</th>\n",
       "      <th>propertylandusetypeid_266</th>\n",
       "      <th>propertylandusetypeid_269</th>\n",
       "    </tr>\n",
       "  </thead>\n",
       "  <tbody>\n",
       "    <tr>\n",
       "      <td>0</td>\n",
       "      <td>0.0020</td>\n",
       "      <td>0</td>\n",
       "      <td>0</td>\n",
       "      <td>3</td>\n",
       "      <td>7</td>\n",
       "      <td>1126</td>\n",
       "      <td>0</td>\n",
       "      <td>6306.0</td>\n",
       "      <td>0</td>\n",
       "      <td>12447</td>\n",
       "      <td>...</td>\n",
       "      <td>1</td>\n",
       "      <td>0</td>\n",
       "      <td>0</td>\n",
       "      <td>0</td>\n",
       "      <td>0</td>\n",
       "      <td>0</td>\n",
       "      <td>0</td>\n",
       "      <td>1</td>\n",
       "      <td>0</td>\n",
       "      <td>0</td>\n",
       "    </tr>\n",
       "    <tr>\n",
       "      <td>1</td>\n",
       "      <td>0.0030</td>\n",
       "      <td>0</td>\n",
       "      <td>0</td>\n",
       "      <td>3</td>\n",
       "      <td>7</td>\n",
       "      <td>1216</td>\n",
       "      <td>0</td>\n",
       "      <td>7560.0</td>\n",
       "      <td>0</td>\n",
       "      <td>12447</td>\n",
       "      <td>...</td>\n",
       "      <td>1</td>\n",
       "      <td>0</td>\n",
       "      <td>0</td>\n",
       "      <td>0</td>\n",
       "      <td>0</td>\n",
       "      <td>0</td>\n",
       "      <td>0</td>\n",
       "      <td>1</td>\n",
       "      <td>0</td>\n",
       "      <td>0</td>\n",
       "    </tr>\n",
       "    <tr>\n",
       "      <td>2</td>\n",
       "      <td>-0.0545</td>\n",
       "      <td>0</td>\n",
       "      <td>1</td>\n",
       "      <td>3</td>\n",
       "      <td>7</td>\n",
       "      <td>984</td>\n",
       "      <td>0</td>\n",
       "      <td>6448.0</td>\n",
       "      <td>0</td>\n",
       "      <td>12447</td>\n",
       "      <td>...</td>\n",
       "      <td>1</td>\n",
       "      <td>0</td>\n",
       "      <td>0</td>\n",
       "      <td>0</td>\n",
       "      <td>0</td>\n",
       "      <td>0</td>\n",
       "      <td>0</td>\n",
       "      <td>1</td>\n",
       "      <td>0</td>\n",
       "      <td>0</td>\n",
       "    </tr>\n",
       "    <tr>\n",
       "      <td>3</td>\n",
       "      <td>0.0411</td>\n",
       "      <td>0</td>\n",
       "      <td>0</td>\n",
       "      <td>4</td>\n",
       "      <td>7</td>\n",
       "      <td>1150</td>\n",
       "      <td>0</td>\n",
       "      <td>7552.0</td>\n",
       "      <td>0</td>\n",
       "      <td>12447</td>\n",
       "      <td>...</td>\n",
       "      <td>1</td>\n",
       "      <td>0</td>\n",
       "      <td>0</td>\n",
       "      <td>0</td>\n",
       "      <td>0</td>\n",
       "      <td>0</td>\n",
       "      <td>0</td>\n",
       "      <td>1</td>\n",
       "      <td>0</td>\n",
       "      <td>0</td>\n",
       "    </tr>\n",
       "    <tr>\n",
       "      <td>4</td>\n",
       "      <td>0.0100</td>\n",
       "      <td>0</td>\n",
       "      <td>0</td>\n",
       "      <td>2</td>\n",
       "      <td>7</td>\n",
       "      <td>1648</td>\n",
       "      <td>0</td>\n",
       "      <td>5697.0</td>\n",
       "      <td>0</td>\n",
       "      <td>46298</td>\n",
       "      <td>...</td>\n",
       "      <td>1</td>\n",
       "      <td>0</td>\n",
       "      <td>0</td>\n",
       "      <td>0</td>\n",
       "      <td>0</td>\n",
       "      <td>0</td>\n",
       "      <td>0</td>\n",
       "      <td>1</td>\n",
       "      <td>0</td>\n",
       "      <td>0</td>\n",
       "    </tr>\n",
       "    <tr>\n",
       "      <td>...</td>\n",
       "      <td>...</td>\n",
       "      <td>...</td>\n",
       "      <td>...</td>\n",
       "      <td>...</td>\n",
       "      <td>...</td>\n",
       "      <td>...</td>\n",
       "      <td>...</td>\n",
       "      <td>...</td>\n",
       "      <td>...</td>\n",
       "      <td>...</td>\n",
       "      <td>...</td>\n",
       "      <td>...</td>\n",
       "      <td>...</td>\n",
       "      <td>...</td>\n",
       "      <td>...</td>\n",
       "      <td>...</td>\n",
       "      <td>...</td>\n",
       "      <td>...</td>\n",
       "      <td>...</td>\n",
       "      <td>...</td>\n",
       "      <td>...</td>\n",
       "    </tr>\n",
       "    <tr>\n",
       "      <td>160</td>\n",
       "      <td>0.0402</td>\n",
       "      <td>0</td>\n",
       "      <td>0</td>\n",
       "      <td>4</td>\n",
       "      <td>7</td>\n",
       "      <td>1192</td>\n",
       "      <td>0</td>\n",
       "      <td>6003.0</td>\n",
       "      <td>0</td>\n",
       "      <td>12447</td>\n",
       "      <td>...</td>\n",
       "      <td>1</td>\n",
       "      <td>0</td>\n",
       "      <td>0</td>\n",
       "      <td>0</td>\n",
       "      <td>0</td>\n",
       "      <td>0</td>\n",
       "      <td>0</td>\n",
       "      <td>1</td>\n",
       "      <td>0</td>\n",
       "      <td>0</td>\n",
       "    </tr>\n",
       "    <tr>\n",
       "      <td>162</td>\n",
       "      <td>0.0149</td>\n",
       "      <td>0</td>\n",
       "      <td>1</td>\n",
       "      <td>3</td>\n",
       "      <td>4</td>\n",
       "      <td>1920</td>\n",
       "      <td>0</td>\n",
       "      <td>7503.0</td>\n",
       "      <td>1</td>\n",
       "      <td>12447</td>\n",
       "      <td>...</td>\n",
       "      <td>0</td>\n",
       "      <td>1</td>\n",
       "      <td>0</td>\n",
       "      <td>0</td>\n",
       "      <td>0</td>\n",
       "      <td>0</td>\n",
       "      <td>0</td>\n",
       "      <td>1</td>\n",
       "      <td>0</td>\n",
       "      <td>0</td>\n",
       "    </tr>\n",
       "    <tr>\n",
       "      <td>163</td>\n",
       "      <td>-0.0192</td>\n",
       "      <td>0</td>\n",
       "      <td>0</td>\n",
       "      <td>4</td>\n",
       "      <td>7</td>\n",
       "      <td>1440</td>\n",
       "      <td>0</td>\n",
       "      <td>5126.0</td>\n",
       "      <td>0</td>\n",
       "      <td>54722</td>\n",
       "      <td>...</td>\n",
       "      <td>1</td>\n",
       "      <td>0</td>\n",
       "      <td>0</td>\n",
       "      <td>0</td>\n",
       "      <td>0</td>\n",
       "      <td>0</td>\n",
       "      <td>0</td>\n",
       "      <td>1</td>\n",
       "      <td>0</td>\n",
       "      <td>0</td>\n",
       "    </tr>\n",
       "    <tr>\n",
       "      <td>165</td>\n",
       "      <td>0.1647</td>\n",
       "      <td>0</td>\n",
       "      <td>0</td>\n",
       "      <td>3</td>\n",
       "      <td>4</td>\n",
       "      <td>1734</td>\n",
       "      <td>0</td>\n",
       "      <td>5691.0</td>\n",
       "      <td>0</td>\n",
       "      <td>12447</td>\n",
       "      <td>...</td>\n",
       "      <td>1</td>\n",
       "      <td>0</td>\n",
       "      <td>0</td>\n",
       "      <td>0</td>\n",
       "      <td>0</td>\n",
       "      <td>0</td>\n",
       "      <td>0</td>\n",
       "      <td>1</td>\n",
       "      <td>0</td>\n",
       "      <td>0</td>\n",
       "    </tr>\n",
       "    <tr>\n",
       "      <td>169</td>\n",
       "      <td>-0.1520</td>\n",
       "      <td>0</td>\n",
       "      <td>0</td>\n",
       "      <td>2</td>\n",
       "      <td>7</td>\n",
       "      <td>1137</td>\n",
       "      <td>0</td>\n",
       "      <td>7683.0</td>\n",
       "      <td>0</td>\n",
       "      <td>12447</td>\n",
       "      <td>...</td>\n",
       "      <td>1</td>\n",
       "      <td>0</td>\n",
       "      <td>0</td>\n",
       "      <td>0</td>\n",
       "      <td>0</td>\n",
       "      <td>0</td>\n",
       "      <td>0</td>\n",
       "      <td>1</td>\n",
       "      <td>0</td>\n",
       "      <td>0</td>\n",
       "    </tr>\n",
       "  </tbody>\n",
       "</table>\n",
       "<p>100 rows × 27 columns</p>\n",
       "</div>"
      ],
      "text/plain": [
       "     logerror  taxdelinquencyflag  airconditioningtypeid  bedroomcnt  \\\n",
       "0      0.0020                   0                      0           3   \n",
       "1      0.0030                   0                      0           3   \n",
       "2     -0.0545                   0                      1           3   \n",
       "3      0.0411                   0                      0           4   \n",
       "4      0.0100                   0                      0           2   \n",
       "..        ...                 ...                    ...         ...   \n",
       "160    0.0402                   0                      0           4   \n",
       "162    0.0149                   0                      1           3   \n",
       "163   -0.0192                   0                      0           4   \n",
       "165    0.1647                   0                      0           3   \n",
       "169   -0.1520                   0                      0           2   \n",
       "\n",
       "     buildingqualitytypeid  calculatedfinishedsquarefeet  hashottuborspa  \\\n",
       "0                        7                          1126               0   \n",
       "1                        7                          1216               0   \n",
       "2                        7                           984               0   \n",
       "3                        7                          1150               0   \n",
       "4                        7                          1648               0   \n",
       "..                     ...                           ...             ...   \n",
       "160                      7                          1192               0   \n",
       "162                      4                          1920               0   \n",
       "163                      7                          1440               0   \n",
       "165                      4                          1734               0   \n",
       "169                      7                          1137               0   \n",
       "\n",
       "     lotsizesquarefeet  poolcnt  regionidcity  ...  \\\n",
       "0               6306.0        0         12447  ...   \n",
       "1               7560.0        0         12447  ...   \n",
       "2               6448.0        0         12447  ...   \n",
       "3               7552.0        0         12447  ...   \n",
       "4               5697.0        0         46298  ...   \n",
       "..                 ...      ...           ...  ...   \n",
       "160             6003.0        0         12447  ...   \n",
       "162             7503.0        1         12447  ...   \n",
       "163             5126.0        0         54722  ...   \n",
       "165             5691.0        0         12447  ...   \n",
       "169             7683.0        0         12447  ...   \n",
       "\n",
       "     propertycountylandusecode_0100  propertycountylandusecode_0101  \\\n",
       "0                                 1                               0   \n",
       "1                                 1                               0   \n",
       "2                                 1                               0   \n",
       "3                                 1                               0   \n",
       "4                                 1                               0   \n",
       "..                              ...                             ...   \n",
       "160                               1                               0   \n",
       "162                               0                               1   \n",
       "163                               1                               0   \n",
       "165                               1                               0   \n",
       "169                               1                               0   \n",
       "\n",
       "     propertycountylandusecode_0104  propertycountylandusecode_010C  \\\n",
       "0                                 0                               0   \n",
       "1                                 0                               0   \n",
       "2                                 0                               0   \n",
       "3                                 0                               0   \n",
       "4                                 0                               0   \n",
       "..                              ...                             ...   \n",
       "160                               0                               0   \n",
       "162                               0                               0   \n",
       "163                               0                               0   \n",
       "165                               0                               0   \n",
       "169                               0                               0   \n",
       "\n",
       "     propertycountylandusecode_010D  propertycountylandusecode_010E  \\\n",
       "0                                 0                               0   \n",
       "1                                 0                               0   \n",
       "2                                 0                               0   \n",
       "3                                 0                               0   \n",
       "4                                 0                               0   \n",
       "..                              ...                             ...   \n",
       "160                               0                               0   \n",
       "162                               0                               0   \n",
       "163                               0                               0   \n",
       "165                               0                               0   \n",
       "169                               0                               0   \n",
       "\n",
       "     propertycountylandusecode_012C  propertylandusetypeid_261  \\\n",
       "0                                 0                          1   \n",
       "1                                 0                          1   \n",
       "2                                 0                          1   \n",
       "3                                 0                          1   \n",
       "4                                 0                          1   \n",
       "..                              ...                        ...   \n",
       "160                               0                          1   \n",
       "162                               0                          1   \n",
       "163                               0                          1   \n",
       "165                               0                          1   \n",
       "169                               0                          1   \n",
       "\n",
       "     propertylandusetypeid_266  propertylandusetypeid_269  \n",
       "0                            0                          0  \n",
       "1                            0                          0  \n",
       "2                            0                          0  \n",
       "3                            0                          0  \n",
       "4                            0                          0  \n",
       "..                         ...                        ...  \n",
       "160                          0                          0  \n",
       "162                          0                          0  \n",
       "163                          0                          0  \n",
       "165                          0                          0  \n",
       "169                          0                          0  \n",
       "\n",
       "[100 rows x 27 columns]"
      ]
     },
     "execution_count": 20,
     "metadata": {},
     "output_type": "execute_result"
    }
   ],
   "source": [
    "zillow_2016_new = zillow_2016_merged.drop(columns=['transactiondate', 'regionidzip', 'propertyzoningdesc', 'rawcensustractandblock', 'latitude', 'longitude', 'regionidcounty', 'regionidneighborhood'])\n",
    "\n",
    "zillow_2016_new.head(100)"
   ]
  },
  {
   "cell_type": "code",
   "execution_count": 24,
   "metadata": {},
   "outputs": [
    {
     "data": {
      "text/plain": [
       "(15507, 35)"
      ]
     },
     "execution_count": 24,
     "metadata": {},
     "output_type": "execute_result"
    }
   ],
   "source": [
    "zillow_2016_new.shape"
   ]
  },
  {
   "cell_type": "code",
   "execution_count": 25,
   "metadata": {},
   "outputs": [
    {
     "ename": "KeyError",
     "evalue": "\"None of [Index(['regionidcity'], dtype='object')] are in the [columns]\"",
     "output_type": "error",
     "traceback": [
      "\u001b[0;31m---------------------------------------------------------------------------\u001b[0m",
      "\u001b[0;31mKeyError\u001b[0m                                  Traceback (most recent call last)",
      "\u001b[0;32m<ipython-input-25-8e15ca5f3346>\u001b[0m in \u001b[0;36m<module>\u001b[0;34m\u001b[0m\n\u001b[0;32m----> 1\u001b[0;31m \u001b[0mzillow_2016_new\u001b[0m \u001b[0;34m=\u001b[0m \u001b[0mpd\u001b[0m\u001b[0;34m.\u001b[0m\u001b[0mget_dummies\u001b[0m\u001b[0;34m(\u001b[0m\u001b[0mzillow_2016_new\u001b[0m\u001b[0;34m,\u001b[0m \u001b[0mcolumns\u001b[0m\u001b[0;34m=\u001b[0m\u001b[0;34m[\u001b[0m\u001b[0;34m\"regionidcity\"\u001b[0m\u001b[0;34m]\u001b[0m\u001b[0;34m)\u001b[0m\u001b[0;34m\u001b[0m\u001b[0;34m\u001b[0m\u001b[0m\n\u001b[0m",
      "\u001b[0;32m/anaconda2/envs/py37/lib/python3.7/site-packages/pandas/core/reshape/reshape.py\u001b[0m in \u001b[0;36mget_dummies\u001b[0;34m(data, prefix, prefix_sep, dummy_na, columns, sparse, drop_first, dtype)\u001b[0m\n\u001b[1;32m    870\u001b[0m             \u001b[0mdata_to_encode\u001b[0m \u001b[0;34m=\u001b[0m \u001b[0mdata\u001b[0m\u001b[0;34m.\u001b[0m\u001b[0mselect_dtypes\u001b[0m\u001b[0;34m(\u001b[0m\u001b[0minclude\u001b[0m\u001b[0;34m=\u001b[0m\u001b[0mdtypes_to_encode\u001b[0m\u001b[0;34m)\u001b[0m\u001b[0;34m\u001b[0m\u001b[0;34m\u001b[0m\u001b[0m\n\u001b[1;32m    871\u001b[0m         \u001b[0;32melse\u001b[0m\u001b[0;34m:\u001b[0m\u001b[0;34m\u001b[0m\u001b[0;34m\u001b[0m\u001b[0m\n\u001b[0;32m--> 872\u001b[0;31m             \u001b[0mdata_to_encode\u001b[0m \u001b[0;34m=\u001b[0m \u001b[0mdata\u001b[0m\u001b[0;34m[\u001b[0m\u001b[0mcolumns\u001b[0m\u001b[0;34m]\u001b[0m\u001b[0;34m\u001b[0m\u001b[0;34m\u001b[0m\u001b[0m\n\u001b[0m\u001b[1;32m    873\u001b[0m \u001b[0;34m\u001b[0m\u001b[0m\n\u001b[1;32m    874\u001b[0m         \u001b[0;31m# validate prefixes and separator to avoid silently dropping cols\u001b[0m\u001b[0;34m\u001b[0m\u001b[0;34m\u001b[0m\u001b[0;34m\u001b[0m\u001b[0m\n",
      "\u001b[0;32m/anaconda2/envs/py37/lib/python3.7/site-packages/pandas/core/frame.py\u001b[0m in \u001b[0;36m__getitem__\u001b[0;34m(self, key)\u001b[0m\n\u001b[1;32m   2984\u001b[0m             \u001b[0;32mif\u001b[0m \u001b[0mis_iterator\u001b[0m\u001b[0;34m(\u001b[0m\u001b[0mkey\u001b[0m\u001b[0;34m)\u001b[0m\u001b[0;34m:\u001b[0m\u001b[0;34m\u001b[0m\u001b[0;34m\u001b[0m\u001b[0m\n\u001b[1;32m   2985\u001b[0m                 \u001b[0mkey\u001b[0m \u001b[0;34m=\u001b[0m \u001b[0mlist\u001b[0m\u001b[0;34m(\u001b[0m\u001b[0mkey\u001b[0m\u001b[0;34m)\u001b[0m\u001b[0;34m\u001b[0m\u001b[0;34m\u001b[0m\u001b[0m\n\u001b[0;32m-> 2986\u001b[0;31m             \u001b[0mindexer\u001b[0m \u001b[0;34m=\u001b[0m \u001b[0mself\u001b[0m\u001b[0;34m.\u001b[0m\u001b[0mloc\u001b[0m\u001b[0;34m.\u001b[0m\u001b[0m_convert_to_indexer\u001b[0m\u001b[0;34m(\u001b[0m\u001b[0mkey\u001b[0m\u001b[0;34m,\u001b[0m \u001b[0maxis\u001b[0m\u001b[0;34m=\u001b[0m\u001b[0;36m1\u001b[0m\u001b[0;34m,\u001b[0m \u001b[0mraise_missing\u001b[0m\u001b[0;34m=\u001b[0m\u001b[0;32mTrue\u001b[0m\u001b[0;34m)\u001b[0m\u001b[0;34m\u001b[0m\u001b[0;34m\u001b[0m\u001b[0m\n\u001b[0m\u001b[1;32m   2987\u001b[0m \u001b[0;34m\u001b[0m\u001b[0m\n\u001b[1;32m   2988\u001b[0m         \u001b[0;31m# take() does not accept boolean indexers\u001b[0m\u001b[0;34m\u001b[0m\u001b[0;34m\u001b[0m\u001b[0;34m\u001b[0m\u001b[0m\n",
      "\u001b[0;32m/anaconda2/envs/py37/lib/python3.7/site-packages/pandas/core/indexing.py\u001b[0m in \u001b[0;36m_convert_to_indexer\u001b[0;34m(self, obj, axis, is_setter, raise_missing)\u001b[0m\n\u001b[1;32m   1283\u001b[0m                 \u001b[0;31m# When setting, missing keys are not allowed, even with .loc:\u001b[0m\u001b[0;34m\u001b[0m\u001b[0;34m\u001b[0m\u001b[0;34m\u001b[0m\u001b[0m\n\u001b[1;32m   1284\u001b[0m                 \u001b[0mkwargs\u001b[0m \u001b[0;34m=\u001b[0m \u001b[0;34m{\u001b[0m\u001b[0;34m\"raise_missing\"\u001b[0m\u001b[0;34m:\u001b[0m \u001b[0;32mTrue\u001b[0m \u001b[0;32mif\u001b[0m \u001b[0mis_setter\u001b[0m \u001b[0;32melse\u001b[0m \u001b[0mraise_missing\u001b[0m\u001b[0;34m}\u001b[0m\u001b[0;34m\u001b[0m\u001b[0;34m\u001b[0m\u001b[0m\n\u001b[0;32m-> 1285\u001b[0;31m                 \u001b[0;32mreturn\u001b[0m \u001b[0mself\u001b[0m\u001b[0;34m.\u001b[0m\u001b[0m_get_listlike_indexer\u001b[0m\u001b[0;34m(\u001b[0m\u001b[0mobj\u001b[0m\u001b[0;34m,\u001b[0m \u001b[0maxis\u001b[0m\u001b[0;34m,\u001b[0m \u001b[0;34m**\u001b[0m\u001b[0mkwargs\u001b[0m\u001b[0;34m)\u001b[0m\u001b[0;34m[\u001b[0m\u001b[0;36m1\u001b[0m\u001b[0;34m]\u001b[0m\u001b[0;34m\u001b[0m\u001b[0;34m\u001b[0m\u001b[0m\n\u001b[0m\u001b[1;32m   1286\u001b[0m         \u001b[0;32melse\u001b[0m\u001b[0;34m:\u001b[0m\u001b[0;34m\u001b[0m\u001b[0;34m\u001b[0m\u001b[0m\n\u001b[1;32m   1287\u001b[0m             \u001b[0;32mtry\u001b[0m\u001b[0;34m:\u001b[0m\u001b[0;34m\u001b[0m\u001b[0;34m\u001b[0m\u001b[0m\n",
      "\u001b[0;32m/anaconda2/envs/py37/lib/python3.7/site-packages/pandas/core/indexing.py\u001b[0m in \u001b[0;36m_get_listlike_indexer\u001b[0;34m(self, key, axis, raise_missing)\u001b[0m\n\u001b[1;32m   1090\u001b[0m \u001b[0;34m\u001b[0m\u001b[0m\n\u001b[1;32m   1091\u001b[0m         self._validate_read_indexer(\n\u001b[0;32m-> 1092\u001b[0;31m             \u001b[0mkeyarr\u001b[0m\u001b[0;34m,\u001b[0m \u001b[0mindexer\u001b[0m\u001b[0;34m,\u001b[0m \u001b[0mo\u001b[0m\u001b[0;34m.\u001b[0m\u001b[0m_get_axis_number\u001b[0m\u001b[0;34m(\u001b[0m\u001b[0maxis\u001b[0m\u001b[0;34m)\u001b[0m\u001b[0;34m,\u001b[0m \u001b[0mraise_missing\u001b[0m\u001b[0;34m=\u001b[0m\u001b[0mraise_missing\u001b[0m\u001b[0;34m\u001b[0m\u001b[0;34m\u001b[0m\u001b[0m\n\u001b[0m\u001b[1;32m   1093\u001b[0m         )\n\u001b[1;32m   1094\u001b[0m         \u001b[0;32mreturn\u001b[0m \u001b[0mkeyarr\u001b[0m\u001b[0;34m,\u001b[0m \u001b[0mindexer\u001b[0m\u001b[0;34m\u001b[0m\u001b[0;34m\u001b[0m\u001b[0m\n",
      "\u001b[0;32m/anaconda2/envs/py37/lib/python3.7/site-packages/pandas/core/indexing.py\u001b[0m in \u001b[0;36m_validate_read_indexer\u001b[0;34m(self, key, indexer, axis, raise_missing)\u001b[0m\n\u001b[1;32m   1175\u001b[0m                 raise KeyError(\n\u001b[1;32m   1176\u001b[0m                     \"None of [{key}] are in the [{axis}]\".format(\n\u001b[0;32m-> 1177\u001b[0;31m                         \u001b[0mkey\u001b[0m\u001b[0;34m=\u001b[0m\u001b[0mkey\u001b[0m\u001b[0;34m,\u001b[0m \u001b[0maxis\u001b[0m\u001b[0;34m=\u001b[0m\u001b[0mself\u001b[0m\u001b[0;34m.\u001b[0m\u001b[0mobj\u001b[0m\u001b[0;34m.\u001b[0m\u001b[0m_get_axis_name\u001b[0m\u001b[0;34m(\u001b[0m\u001b[0maxis\u001b[0m\u001b[0;34m)\u001b[0m\u001b[0;34m\u001b[0m\u001b[0;34m\u001b[0m\u001b[0m\n\u001b[0m\u001b[1;32m   1178\u001b[0m                     )\n\u001b[1;32m   1179\u001b[0m                 )\n",
      "\u001b[0;31mKeyError\u001b[0m: \"None of [Index(['regionidcity'], dtype='object')] are in the [columns]\""
     ]
    }
   ],
   "source": [
    "zillow_2016_new = pd.get_dummies(zillow_2016_new, columns=[\"regionidcity\"])"
   ]
  },
  {
   "cell_type": "code",
   "execution_count": null,
   "metadata": {},
   "outputs": [],
   "source": [
    "zillow_2016_new.head()"
   ]
  },
  {
   "cell_type": "code",
   "execution_count": null,
   "metadata": {},
   "outputs": [],
   "source": [
    "zillow_2016_new['buildingqualitytypeid'].dtype"
   ]
  },
  {
   "cell_type": "code",
   "execution_count": null,
   "metadata": {},
   "outputs": [],
   "source": [
    "bedroomcnt\n",
    "buildingqualitytypeid\n",
    "calculatedfinishedsquarefeet\n",
    "lotsizesquarefeet\n",
    "poolcnt\n",
    "structuretaxvaluedollarcnt\n",
    "landtaxvaluedollarcnt\n",
    "\n",
    "\n",
    "\n",
    "\n"
   ]
  },
  {
   "cell_type": "code",
   "execution_count": null,
   "metadata": {},
   "outputs": [],
   "source": [
    "zillow_2016_new[ zillow_2016_new['propertylandusetypeid_269'] == 1 ]"
   ]
  },
  {
   "cell_type": "markdown",
   "metadata": {},
   "source": [
    "# NormalizingData"
   ]
  },
  {
   "cell_type": "code",
   "execution_count": 29,
   "metadata": {},
   "outputs": [
    {
     "data": {
      "text/plain": [
       "(15507, 7)"
      ]
     },
     "execution_count": 29,
     "metadata": {},
     "output_type": "execute_result"
    }
   ],
   "source": [
    "from sklearn.preprocessing import MinMaxScaler\n",
    "\n",
    "import pandas as pd\n",
    "from sklearn import preprocessing\n",
    "\n",
    "\n",
    "column_names_to_normalize = ['bedroomcnt', 'buildingqualitytypeid', 'calculatedfinishedsquarefeet', 'lotsizesquarefeet', 'poolcnt', 'structuretaxvaluedollarcnt', 'landtaxvaluedollarcnt']\n",
    "\n",
    "column_names_to_normalize\n",
    "\n",
    "\n",
    "x = zillow_2016_new[column_names_to_normalize].values\n",
    "\n",
    "x\n",
    "\n",
    "min_max_scaler = preprocessing.MinMaxScaler()\n",
    "\n",
    "x_scaled = min_max_scaler.fit_transform(x)\n",
    "\n",
    "x_scaled\n",
    "\n",
    "\n",
    "\n",
    "a = pd.DataFrame(x_scaled)\n",
    "\n",
    "a.values\n",
    "\n",
    "# zillow_2016_new[['bedroomcnt', 'buildingqualitytypeid', 'calculatedfinishedsquarefeet', 'lotsizesquarefeet', 'poolcnt', 'structuretaxvaluedollarcnt', 'landtaxvaluedollarcnt']] = a.values\n",
    "\n",
    "\n",
    "a.shape\n",
    "\n",
    "\n",
    "\n",
    "\n",
    "\n",
    "\n",
    "\n",
    "\n",
    "\n"
   ]
  },
  {
   "cell_type": "code",
   "execution_count": null,
   "metadata": {},
   "outputs": [],
   "source": [
    "zillow_2016_new.head(100)"
   ]
  },
  {
   "cell_type": "code",
   "execution_count": null,
   "metadata": {},
   "outputs": [],
   "source": [
    "zillow_2016_new.shape"
   ]
  },
  {
   "cell_type": "code",
   "execution_count": null,
   "metadata": {},
   "outputs": [],
   "source": [
    "#categorical variables"
   ]
  },
  {
   "cell_type": "code",
   "execution_count": null,
   "metadata": {},
   "outputs": [],
   "source": [
    "taxdelinquencyflag\n",
    "airconditioningtypeid\n",
    "hashottuborspa\n",
    "yearbuilt\n",
    "regionidcity_45457\n",
    "regionidcity_46298\n",
    "regionidcity_47019\n",
    "regionidcity_48424\n",
    "regionidcity_51617\n",
    "regionidcity_51861\n",
    "regionidcity_54299\n",
    "regionidcity_54311\n",
    "regionidcity_54722\n",
    "regionidcity_396054\n",
    "\n",
    "\n",
    "\n",
    "\n"
   ]
  },
  {
   "cell_type": "markdown",
   "metadata": {},
   "source": [
    "# More Data Cleaning"
   ]
  },
  {
   "cell_type": "code",
   "execution_count": null,
   "metadata": {},
   "outputs": [],
   "source": [
    "zillow_2016_new['yearbuilt'] = zillow_2016_new['yearbuilt'].astype('category')"
   ]
  },
  {
   "cell_type": "code",
   "execution_count": null,
   "metadata": {},
   "outputs": [],
   "source": [
    "zillow_2016_new['yearbuilt'].dtype"
   ]
  },
  {
   "cell_type": "code",
   "execution_count": null,
   "metadata": {},
   "outputs": [],
   "source": [
    "zillow_2016_new['yearbuilt'] = zillow_2016_new['yearbuilt'].astype('str')"
   ]
  },
  {
   "cell_type": "code",
   "execution_count": null,
   "metadata": {},
   "outputs": [],
   "source": [
    "pd.set_option('display.max_columns', None)\n",
    "\n",
    "listofyears = list(zillow_2016_new['yearbuilt'].unique())\n",
    "\n",
    "listofyears"
   ]
  },
  {
   "cell_type": "code",
   "execution_count": null,
   "metadata": {},
   "outputs": [],
   "source": [
    "zillow_2016_new['yearbuilt'] = zillow_2016_new['yearbuilt'].astype('int')"
   ]
  },
  {
   "cell_type": "code",
   "execution_count": null,
   "metadata": {},
   "outputs": [],
   "source": [
    "indexNames = zillow_2016_new[ zillow_2016_new['yearbuilt'] <1935].index\n",
    " \n",
    "zillow_2016_new.drop(indexNames , inplace=True)\n",
    "\n",
    "zillow_2016_new['yearbuilt'].value_counts()\n"
   ]
  },
  {
   "cell_type": "code",
   "execution_count": null,
   "metadata": {},
   "outputs": [],
   "source": [
    "zillow_2016_new['yearbuilt'] = zillow_2016_new['yearbuilt'].astype('str')"
   ]
  },
  {
   "cell_type": "code",
   "execution_count": null,
   "metadata": {},
   "outputs": [],
   "source": [
    "zillow_2016_new['yearbuilt'] = (zillow_2016_new.yearbuilt.replace({'195':'1950'}, regex=True))\n"
   ]
  },
  {
   "cell_type": "code",
   "execution_count": null,
   "metadata": {},
   "outputs": [],
   "source": [
    "zillow_2016_new['yearbuilt'].unique()"
   ]
  },
  {
   "cell_type": "code",
   "execution_count": null,
   "metadata": {},
   "outputs": [],
   "source": [
    "zillow_2016_new['yearbuilt'] = (zillow_2016_new.yearbuilt.replace({'193':'1930'}, regex=True))"
   ]
  },
  {
   "cell_type": "code",
   "execution_count": null,
   "metadata": {},
   "outputs": [],
   "source": [
    "zillow_2016_new['yearbuilt'] = (zillow_2016_new.yearbuilt.replace({'194':'1940'}, regex=True))"
   ]
  },
  {
   "cell_type": "code",
   "execution_count": null,
   "metadata": {},
   "outputs": [],
   "source": [
    "zillow_2016_new['yearbuilt'] = (zillow_2016_new.yearbuilt.replace({'196':'1960'}, regex=True))"
   ]
  },
  {
   "cell_type": "code",
   "execution_count": null,
   "metadata": {},
   "outputs": [],
   "source": [
    "zillow_2016_new['yearbuilt'] = (zillow_2016_new.yearbuilt.replace({'197':'1970'}, regex=True))"
   ]
  },
  {
   "cell_type": "code",
   "execution_count": null,
   "metadata": {},
   "outputs": [],
   "source": [
    "zillow_2016_new['yearbuilt'] = (zillow_2016_new.yearbuilt.replace({'198':'1980'}, regex=True))"
   ]
  },
  {
   "cell_type": "code",
   "execution_count": null,
   "metadata": {},
   "outputs": [],
   "source": [
    "zillow_2016_new['yearbuilt'] = (zillow_2016_new.yearbuilt.replace({'199':'1990'}, regex=True))"
   ]
  },
  {
   "cell_type": "code",
   "execution_count": null,
   "metadata": {},
   "outputs": [],
   "source": [
    "zillow_2016_new['yearbuilt'] = (zillow_2016_new.yearbuilt.replace({'20':'2000'}, regex=True))"
   ]
  },
  {
   "cell_type": "code",
   "execution_count": null,
   "metadata": {},
   "outputs": [],
   "source": [
    "zillow_2016_new['yearbuilt'] = (zillow_2016_new.yearbuilt.replace({'201':'2010'}, regex=True))"
   ]
  },
  {
   "cell_type": "code",
   "execution_count": null,
   "metadata": {},
   "outputs": [],
   "source": [
    "zillow_2016_new['yearbuilt'].unique()"
   ]
  },
  {
   "cell_type": "code",
   "execution_count": null,
   "metadata": {},
   "outputs": [],
   "source": [
    "zillow_2016_new['yearbuilt'] = zillow_2016_new['yearbuilt'].astype(str).str[:-1]"
   ]
  },
  {
   "cell_type": "code",
   "execution_count": null,
   "metadata": {},
   "outputs": [],
   "source": [
    "zillow_2016_new['yearbuilt']"
   ]
  },
  {
   "cell_type": "code",
   "execution_count": null,
   "metadata": {},
   "outputs": [],
   "source": [
    "zillow_2016_new['yearbuilt'] = (zillow_2016_new.yearbuilt.replace({'19500':'1950'}, regex=True))"
   ]
  },
  {
   "cell_type": "code",
   "execution_count": null,
   "metadata": {},
   "outputs": [],
   "source": [
    "zillow_2016_new['yearbuilt'].unique()"
   ]
  },
  {
   "cell_type": "code",
   "execution_count": null,
   "metadata": {},
   "outputs": [],
   "source": [
    "zillow_2016_new['yearbuilt'] = (zillow_2016_new.yearbuilt.replace({'20000':'2000'}, regex=True))"
   ]
  },
  {
   "cell_type": "code",
   "execution_count": null,
   "metadata": {},
   "outputs": [],
   "source": [
    "zillow_2016_new['yearbuilt'] = (zillow_2016_new.yearbuilt.replace({'20001':'2010'}, regex=True))"
   ]
  },
  {
   "cell_type": "code",
   "execution_count": null,
   "metadata": {},
   "outputs": [],
   "source": [
    "zillow_2016_new['yearbuilt'].unique()"
   ]
  },
  {
   "cell_type": "code",
   "execution_count": null,
   "metadata": {},
   "outputs": [],
   "source": [
    "zillow_2016_new['yearbuilt'] = zillow_2016_new['yearbuilt'].astype('category')"
   ]
  },
  {
   "cell_type": "code",
   "execution_count": null,
   "metadata": {},
   "outputs": [],
   "source": [
    "zillow_2016_new = pd.get_dummies(zillow_2016_new, columns=[\"yearbuilt\"])\n",
    "\n",
    "zillow_2016_new.head(100)"
   ]
  },
  {
   "cell_type": "code",
   "execution_count": null,
   "metadata": {},
   "outputs": [],
   "source": [
    "zillow_2016_new.shape"
   ]
  },
  {
   "cell_type": "code",
   "execution_count": null,
   "metadata": {},
   "outputs": [],
   "source": [
    "zillow_2016_new.columns"
   ]
  },
  {
   "cell_type": "markdown",
   "metadata": {},
   "source": [
    "# Train Test Split before PCA"
   ]
  },
  {
   "cell_type": "code",
   "execution_count": 30,
   "metadata": {},
   "outputs": [
    {
     "data": {
      "text/plain": [
       "0        0.0020\n",
       "1        0.0030\n",
       "2       -0.0545\n",
       "3        0.0411\n",
       "4        0.0100\n",
       "          ...  \n",
       "26371    0.0030\n",
       "26376   -0.0010\n",
       "26377    0.1240\n",
       "26379    0.2585\n",
       "26382   -0.0523\n",
       "Name: logerror, Length: 15507, dtype: float64"
      ]
     },
     "execution_count": 30,
     "metadata": {},
     "output_type": "execute_result"
    }
   ],
   "source": [
    "x = zillow_2016_new[zillow_2016_new.columns].drop(columns = [\"logerror\"])\n",
    "\n",
    "x\n",
    "\n",
    "y =zillow_2016_new[\"logerror\"]\n",
    "\n",
    "y"
   ]
  },
  {
   "cell_type": "code",
   "execution_count": 31,
   "metadata": {},
   "outputs": [],
   "source": [
    "from sklearn.model_selection import train_test_split\n",
    "\n",
    "\n",
    "x_train, x_test, y_train, y_test = train_test_split(x,y,train_size = .8)"
   ]
  },
  {
   "cell_type": "code",
   "execution_count": 32,
   "metadata": {},
   "outputs": [
    {
     "data": {
      "text/plain": [
       "(12405, 34)"
      ]
     },
     "execution_count": 32,
     "metadata": {},
     "output_type": "execute_result"
    }
   ],
   "source": [
    "x_train.shape"
   ]
  },
  {
   "cell_type": "code",
   "execution_count": null,
   "metadata": {},
   "outputs": [],
   "source": []
  },
  {
   "cell_type": "markdown",
   "metadata": {},
   "source": [
    "# Linear Regression before PCA"
   ]
  },
  {
   "cell_type": "code",
   "execution_count": 33,
   "metadata": {},
   "outputs": [
    {
     "ename": "NameError",
     "evalue": "name 'linear_model' is not defined",
     "output_type": "error",
     "traceback": [
      "\u001b[0;31m---------------------------------------------------------------------------\u001b[0m",
      "\u001b[0;31mNameError\u001b[0m                                 Traceback (most recent call last)",
      "\u001b[0;32m<ipython-input-33-c29700cace2a>\u001b[0m in \u001b[0;36m<module>\u001b[0;34m\u001b[0m\n\u001b[0;32m----> 1\u001b[0;31m \u001b[0mlinearregression_model\u001b[0m \u001b[0;34m=\u001b[0m \u001b[0mlinear_model\u001b[0m\u001b[0;34m.\u001b[0m\u001b[0mLinearRegression\u001b[0m\u001b[0;34m(\u001b[0m\u001b[0;34m)\u001b[0m\u001b[0;34m\u001b[0m\u001b[0;34m\u001b[0m\u001b[0m\n\u001b[0m",
      "\u001b[0;31mNameError\u001b[0m: name 'linear_model' is not defined"
     ]
    }
   ],
   "source": [
    "linearregression_model = linear_model.LinearRegression()"
   ]
  },
  {
   "cell_type": "code",
   "execution_count": null,
   "metadata": {},
   "outputs": [],
   "source": [
    "linearregression_model.fit(x_train, y_train)"
   ]
  },
  {
   "cell_type": "code",
   "execution_count": null,
   "metadata": {},
   "outputs": [],
   "source": [
    "linearregression_model.intercept_"
   ]
  },
  {
   "cell_type": "code",
   "execution_count": null,
   "metadata": {},
   "outputs": [],
   "source": [
    "linearregression_model.coef_"
   ]
  },
  {
   "cell_type": "code",
   "execution_count": null,
   "metadata": {},
   "outputs": [],
   "source": [
    "linearregression_model.score(x_train, y_train)"
   ]
  },
  {
   "cell_type": "code",
   "execution_count": null,
   "metadata": {},
   "outputs": [],
   "source": [
    "!pip install yellowbrick\n"
   ]
  },
  {
   "cell_type": "code",
   "execution_count": null,
   "metadata": {},
   "outputs": [],
   "source": [
    "# from yellowbrick.regressor import ResidualsPlot\n",
    "\n",
    "# visualizer = ResidualsPlot(linearregression_model, hist=False)\n",
    "# visualizer = ResidualsPlot(linearregression_model, hist=True)\n",
    "# visualizer.fit(X_train, y_train)  # Fit the training data to the model\n",
    "# visualizer.score(x_train, y_train)  "
   ]
  },
  {
   "cell_type": "code",
   "execution_count": null,
   "metadata": {},
   "outputs": [],
   "source": [
    "%matplotlib inline\n",
    "# visualizer.poof() "
   ]
  },
  {
   "cell_type": "code",
   "execution_count": null,
   "metadata": {},
   "outputs": [],
   "source": [
    "!pip install patsy\n",
    "!pip install statsmodels"
   ]
  },
  {
   "cell_type": "code",
   "execution_count": null,
   "metadata": {},
   "outputs": [],
   "source": [
    "import statsmodels.api as sm\n",
    "\n",
    "predictions = linearregression_model.predict(x_test)\n",
    "residuals = y_test - predictions\n",
    "sm.qqplot(residuals)\n",
    "\n",
    "print(mean_squared_error(y_test,predictions)) #notsureifright"
   ]
  },
  {
   "cell_type": "markdown",
   "metadata": {},
   "source": [
    "# KNearestNeighbors"
   ]
  },
  {
   "cell_type": "code",
   "execution_count": 34,
   "metadata": {},
   "outputs": [
    {
     "name": "stderr",
     "output_type": "stream",
     "text": [
      "/anaconda2/envs/py37/lib/python3.7/site-packages/sklearn/externals/six.py:31: DeprecationWarning: The module is deprecated in version 0.21 and will be removed in version 0.23 since we've dropped support for Python 2.7. Please rely on the official version of six (https://pypi.org/project/six/).\n",
      "  \"(https://pypi.org/project/six/).\", DeprecationWarning)\n",
      "/anaconda2/envs/py37/lib/python3.7/site-packages/sklearn/externals/joblib/__init__.py:15: DeprecationWarning: sklearn.externals.joblib is deprecated in 0.21 and will be removed in 0.23. Please import this functionality directly from joblib, which can be installed with: pip install joblib. If this warning is raised when loading pickled models, you may need to re-serialize those models with scikit-learn 0.21+.\n",
      "  warnings.warn(msg, category=DeprecationWarning)\n"
     ]
    },
    {
     "data": {
      "image/png": "[encoded data removed]",
      "text/plain": [
       "<Figure size 720x432 with 1 Axes>"
      ]
     },
     "metadata": {
      "needs_background": "light"
     },
     "output_type": "display_data"
    }
   ],
   "source": [
    "import mglearn \n",
    "import matplotlib.pyplot as plt\n",
    "\n",
    "mglearn.plots.plot_knn_regression(n_neighbors=1)"
   ]
  },
  {
   "cell_type": "code",
   "execution_count": 35,
   "metadata": {},
   "outputs": [],
   "source": [
    "from sklearn.neighbors import KNeighborsRegressor\n",
    "from sklearn.metrics import mean_squared_error\n",
    "\n",
    "\n",
    "\n",
    "reg = KNeighborsRegressor(n_neighbors=10)"
   ]
  },
  {
   "cell_type": "code",
   "execution_count": null,
   "metadata": {},
   "outputs": [],
   "source": []
  },
  {
   "cell_type": "code",
   "execution_count": 36,
   "metadata": {},
   "outputs": [
    {
     "data": {
      "text/plain": [
       "KNeighborsRegressor(algorithm='auto', leaf_size=30, metric='minkowski',\n",
       "                    metric_params=None, n_jobs=None, n_neighbors=10, p=2,\n",
       "                    weights='uniform')"
      ]
     },
     "execution_count": 36,
     "metadata": {},
     "output_type": "execute_result"
    }
   ],
   "source": [
    "reg.fit(x_train, y_train)"
   ]
  },
  {
   "cell_type": "code",
   "execution_count": 37,
   "metadata": {},
   "outputs": [],
   "source": [
    "from sklearn.neighbors import KNeighborsRegressor\n",
    "x, y = mglearn.datasets.make_wave(n_samples=40)"
   ]
  },
  {
   "cell_type": "code",
   "execution_count": 38,
   "metadata": {},
   "outputs": [],
   "source": [
    "x_train, x_test, y_train, y_test = train_test_split(x, y, random_state=0)"
   ]
  },
  {
   "cell_type": "code",
   "execution_count": 39,
   "metadata": {},
   "outputs": [],
   "source": [
    "reg = KNeighborsRegressor(n_neighbors=10)"
   ]
  },
  {
   "cell_type": "code",
   "execution_count": 40,
   "metadata": {},
   "outputs": [
    {
     "data": {
      "text/plain": [
       "KNeighborsRegressor(algorithm='auto', leaf_size=30, metric='minkowski',\n",
       "                    metric_params=None, n_jobs=None, n_neighbors=10, p=2,\n",
       "                    weights='uniform')"
      ]
     },
     "execution_count": 40,
     "metadata": {},
     "output_type": "execute_result"
    }
   ],
   "source": [
    "reg.fit(x_train, y_train)"
   ]
  },
  {
   "cell_type": "code",
   "execution_count": 41,
   "metadata": {},
   "outputs": [
    {
     "ename": "TypeError",
     "evalue": "score() missing 1 required positional argument: 'y'",
     "output_type": "error",
     "traceback": [
      "\u001b[0;31m---------------------------------------------------------------------------\u001b[0m",
      "\u001b[0;31mTypeError\u001b[0m                                 Traceback (most recent call last)",
      "\u001b[0;32m<ipython-input-41-d51fcc5c550e>\u001b[0m in \u001b[0;36m<module>\u001b[0;34m\u001b[0m\n\u001b[0;32m----> 1\u001b[0;31m \u001b[0mreg\u001b[0m\u001b[0;34m.\u001b[0m\u001b[0mscore\u001b[0m\u001b[0;34m(\u001b[0m\u001b[0mreg\u001b[0m\u001b[0;34m.\u001b[0m\u001b[0mscore\u001b[0m\u001b[0;34m(\u001b[0m\u001b[0mx_test\u001b[0m\u001b[0;34m,\u001b[0m \u001b[0my_test\u001b[0m\u001b[0;34m)\u001b[0m\u001b[0;34m)\u001b[0m\u001b[0;34m\u001b[0m\u001b[0;34m\u001b[0m\u001b[0m\n\u001b[0m",
      "\u001b[0;31mTypeError\u001b[0m: score() missing 1 required positional argument: 'y'"
     ]
    }
   ],
   "source": [
    "reg.score(reg.score(x_test, y_test))"
   ]
  },
  {
   "cell_type": "code",
   "execution_count": 42,
   "metadata": {},
   "outputs": [
    {
     "name": "stdout",
     "output_type": "stream",
     "text": [
      "0.6569913168813546\n"
     ]
    }
   ],
   "source": [
    "clf=KNeighborsRegressor(30)\n",
    "clf.fit(x_train,y_train)\n",
    "y_pred=clf.predict(x_test)\n",
    "print(mean_squared_error(y_test,y_pred))"
   ]
  },
  {
   "cell_type": "markdown",
   "metadata": {},
   "source": [
    "# Principal Component Analysis"
   ]
  },
  {
   "cell_type": "code",
   "execution_count": 43,
   "metadata": {},
   "outputs": [
    {
     "data": {
      "text/plain": [
       "array([[-0.30335737, -0.15140351, -0.07980509, ..., -0.06689096,\n",
       "        -0.01949472, -0.00186695],\n",
       "       [-0.29781857, -0.13846353, -0.07549788, ..., -0.04873128,\n",
       "        -0.00402861, -0.00903958],\n",
       "       [-0.30649709, -0.16686002, -0.06906239, ..., -0.08224154,\n",
       "         0.00908101, -0.00651969],\n",
       "       ...,\n",
       "       [-0.19226969, -0.20549747,  0.11959283, ...,  0.17680232,\n",
       "        -0.02314627, -0.03868275],\n",
       "       [ 0.76699642,  0.03859397,  0.05121897, ...,  0.0340539 ,\n",
       "         0.01313594, -0.05123096],\n",
       "       [-0.31097336, -0.20645636,  0.00393524, ...,  0.06110778,\n",
       "        -0.0257533 , -0.0110608 ]])"
      ]
     },
     "execution_count": 43,
     "metadata": {},
     "output_type": "execute_result"
    }
   ],
   "source": [
    "from sklearn.decomposition import PCA\n",
    "import matplotlib.pyplot as plt\n",
    "\n",
    "\n",
    "pca_zillow = PCA(n_components=7)\n",
    "# principalComponents_zillow = pca_zillow.fit_transform(x_scaled)\n",
    "\n",
    "principalComponents_zillow = pca_zillow.fit_transform(a)\n",
    "\n",
    "principalComponents_zillow\n"
   ]
  },
  {
   "cell_type": "code",
   "execution_count": 44,
   "metadata": {},
   "outputs": [
    {
     "data": {
      "text/plain": [
       "PCA(copy=True, iterated_power='auto', n_components=7, random_state=None,\n",
       "    svd_solver='auto', tol=0.0, whiten=False)"
      ]
     },
     "execution_count": 44,
     "metadata": {},
     "output_type": "execute_result"
    }
   ],
   "source": [
    "pca_zillow"
   ]
  },
  {
   "cell_type": "code",
   "execution_count": 45,
   "metadata": {},
   "outputs": [
    {
     "data": {
      "text/plain": [
       "PCA(copy=True, iterated_power='auto', n_components=None, random_state=None,\n",
       "    svd_solver='auto', tol=0.0, whiten=False)"
      ]
     },
     "execution_count": 45,
     "metadata": {},
     "output_type": "execute_result"
    }
   ],
   "source": [
    "pca = PCA()\n",
    "pca.fit(a)"
   ]
  },
  {
   "cell_type": "code",
   "execution_count": 46,
   "metadata": {},
   "outputs": [
    {
     "data": {
      "text/plain": [
       "array([63.3, 15.9, 11.8,  5.5,  2.5,  0.7,  0.3])"
      ]
     },
     "execution_count": 46,
     "metadata": {},
     "output_type": "execute_result"
    }
   ],
   "source": [
    "variations = pca.explained_variance_ratio_*100\n",
    "variations = np.round(variations, decimals=1)\n",
    "variations"
   ]
  },
  {
   "cell_type": "code",
   "execution_count": 47,
   "metadata": {},
   "outputs": [],
   "source": [
    "plot_labels = ['PC'+str(i) for i in range(1,len(variations)+1)]\n",
    "?plot_labels"
   ]
  },
  {
   "cell_type": "code",
   "execution_count": 48,
   "metadata": {},
   "outputs": [
    {
     "data": {
      "text/plain": [
       "Text(0.5, 1.0, 'PCA Scree Plot')"
      ]
     },
     "execution_count": 48,
     "metadata": {},
     "output_type": "execute_result"
    },
    {
     "data": {
      "image/png": "[encoded data removed]",
      "text/plain": [
       "<Figure size 1440x360 with 1 Axes>"
      ]
     },
     "metadata": {
      "needs_background": "light"
     },
     "output_type": "display_data"
    }
   ],
   "source": [
    "from matplotlib.pyplot import figure\n",
    "figure(figsize=(20,5))\n",
    "plt.bar(x = plot_labels, height=variations)\n",
    "plt.xlabel('Principal Components')\n",
    "plt.ylabel('Variance Explained')\n",
    "plt.title('PCA Scree Plot')"
   ]
  },
  {
   "cell_type": "code",
   "execution_count": 49,
   "metadata": {},
   "outputs": [
    {
     "data": {
      "text/plain": [
       "Index(['logerror', 'taxdelinquencyflag', 'airconditioningtypeid', 'bedroomcnt',\n",
       "       'buildingqualitytypeid', 'calculatedfinishedsquarefeet',\n",
       "       'hashottuborspa', 'lotsizesquarefeet', 'poolcnt', 'yearbuilt',\n",
       "       'structuretaxvaluedollarcnt', 'landtaxvaluedollarcnt',\n",
       "       'heatingorsystemtypeid_2', 'heatingorsystemtypeid_7',\n",
       "       'heatingorsystemtypeid_13', 'heatingorsystemtypeid_20',\n",
       "       'propertycountylandusecode_0100', 'propertycountylandusecode_0101',\n",
       "       'propertycountylandusecode_0104', 'propertycountylandusecode_010C',\n",
       "       'propertycountylandusecode_010D', 'propertycountylandusecode_010E',\n",
       "       'propertycountylandusecode_012C', 'propertylandusetypeid_261',\n",
       "       'propertylandusetypeid_266', 'propertylandusetypeid_269',\n",
       "       'regionidcity_12447', 'regionidcity_33612', 'regionidcity_45457',\n",
       "       'regionidcity_46298', 'regionidcity_47019', 'regionidcity_51617',\n",
       "       'regionidcity_54299', 'regionidcity_54311', 'regionidcity_54722'],\n",
       "      dtype='object')"
      ]
     },
     "execution_count": 49,
     "metadata": {},
     "output_type": "execute_result"
    }
   ],
   "source": [
    "zillow_2016_new.columns\n",
    "\n"
   ]
  },
  {
   "cell_type": "code",
   "execution_count": null,
   "metadata": {},
   "outputs": [],
   "source": [
    "# from sklearn.decomposition import PCA\n",
    "# pca = PCA(n_components=3)\n",
    "# principalComponents = pca.fit_transform(x_scaled)\n",
    "# principalDf = pd.DataFrame(data = principalComponents\n",
    "#              , columns = ['principal component 1', 'principal component 2', 'principal component 3'])"
   ]
  },
  {
   "cell_type": "code",
   "execution_count": null,
   "metadata": {},
   "outputs": [],
   "source": [
    "# pca = PCA().fit(principalComponents_zillow)\n",
    "# #Plotting the Cumulative Summation of the Explained Variance\n",
    "# plt.figure()\n",
    "# plt.plot(np.cumsum(pca.explained_variance_ratio_))\n",
    "# plt.xlabel('Number of Components')\n",
    "# plt.ylabel('Variance (%)') #for each component\n",
    "# plt.title('Zillow Dataset Explained Variance')\n",
    "# plt.show()"
   ]
  },
  {
   "cell_type": "code",
   "execution_count": 50,
   "metadata": {},
   "outputs": [
    {
     "data": {
      "text/plain": [
       "array([[-0.30335737, -0.15140351, -0.07980509, ..., -0.06689096,\n",
       "        -0.01949472, -0.00186695],\n",
       "       [-0.29781857, -0.13846353, -0.07549788, ..., -0.04873128,\n",
       "        -0.00402861, -0.00903958],\n",
       "       [-0.30649709, -0.16686002, -0.06906239, ..., -0.08224154,\n",
       "         0.00908101, -0.00651969],\n",
       "       ...,\n",
       "       [-0.19226969, -0.20549747,  0.11959283, ...,  0.17680232,\n",
       "        -0.02314627, -0.03868275],\n",
       "       [ 0.76699642,  0.03859397,  0.05121897, ...,  0.0340539 ,\n",
       "         0.01313594, -0.05123096],\n",
       "       [-0.31097336, -0.20645636,  0.00393524, ...,  0.06110778,\n",
       "        -0.0257533 , -0.0110608 ]])"
      ]
     },
     "execution_count": 50,
     "metadata": {},
     "output_type": "execute_result"
    }
   ],
   "source": [
    "principalComponents_zillow"
   ]
  },
  {
   "cell_type": "code",
   "execution_count": 51,
   "metadata": {},
   "outputs": [
    {
     "data": {
      "text/html": [
       "<div>\n",
       "<style scoped>\n",
       "    .dataframe tbody tr th:only-of-type {\n",
       "        vertical-align: middle;\n",
       "    }\n",
       "\n",
       "    .dataframe tbody tr th {\n",
       "        vertical-align: top;\n",
       "    }\n",
       "\n",
       "    .dataframe thead th {\n",
       "        text-align: right;\n",
       "    }\n",
       "</style>\n",
       "<table border=\"1\" class=\"dataframe\">\n",
       "  <thead>\n",
       "    <tr style=\"text-align: right;\">\n",
       "      <th></th>\n",
       "      <th>PC 1</th>\n",
       "      <th>PC 2</th>\n",
       "      <th>PC 3</th>\n",
       "      <th>PC 4</th>\n",
       "      <th>PC 5</th>\n",
       "      <th>PC 6</th>\n",
       "      <th>PC 7</th>\n",
       "    </tr>\n",
       "  </thead>\n",
       "  <tbody>\n",
       "    <tr>\n",
       "      <td>0</td>\n",
       "      <td>-0.303357</td>\n",
       "      <td>-0.151404</td>\n",
       "      <td>-0.079805</td>\n",
       "      <td>-0.012120</td>\n",
       "      <td>-0.066891</td>\n",
       "      <td>-0.019495</td>\n",
       "      <td>-0.001867</td>\n",
       "    </tr>\n",
       "    <tr>\n",
       "      <td>1</td>\n",
       "      <td>-0.297819</td>\n",
       "      <td>-0.138464</td>\n",
       "      <td>-0.075498</td>\n",
       "      <td>0.011366</td>\n",
       "      <td>-0.048731</td>\n",
       "      <td>-0.004029</td>\n",
       "      <td>-0.009040</td>\n",
       "    </tr>\n",
       "    <tr>\n",
       "      <td>2</td>\n",
       "      <td>-0.306497</td>\n",
       "      <td>-0.166860</td>\n",
       "      <td>-0.069062</td>\n",
       "      <td>-0.019740</td>\n",
       "      <td>-0.082242</td>\n",
       "      <td>0.009081</td>\n",
       "      <td>-0.006520</td>\n",
       "    </tr>\n",
       "    <tr>\n",
       "      <td>3</td>\n",
       "      <td>-0.288915</td>\n",
       "      <td>-0.079248</td>\n",
       "      <td>-0.159232</td>\n",
       "      <td>0.058739</td>\n",
       "      <td>-0.165317</td>\n",
       "      <td>0.039172</td>\n",
       "      <td>0.000055</td>\n",
       "    </tr>\n",
       "    <tr>\n",
       "      <td>4</td>\n",
       "      <td>-0.300423</td>\n",
       "      <td>-0.151831</td>\n",
       "      <td>-0.035418</td>\n",
       "      <td>-0.033136</td>\n",
       "      <td>0.123666</td>\n",
       "      <td>-0.079026</td>\n",
       "      <td>-0.009100</td>\n",
       "    </tr>\n",
       "    <tr>\n",
       "      <td>...</td>\n",
       "      <td>...</td>\n",
       "      <td>...</td>\n",
       "      <td>...</td>\n",
       "      <td>...</td>\n",
       "      <td>...</td>\n",
       "      <td>...</td>\n",
       "      <td>...</td>\n",
       "    </tr>\n",
       "    <tr>\n",
       "      <td>15502</td>\n",
       "      <td>-0.257614</td>\n",
       "      <td>0.101395</td>\n",
       "      <td>0.122855</td>\n",
       "      <td>-0.175783</td>\n",
       "      <td>0.093687</td>\n",
       "      <td>-0.038507</td>\n",
       "      <td>0.032128</td>\n",
       "    </tr>\n",
       "    <tr>\n",
       "      <td>15503</td>\n",
       "      <td>-0.247826</td>\n",
       "      <td>0.137065</td>\n",
       "      <td>0.077596</td>\n",
       "      <td>-0.103347</td>\n",
       "      <td>-0.063172</td>\n",
       "      <td>-0.037923</td>\n",
       "      <td>0.000831</td>\n",
       "    </tr>\n",
       "    <tr>\n",
       "      <td>15504</td>\n",
       "      <td>-0.192270</td>\n",
       "      <td>-0.205497</td>\n",
       "      <td>0.119593</td>\n",
       "      <td>0.920471</td>\n",
       "      <td>0.176802</td>\n",
       "      <td>-0.023146</td>\n",
       "      <td>-0.038683</td>\n",
       "    </tr>\n",
       "    <tr>\n",
       "      <td>15505</td>\n",
       "      <td>0.766996</td>\n",
       "      <td>0.038594</td>\n",
       "      <td>0.051219</td>\n",
       "      <td>-0.031412</td>\n",
       "      <td>0.034054</td>\n",
       "      <td>0.013136</td>\n",
       "      <td>-0.051231</td>\n",
       "    </tr>\n",
       "    <tr>\n",
       "      <td>15506</td>\n",
       "      <td>-0.310973</td>\n",
       "      <td>-0.206456</td>\n",
       "      <td>0.003935</td>\n",
       "      <td>-0.055648</td>\n",
       "      <td>0.061108</td>\n",
       "      <td>-0.025753</td>\n",
       "      <td>-0.011061</td>\n",
       "    </tr>\n",
       "  </tbody>\n",
       "</table>\n",
       "<p>15507 rows × 7 columns</p>\n",
       "</div>"
      ],
      "text/plain": [
       "           PC 1      PC 2      PC 3      PC 4      PC 5      PC 6      PC 7\n",
       "0     -0.303357 -0.151404 -0.079805 -0.012120 -0.066891 -0.019495 -0.001867\n",
       "1     -0.297819 -0.138464 -0.075498  0.011366 -0.048731 -0.004029 -0.009040\n",
       "2     -0.306497 -0.166860 -0.069062 -0.019740 -0.082242  0.009081 -0.006520\n",
       "3     -0.288915 -0.079248 -0.159232  0.058739 -0.165317  0.039172  0.000055\n",
       "4     -0.300423 -0.151831 -0.035418 -0.033136  0.123666 -0.079026 -0.009100\n",
       "...         ...       ...       ...       ...       ...       ...       ...\n",
       "15502 -0.257614  0.101395  0.122855 -0.175783  0.093687 -0.038507  0.032128\n",
       "15503 -0.247826  0.137065  0.077596 -0.103347 -0.063172 -0.037923  0.000831\n",
       "15504 -0.192270 -0.205497  0.119593  0.920471  0.176802 -0.023146 -0.038683\n",
       "15505  0.766996  0.038594  0.051219 -0.031412  0.034054  0.013136 -0.051231\n",
       "15506 -0.310973 -0.206456  0.003935 -0.055648  0.061108 -0.025753 -0.011061\n",
       "\n",
       "[15507 rows x 7 columns]"
      ]
     },
     "execution_count": 51,
     "metadata": {},
     "output_type": "execute_result"
    }
   ],
   "source": [
    "principal_zillow_Df = pd.DataFrame(data = principalComponents_zillow, columns = ['PC 1', 'PC 2', 'PC 3', 'PC 4', 'PC 5', 'PC 6', 'PC 7'])\n",
    "\n",
    "principal_zillow_Df\n",
    "\n",
    "                      \n",
    "                         \n",
    "                         \n",
    "                         \n",
    "                         "
   ]
  },
  {
   "cell_type": "code",
   "execution_count": 52,
   "metadata": {},
   "outputs": [
    {
     "data": {
      "text/html": [
       "<div>\n",
       "<style scoped>\n",
       "    .dataframe tbody tr th:only-of-type {\n",
       "        vertical-align: middle;\n",
       "    }\n",
       "\n",
       "    .dataframe tbody tr th {\n",
       "        vertical-align: top;\n",
       "    }\n",
       "\n",
       "    .dataframe thead th {\n",
       "        text-align: right;\n",
       "    }\n",
       "</style>\n",
       "<table border=\"1\" class=\"dataframe\">\n",
       "  <thead>\n",
       "    <tr style=\"text-align: right;\">\n",
       "      <th></th>\n",
       "      <th>PC 1</th>\n",
       "      <th>PC 2</th>\n",
       "      <th>PC 3</th>\n",
       "      <th>PC 4</th>\n",
       "      <th>PC 5</th>\n",
       "      <th>PC 6</th>\n",
       "      <th>PC 7</th>\n",
       "    </tr>\n",
       "  </thead>\n",
       "  <tbody>\n",
       "    <tr>\n",
       "      <td>15502</td>\n",
       "      <td>-0.257614</td>\n",
       "      <td>0.101395</td>\n",
       "      <td>0.122855</td>\n",
       "      <td>-0.175783</td>\n",
       "      <td>0.093687</td>\n",
       "      <td>-0.038507</td>\n",
       "      <td>0.032128</td>\n",
       "    </tr>\n",
       "    <tr>\n",
       "      <td>15503</td>\n",
       "      <td>-0.247826</td>\n",
       "      <td>0.137065</td>\n",
       "      <td>0.077596</td>\n",
       "      <td>-0.103347</td>\n",
       "      <td>-0.063172</td>\n",
       "      <td>-0.037923</td>\n",
       "      <td>0.000831</td>\n",
       "    </tr>\n",
       "    <tr>\n",
       "      <td>15504</td>\n",
       "      <td>-0.192270</td>\n",
       "      <td>-0.205497</td>\n",
       "      <td>0.119593</td>\n",
       "      <td>0.920471</td>\n",
       "      <td>0.176802</td>\n",
       "      <td>-0.023146</td>\n",
       "      <td>-0.038683</td>\n",
       "    </tr>\n",
       "    <tr>\n",
       "      <td>15505</td>\n",
       "      <td>0.766996</td>\n",
       "      <td>0.038594</td>\n",
       "      <td>0.051219</td>\n",
       "      <td>-0.031412</td>\n",
       "      <td>0.034054</td>\n",
       "      <td>0.013136</td>\n",
       "      <td>-0.051231</td>\n",
       "    </tr>\n",
       "    <tr>\n",
       "      <td>15506</td>\n",
       "      <td>-0.310973</td>\n",
       "      <td>-0.206456</td>\n",
       "      <td>0.003935</td>\n",
       "      <td>-0.055648</td>\n",
       "      <td>0.061108</td>\n",
       "      <td>-0.025753</td>\n",
       "      <td>-0.011061</td>\n",
       "    </tr>\n",
       "  </tbody>\n",
       "</table>\n",
       "</div>"
      ],
      "text/plain": [
       "           PC 1      PC 2      PC 3      PC 4      PC 5      PC 6      PC 7\n",
       "15502 -0.257614  0.101395  0.122855 -0.175783  0.093687 -0.038507  0.032128\n",
       "15503 -0.247826  0.137065  0.077596 -0.103347 -0.063172 -0.037923  0.000831\n",
       "15504 -0.192270 -0.205497  0.119593  0.920471  0.176802 -0.023146 -0.038683\n",
       "15505  0.766996  0.038594  0.051219 -0.031412  0.034054  0.013136 -0.051231\n",
       "15506 -0.310973 -0.206456  0.003935 -0.055648  0.061108 -0.025753 -0.011061"
      ]
     },
     "execution_count": 52,
     "metadata": {},
     "output_type": "execute_result"
    }
   ],
   "source": [
    "principal_zillow_Df.tail()"
   ]
  },
  {
   "cell_type": "code",
   "execution_count": 53,
   "metadata": {},
   "outputs": [
    {
     "name": "stdout",
     "output_type": "stream",
     "text": [
      "Explained variation per principal component: [0.63323346 0.15910212 0.11832093 0.05479567 0.02484617 0.00715254\n",
      " 0.00254911]\n"
     ]
    }
   ],
   "source": [
    "print('Explained variation per principal component: {}'.format(pca_zillow.explained_variance_ratio_))"
   ]
  },
  {
   "cell_type": "code",
   "execution_count": 54,
   "metadata": {},
   "outputs": [
    {
     "data": {
      "text/plain": [
       "PCA(copy=True, iterated_power='auto', n_components=4, random_state=None,\n",
       "    svd_solver='auto', tol=0.0, whiten=False)"
      ]
     },
     "execution_count": 54,
     "metadata": {},
     "output_type": "execute_result"
    }
   ],
   "source": [
    "pca_new = PCA(n_components=4)\n",
    "\n",
    "pca_new\n",
    "# zillow_dataset = pca_new.fit_transform(x_scaled)"
   ]
  },
  {
   "cell_type": "code",
   "execution_count": 55,
   "metadata": {},
   "outputs": [],
   "source": [
    "top_pca = principal_zillow_Df.iloc[:, : 4]"
   ]
  },
  {
   "cell_type": "code",
   "execution_count": 56,
   "metadata": {},
   "outputs": [
    {
     "data": {
      "text/html": [
       "<div>\n",
       "<style scoped>\n",
       "    .dataframe tbody tr th:only-of-type {\n",
       "        vertical-align: middle;\n",
       "    }\n",
       "\n",
       "    .dataframe tbody tr th {\n",
       "        vertical-align: top;\n",
       "    }\n",
       "\n",
       "    .dataframe thead th {\n",
       "        text-align: right;\n",
       "    }\n",
       "</style>\n",
       "<table border=\"1\" class=\"dataframe\">\n",
       "  <thead>\n",
       "    <tr style=\"text-align: right;\">\n",
       "      <th></th>\n",
       "      <th>PC 1</th>\n",
       "      <th>PC 2</th>\n",
       "      <th>PC 3</th>\n",
       "      <th>PC 4</th>\n",
       "    </tr>\n",
       "  </thead>\n",
       "  <tbody>\n",
       "    <tr>\n",
       "      <td>0</td>\n",
       "      <td>-0.303357</td>\n",
       "      <td>-0.151404</td>\n",
       "      <td>-0.079805</td>\n",
       "      <td>-0.012120</td>\n",
       "    </tr>\n",
       "    <tr>\n",
       "      <td>1</td>\n",
       "      <td>-0.297819</td>\n",
       "      <td>-0.138464</td>\n",
       "      <td>-0.075498</td>\n",
       "      <td>0.011366</td>\n",
       "    </tr>\n",
       "    <tr>\n",
       "      <td>2</td>\n",
       "      <td>-0.306497</td>\n",
       "      <td>-0.166860</td>\n",
       "      <td>-0.069062</td>\n",
       "      <td>-0.019740</td>\n",
       "    </tr>\n",
       "    <tr>\n",
       "      <td>3</td>\n",
       "      <td>-0.288915</td>\n",
       "      <td>-0.079248</td>\n",
       "      <td>-0.159232</td>\n",
       "      <td>0.058739</td>\n",
       "    </tr>\n",
       "    <tr>\n",
       "      <td>4</td>\n",
       "      <td>-0.300423</td>\n",
       "      <td>-0.151831</td>\n",
       "      <td>-0.035418</td>\n",
       "      <td>-0.033136</td>\n",
       "    </tr>\n",
       "    <tr>\n",
       "      <td>...</td>\n",
       "      <td>...</td>\n",
       "      <td>...</td>\n",
       "      <td>...</td>\n",
       "      <td>...</td>\n",
       "    </tr>\n",
       "    <tr>\n",
       "      <td>15502</td>\n",
       "      <td>-0.257614</td>\n",
       "      <td>0.101395</td>\n",
       "      <td>0.122855</td>\n",
       "      <td>-0.175783</td>\n",
       "    </tr>\n",
       "    <tr>\n",
       "      <td>15503</td>\n",
       "      <td>-0.247826</td>\n",
       "      <td>0.137065</td>\n",
       "      <td>0.077596</td>\n",
       "      <td>-0.103347</td>\n",
       "    </tr>\n",
       "    <tr>\n",
       "      <td>15504</td>\n",
       "      <td>-0.192270</td>\n",
       "      <td>-0.205497</td>\n",
       "      <td>0.119593</td>\n",
       "      <td>0.920471</td>\n",
       "    </tr>\n",
       "    <tr>\n",
       "      <td>15505</td>\n",
       "      <td>0.766996</td>\n",
       "      <td>0.038594</td>\n",
       "      <td>0.051219</td>\n",
       "      <td>-0.031412</td>\n",
       "    </tr>\n",
       "    <tr>\n",
       "      <td>15506</td>\n",
       "      <td>-0.310973</td>\n",
       "      <td>-0.206456</td>\n",
       "      <td>0.003935</td>\n",
       "      <td>-0.055648</td>\n",
       "    </tr>\n",
       "  </tbody>\n",
       "</table>\n",
       "<p>15507 rows × 4 columns</p>\n",
       "</div>"
      ],
      "text/plain": [
       "           PC 1      PC 2      PC 3      PC 4\n",
       "0     -0.303357 -0.151404 -0.079805 -0.012120\n",
       "1     -0.297819 -0.138464 -0.075498  0.011366\n",
       "2     -0.306497 -0.166860 -0.069062 -0.019740\n",
       "3     -0.288915 -0.079248 -0.159232  0.058739\n",
       "4     -0.300423 -0.151831 -0.035418 -0.033136\n",
       "...         ...       ...       ...       ...\n",
       "15502 -0.257614  0.101395  0.122855 -0.175783\n",
       "15503 -0.247826  0.137065  0.077596 -0.103347\n",
       "15504 -0.192270 -0.205497  0.119593  0.920471\n",
       "15505  0.766996  0.038594  0.051219 -0.031412\n",
       "15506 -0.310973 -0.206456  0.003935 -0.055648\n",
       "\n",
       "[15507 rows x 4 columns]"
      ]
     },
     "execution_count": 56,
     "metadata": {},
     "output_type": "execute_result"
    }
   ],
   "source": [
    "top_pca"
   ]
  },
  {
   "cell_type": "code",
   "execution_count": null,
   "metadata": {},
   "outputs": [],
   "source": [
    "#concatenate with categorical variables"
   ]
  },
  {
   "cell_type": "code",
   "execution_count": null,
   "metadata": {},
   "outputs": [],
   "source": [
    "taxdelinquencyflag\n",
    "airconditioningtypeid\n",
    "hashottuborspa\n",
    "regionidcity_45457\n",
    "regionidcity_46298\n",
    "regionidcity_47019\n",
    "regionidcity_48424\n",
    "regionidcity_51617\n",
    "regionidcity_51861\n",
    "regionidcity_54299\n",
    "regionidcity_54311\n",
    "regionidcity_54722\n",
    "regionidcity_396054\n",
    "yearbuilt_1930\n",
    "yearbuilt_1940\n",
    "yearbuilt_1950\n",
    "yearbuilt_1960\n",
    "yearbuilt_1970\n",
    "yearbuilt_1980\n",
    "yearbuilt_1990\n",
    "yearbuilt_2000\n",
    "yearbuilt_2010"
   ]
  },
  {
   "cell_type": "code",
   "execution_count": 57,
   "metadata": {},
   "outputs": [],
   "source": [
    "categorical_columns = ['taxdelinquencyflag', 'airconditioningtypeid', 'hashottuborspa', 'regionidcity_45457',\n",
    "                      'regionidcity_46298', 'regionidcity_47019', 'regionidcity_48424', 'regionidcity_51617',\n",
    "                      'regionidcity_51861', 'regionidcity_54299', 'regionidcity_54311', 'regionidcity_54722',\n",
    "                      'regionidcity_396054', 'yearbuilt_1930', 'yearbuilt_1940', 'yearbuilt_1950', 'yearbuilt_1960',\n",
    "                      'yearbuilt_1970', 'yearbuilt_1980', 'yearbuilt_1990', 'yearbuilt_2000', 'yearbuilt_2010']"
   ]
  },
  {
   "cell_type": "code",
   "execution_count": 58,
   "metadata": {},
   "outputs": [
    {
     "ename": "KeyError",
     "evalue": "\"['regionidcity_51861', 'yearbuilt_2000', 'yearbuilt_2010', 'yearbuilt_1980', 'yearbuilt_1940', 'regionidcity_48424', 'yearbuilt_1930', 'yearbuilt_1950', 'yearbuilt_1970', 'yearbuilt_1990', 'regionidcity_396054', 'yearbuilt_1960'] not in index\"",
     "output_type": "error",
     "traceback": [
      "\u001b[0;31m---------------------------------------------------------------------------\u001b[0m",
      "\u001b[0;31mKeyError\u001b[0m                                  Traceback (most recent call last)",
      "\u001b[0;32m<ipython-input-58-95eafdfa1bec>\u001b[0m in \u001b[0;36m<module>\u001b[0;34m\u001b[0m\n\u001b[0;32m----> 1\u001b[0;31m \u001b[0mcategorical\u001b[0m \u001b[0;34m=\u001b[0m \u001b[0mzillow_2016_new\u001b[0m\u001b[0;34m[\u001b[0m\u001b[0mcategorical_columns\u001b[0m\u001b[0;34m]\u001b[0m\u001b[0;34m.\u001b[0m\u001b[0mvalues\u001b[0m\u001b[0;34m\u001b[0m\u001b[0;34m\u001b[0m\u001b[0m\n\u001b[0m\u001b[1;32m      2\u001b[0m \u001b[0;34m\u001b[0m\u001b[0m\n\u001b[1;32m      3\u001b[0m \u001b[0mcategorical\u001b[0m\u001b[0;34m\u001b[0m\u001b[0;34m\u001b[0m\u001b[0m\n\u001b[1;32m      4\u001b[0m \u001b[0;34m\u001b[0m\u001b[0m\n\u001b[1;32m      5\u001b[0m \u001b[0;31m# categorical_df = pd.DataFrame(categorical, columns = ['taxdelinquencyflag', 'airconditioningtypeid', 'hashottuborspa', 'regionidcity_45457',\u001b[0m\u001b[0;34m\u001b[0m\u001b[0;34m\u001b[0m\u001b[0;34m\u001b[0m\u001b[0m\n",
      "\u001b[0;32m/anaconda2/envs/py37/lib/python3.7/site-packages/pandas/core/frame.py\u001b[0m in \u001b[0;36m__getitem__\u001b[0;34m(self, key)\u001b[0m\n\u001b[1;32m   2984\u001b[0m             \u001b[0;32mif\u001b[0m \u001b[0mis_iterator\u001b[0m\u001b[0;34m(\u001b[0m\u001b[0mkey\u001b[0m\u001b[0;34m)\u001b[0m\u001b[0;34m:\u001b[0m\u001b[0;34m\u001b[0m\u001b[0;34m\u001b[0m\u001b[0m\n\u001b[1;32m   2985\u001b[0m                 \u001b[0mkey\u001b[0m \u001b[0;34m=\u001b[0m \u001b[0mlist\u001b[0m\u001b[0;34m(\u001b[0m\u001b[0mkey\u001b[0m\u001b[0;34m)\u001b[0m\u001b[0;34m\u001b[0m\u001b[0;34m\u001b[0m\u001b[0m\n\u001b[0;32m-> 2986\u001b[0;31m             \u001b[0mindexer\u001b[0m \u001b[0;34m=\u001b[0m \u001b[0mself\u001b[0m\u001b[0;34m.\u001b[0m\u001b[0mloc\u001b[0m\u001b[0;34m.\u001b[0m\u001b[0m_convert_to_indexer\u001b[0m\u001b[0;34m(\u001b[0m\u001b[0mkey\u001b[0m\u001b[0;34m,\u001b[0m \u001b[0maxis\u001b[0m\u001b[0;34m=\u001b[0m\u001b[0;36m1\u001b[0m\u001b[0;34m,\u001b[0m \u001b[0mraise_missing\u001b[0m\u001b[0;34m=\u001b[0m\u001b[0;32mTrue\u001b[0m\u001b[0;34m)\u001b[0m\u001b[0;34m\u001b[0m\u001b[0;34m\u001b[0m\u001b[0m\n\u001b[0m\u001b[1;32m   2987\u001b[0m \u001b[0;34m\u001b[0m\u001b[0m\n\u001b[1;32m   2988\u001b[0m         \u001b[0;31m# take() does not accept boolean indexers\u001b[0m\u001b[0;34m\u001b[0m\u001b[0;34m\u001b[0m\u001b[0;34m\u001b[0m\u001b[0m\n",
      "\u001b[0;32m/anaconda2/envs/py37/lib/python3.7/site-packages/pandas/core/indexing.py\u001b[0m in \u001b[0;36m_convert_to_indexer\u001b[0;34m(self, obj, axis, is_setter, raise_missing)\u001b[0m\n\u001b[1;32m   1283\u001b[0m                 \u001b[0;31m# When setting, missing keys are not allowed, even with .loc:\u001b[0m\u001b[0;34m\u001b[0m\u001b[0;34m\u001b[0m\u001b[0;34m\u001b[0m\u001b[0m\n\u001b[1;32m   1284\u001b[0m                 \u001b[0mkwargs\u001b[0m \u001b[0;34m=\u001b[0m \u001b[0;34m{\u001b[0m\u001b[0;34m\"raise_missing\"\u001b[0m\u001b[0;34m:\u001b[0m \u001b[0;32mTrue\u001b[0m \u001b[0;32mif\u001b[0m \u001b[0mis_setter\u001b[0m \u001b[0;32melse\u001b[0m \u001b[0mraise_missing\u001b[0m\u001b[0;34m}\u001b[0m\u001b[0;34m\u001b[0m\u001b[0;34m\u001b[0m\u001b[0m\n\u001b[0;32m-> 1285\u001b[0;31m                 \u001b[0;32mreturn\u001b[0m \u001b[0mself\u001b[0m\u001b[0;34m.\u001b[0m\u001b[0m_get_listlike_indexer\u001b[0m\u001b[0;34m(\u001b[0m\u001b[0mobj\u001b[0m\u001b[0;34m,\u001b[0m \u001b[0maxis\u001b[0m\u001b[0;34m,\u001b[0m \u001b[0;34m**\u001b[0m\u001b[0mkwargs\u001b[0m\u001b[0;34m)\u001b[0m\u001b[0;34m[\u001b[0m\u001b[0;36m1\u001b[0m\u001b[0;34m]\u001b[0m\u001b[0;34m\u001b[0m\u001b[0;34m\u001b[0m\u001b[0m\n\u001b[0m\u001b[1;32m   1286\u001b[0m         \u001b[0;32melse\u001b[0m\u001b[0;34m:\u001b[0m\u001b[0;34m\u001b[0m\u001b[0;34m\u001b[0m\u001b[0m\n\u001b[1;32m   1287\u001b[0m             \u001b[0;32mtry\u001b[0m\u001b[0;34m:\u001b[0m\u001b[0;34m\u001b[0m\u001b[0;34m\u001b[0m\u001b[0m\n",
      "\u001b[0;32m/anaconda2/envs/py37/lib/python3.7/site-packages/pandas/core/indexing.py\u001b[0m in \u001b[0;36m_get_listlike_indexer\u001b[0;34m(self, key, axis, raise_missing)\u001b[0m\n\u001b[1;32m   1090\u001b[0m \u001b[0;34m\u001b[0m\u001b[0m\n\u001b[1;32m   1091\u001b[0m         self._validate_read_indexer(\n\u001b[0;32m-> 1092\u001b[0;31m             \u001b[0mkeyarr\u001b[0m\u001b[0;34m,\u001b[0m \u001b[0mindexer\u001b[0m\u001b[0;34m,\u001b[0m \u001b[0mo\u001b[0m\u001b[0;34m.\u001b[0m\u001b[0m_get_axis_number\u001b[0m\u001b[0;34m(\u001b[0m\u001b[0maxis\u001b[0m\u001b[0;34m)\u001b[0m\u001b[0;34m,\u001b[0m \u001b[0mraise_missing\u001b[0m\u001b[0;34m=\u001b[0m\u001b[0mraise_missing\u001b[0m\u001b[0;34m\u001b[0m\u001b[0;34m\u001b[0m\u001b[0m\n\u001b[0m\u001b[1;32m   1093\u001b[0m         )\n\u001b[1;32m   1094\u001b[0m         \u001b[0;32mreturn\u001b[0m \u001b[0mkeyarr\u001b[0m\u001b[0;34m,\u001b[0m \u001b[0mindexer\u001b[0m\u001b[0;34m\u001b[0m\u001b[0;34m\u001b[0m\u001b[0m\n",
      "\u001b[0;32m/anaconda2/envs/py37/lib/python3.7/site-packages/pandas/core/indexing.py\u001b[0m in \u001b[0;36m_validate_read_indexer\u001b[0;34m(self, key, indexer, axis, raise_missing)\u001b[0m\n\u001b[1;32m   1183\u001b[0m             \u001b[0;32mif\u001b[0m \u001b[0;32mnot\u001b[0m \u001b[0;34m(\u001b[0m\u001b[0mself\u001b[0m\u001b[0;34m.\u001b[0m\u001b[0mname\u001b[0m \u001b[0;34m==\u001b[0m \u001b[0;34m\"loc\"\u001b[0m \u001b[0;32mand\u001b[0m \u001b[0;32mnot\u001b[0m \u001b[0mraise_missing\u001b[0m\u001b[0;34m)\u001b[0m\u001b[0;34m:\u001b[0m\u001b[0;34m\u001b[0m\u001b[0;34m\u001b[0m\u001b[0m\n\u001b[1;32m   1184\u001b[0m                 \u001b[0mnot_found\u001b[0m \u001b[0;34m=\u001b[0m \u001b[0mlist\u001b[0m\u001b[0;34m(\u001b[0m\u001b[0mset\u001b[0m\u001b[0;34m(\u001b[0m\u001b[0mkey\u001b[0m\u001b[0;34m)\u001b[0m \u001b[0;34m-\u001b[0m \u001b[0mset\u001b[0m\u001b[0;34m(\u001b[0m\u001b[0max\u001b[0m\u001b[0;34m)\u001b[0m\u001b[0;34m)\u001b[0m\u001b[0;34m\u001b[0m\u001b[0;34m\u001b[0m\u001b[0m\n\u001b[0;32m-> 1185\u001b[0;31m                 \u001b[0;32mraise\u001b[0m \u001b[0mKeyError\u001b[0m\u001b[0;34m(\u001b[0m\u001b[0;34m\"{} not in index\"\u001b[0m\u001b[0;34m.\u001b[0m\u001b[0mformat\u001b[0m\u001b[0;34m(\u001b[0m\u001b[0mnot_found\u001b[0m\u001b[0;34m)\u001b[0m\u001b[0;34m)\u001b[0m\u001b[0;34m\u001b[0m\u001b[0;34m\u001b[0m\u001b[0m\n\u001b[0m\u001b[1;32m   1186\u001b[0m \u001b[0;34m\u001b[0m\u001b[0m\n\u001b[1;32m   1187\u001b[0m             \u001b[0;31m# we skip the warning on Categorical/Interval\u001b[0m\u001b[0;34m\u001b[0m\u001b[0;34m\u001b[0m\u001b[0;34m\u001b[0m\u001b[0m\n",
      "\u001b[0;31mKeyError\u001b[0m: \"['regionidcity_51861', 'yearbuilt_2000', 'yearbuilt_2010', 'yearbuilt_1980', 'yearbuilt_1940', 'regionidcity_48424', 'yearbuilt_1930', 'yearbuilt_1950', 'yearbuilt_1970', 'yearbuilt_1990', 'regionidcity_396054', 'yearbuilt_1960'] not in index\""
     ]
    }
   ],
   "source": [
    "\n",
    "categorical = zillow_2016_new[categorical_columns].values\n",
    "\n",
    "categorical\n",
    "\n",
    "# categorical_df = pd.DataFrame(categorical, columns = ['taxdelinquencyflag', 'airconditioningtypeid', 'hashottuborspa', 'regionidcity_45457',\n",
    "#                       'regionidcity_46298', 'regionidcity_47019', 'regionidcity_48424', 'regionidcity_51617',\n",
    "#                       'regionidcity_51861', 'regionidcity_54299', 'regionidcity_54311', 'regionidcity_54722',\n",
    "#                       'regionidcity_396054', 'yearbuilt_1930', 'yearbuilt_1940', 'yearbuilt_1950', 'yearbuilt_1960',\n",
    "#                       'yearbuilt_1970', 'yearbuilt_1980', 'yearbuilt_1990', 'yearbuilt_2000', 'yearbuilt_2010'])\n",
    "\n",
    "# categorical_df\n",
    "\n"
   ]
  },
  {
   "cell_type": "code",
   "execution_count": 59,
   "metadata": {},
   "outputs": [
    {
     "data": {
      "text/plain": [
       "(15507, 4)"
      ]
     },
     "execution_count": 59,
     "metadata": {},
     "output_type": "execute_result"
    }
   ],
   "source": [
    "top_pca.shape"
   ]
  },
  {
   "cell_type": "code",
   "execution_count": 60,
   "metadata": {},
   "outputs": [
    {
     "ename": "NameError",
     "evalue": "name 'categorical_df' is not defined",
     "output_type": "error",
     "traceback": [
      "\u001b[0;31m---------------------------------------------------------------------------\u001b[0m",
      "\u001b[0;31mNameError\u001b[0m                                 Traceback (most recent call last)",
      "\u001b[0;32m<ipython-input-60-a9d966daa375>\u001b[0m in \u001b[0;36m<module>\u001b[0;34m\u001b[0m\n\u001b[0;32m----> 1\u001b[0;31m \u001b[0mcategorical_df\u001b[0m\u001b[0;34m.\u001b[0m\u001b[0mshape\u001b[0m\u001b[0;34m\u001b[0m\u001b[0;34m\u001b[0m\u001b[0m\n\u001b[0m",
      "\u001b[0;31mNameError\u001b[0m: name 'categorical_df' is not defined"
     ]
    }
   ],
   "source": [
    "categorical_df.shape"
   ]
  },
  {
   "cell_type": "code",
   "execution_count": 61,
   "metadata": {},
   "outputs": [
    {
     "ename": "NameError",
     "evalue": "name 'categorical_df' is not defined",
     "output_type": "error",
     "traceback": [
      "\u001b[0;31m---------------------------------------------------------------------------\u001b[0m",
      "\u001b[0;31mNameError\u001b[0m                                 Traceback (most recent call last)",
      "\u001b[0;32m<ipython-input-61-cc66d79d2f41>\u001b[0m in \u001b[0;36m<module>\u001b[0;34m\u001b[0m\n\u001b[1;32m      3\u001b[0m \u001b[0;31m# concatenated_result = pd.concat(frames)\u001b[0m\u001b[0;34m\u001b[0m\u001b[0;34m\u001b[0m\u001b[0;34m\u001b[0m\u001b[0m\n\u001b[1;32m      4\u001b[0m \u001b[0;34m\u001b[0m\u001b[0m\n\u001b[0;32m----> 5\u001b[0;31m \u001b[0mconcatenated_result2\u001b[0m \u001b[0;34m=\u001b[0m \u001b[0mpd\u001b[0m\u001b[0;34m.\u001b[0m\u001b[0mconcat\u001b[0m\u001b[0;34m(\u001b[0m\u001b[0;34m[\u001b[0m\u001b[0mcategorical_df\u001b[0m\u001b[0;34m,\u001b[0m \u001b[0mtop_pca\u001b[0m\u001b[0;34m]\u001b[0m\u001b[0;34m,\u001b[0m \u001b[0maxis\u001b[0m\u001b[0;34m=\u001b[0m\u001b[0;36m1\u001b[0m\u001b[0;34m)\u001b[0m\u001b[0;34m\u001b[0m\u001b[0;34m\u001b[0m\u001b[0m\n\u001b[0m\u001b[1;32m      6\u001b[0m \u001b[0;34m\u001b[0m\u001b[0m\n\u001b[1;32m      7\u001b[0m \u001b[0mconcatenated_result2\u001b[0m\u001b[0;34m.\u001b[0m\u001b[0mshape\u001b[0m\u001b[0;34m\u001b[0m\u001b[0;34m\u001b[0m\u001b[0m\n",
      "\u001b[0;31mNameError\u001b[0m: name 'categorical_df' is not defined"
     ]
    }
   ],
   "source": [
    "# frames = [categorical_df, top_pca]\n",
    "\n",
    "# concatenated_result = pd.concat(frames)\n",
    "\n",
    "concatenated_result2 = pd.concat([categorical_df, top_pca], axis=1)\n",
    "\n",
    "concatenated_result2.shape"
   ]
  },
  {
   "cell_type": "code",
   "execution_count": 62,
   "metadata": {},
   "outputs": [
    {
     "ename": "NameError",
     "evalue": "name 'concatenated_result2' is not defined",
     "output_type": "error",
     "traceback": [
      "\u001b[0;31m---------------------------------------------------------------------------\u001b[0m",
      "\u001b[0;31mNameError\u001b[0m                                 Traceback (most recent call last)",
      "\u001b[0;32m<ipython-input-62-e83af845909b>\u001b[0m in \u001b[0;36m<module>\u001b[0;34m\u001b[0m\n\u001b[0;32m----> 1\u001b[0;31m \u001b[0mconcatenated_result2\u001b[0m\u001b[0;34m\u001b[0m\u001b[0;34m\u001b[0m\u001b[0m\n\u001b[0m",
      "\u001b[0;31mNameError\u001b[0m: name 'concatenated_result2' is not defined"
     ]
    }
   ],
   "source": [
    "concatenated_result2"
   ]
  },
  {
   "cell_type": "code",
   "execution_count": 63,
   "metadata": {},
   "outputs": [
    {
     "ename": "NameError",
     "evalue": "name 'categorical_df' is not defined",
     "output_type": "error",
     "traceback": [
      "\u001b[0;31m---------------------------------------------------------------------------\u001b[0m",
      "\u001b[0;31mNameError\u001b[0m                                 Traceback (most recent call last)",
      "\u001b[0;32m<ipython-input-63-b2c78ac58ad5>\u001b[0m in \u001b[0;36m<module>\u001b[0;34m\u001b[0m\n\u001b[0;32m----> 1\u001b[0;31m \u001b[0mconcatenated_result2\u001b[0m \u001b[0;34m=\u001b[0m \u001b[0mpd\u001b[0m\u001b[0;34m.\u001b[0m\u001b[0mconcat\u001b[0m\u001b[0;34m(\u001b[0m\u001b[0;34m[\u001b[0m\u001b[0mcategorical_df\u001b[0m\u001b[0;34m,\u001b[0m \u001b[0mtop_pca\u001b[0m\u001b[0;34m]\u001b[0m\u001b[0;34m,\u001b[0m \u001b[0maxis\u001b[0m\u001b[0;34m=\u001b[0m\u001b[0;36m1\u001b[0m\u001b[0;34m)\u001b[0m\u001b[0;34m\u001b[0m\u001b[0;34m\u001b[0m\u001b[0m\n\u001b[0m",
      "\u001b[0;31mNameError\u001b[0m: name 'categorical_df' is not defined"
     ]
    }
   ],
   "source": [
    "concatenated_result2 = pd.concat([categorical_df, top_pca], axis=1)"
   ]
  },
  {
   "cell_type": "code",
   "execution_count": null,
   "metadata": {},
   "outputs": [],
   "source": [
    "y = zillow_2016_new['logerror'].values\n",
    "\n",
    "\n",
    "\n",
    "y_df = pd.DataFrame(y, columns = ['logerror'])\n",
    "\n",
    "y_df"
   ]
  },
  {
   "cell_type": "code",
   "execution_count": null,
   "metadata": {},
   "outputs": [],
   "source": [
    "concatenated_result2 = pd.concat([categorical_df, top_pca], axis=1)"
   ]
  },
  {
   "cell_type": "code",
   "execution_count": null,
   "metadata": {},
   "outputs": [],
   "source": [
    "concat_x_y = pd.concat([y_df, concatenated_result2], axis=1)\n",
    "pd.set_option('display.max_columns', None)\n",
    "concat_x_y"
   ]
  },
  {
   "cell_type": "code",
   "execution_count": null,
   "metadata": {},
   "outputs": [],
   "source": [
    "concat_x_y.shape"
   ]
  },
  {
   "cell_type": "markdown",
   "metadata": {},
   "source": [
    "# Train Test Split"
   ]
  },
  {
   "cell_type": "code",
   "execution_count": 64,
   "metadata": {},
   "outputs": [
    {
     "ename": "NameError",
     "evalue": "name 'concat_x_y' is not defined",
     "output_type": "error",
     "traceback": [
      "\u001b[0;31m---------------------------------------------------------------------------\u001b[0m",
      "\u001b[0;31mNameError\u001b[0m                                 Traceback (most recent call last)",
      "\u001b[0;32m<ipython-input-64-646643e5edfc>\u001b[0m in \u001b[0;36m<module>\u001b[0;34m\u001b[0m\n\u001b[0;32m----> 1\u001b[0;31m \u001b[0mX\u001b[0m \u001b[0;34m=\u001b[0m \u001b[0mconcat_x_y\u001b[0m\u001b[0;34m[\u001b[0m\u001b[0mconcat_x_y\u001b[0m\u001b[0;34m.\u001b[0m\u001b[0mcolumns\u001b[0m\u001b[0;34m]\u001b[0m\u001b[0;34m.\u001b[0m\u001b[0mdrop\u001b[0m\u001b[0;34m(\u001b[0m\u001b[0mcolumns\u001b[0m \u001b[0;34m=\u001b[0m \u001b[0;34m[\u001b[0m\u001b[0;34m\"logerror\"\u001b[0m\u001b[0;34m]\u001b[0m\u001b[0;34m)\u001b[0m\u001b[0;34m\u001b[0m\u001b[0;34m\u001b[0m\u001b[0m\n\u001b[0m\u001b[1;32m      2\u001b[0m \u001b[0;34m\u001b[0m\u001b[0m\n\u001b[1;32m      3\u001b[0m \u001b[0mX\u001b[0m\u001b[0;34m\u001b[0m\u001b[0;34m\u001b[0m\u001b[0m\n\u001b[1;32m      4\u001b[0m \u001b[0;34m\u001b[0m\u001b[0m\n\u001b[1;32m      5\u001b[0m \u001b[0my\u001b[0m \u001b[0;34m=\u001b[0m\u001b[0mconcat_x_y\u001b[0m\u001b[0;34m[\u001b[0m\u001b[0;34m\"logerror\"\u001b[0m\u001b[0;34m]\u001b[0m\u001b[0;34m\u001b[0m\u001b[0;34m\u001b[0m\u001b[0m\n",
      "\u001b[0;31mNameError\u001b[0m: name 'concat_x_y' is not defined"
     ]
    }
   ],
   "source": [
    "X = concat_x_y[concat_x_y.columns].drop(columns = [\"logerror\"])\n",
    "\n",
    "X\n",
    "\n",
    "y =concat_x_y[\"logerror\"]\n",
    "\n",
    "y"
   ]
  },
  {
   "cell_type": "code",
   "execution_count": null,
   "metadata": {},
   "outputs": [],
   "source": [
    "from sklearn.model_selection import train_test_split\n",
    "\n",
    "\n",
    "\n",
    "\n",
    "X_train, X_test, y_train,y_test = train_test_split(X,y,train_size = .8)"
   ]
  },
  {
   "cell_type": "code",
   "execution_count": null,
   "metadata": {},
   "outputs": [],
   "source": [
    "X_train.shape"
   ]
  },
  {
   "cell_type": "markdown",
   "metadata": {},
   "source": [
    "# Linear Regression"
   ]
  },
  {
   "cell_type": "code",
   "execution_count": 65,
   "metadata": {},
   "outputs": [],
   "source": [
    "from sklearn import linear_model\n",
    "from sklearn import metrics\n",
    "from sklearn.linear_model import LinearRegression\n"
   ]
  },
  {
   "cell_type": "code",
   "execution_count": 66,
   "metadata": {},
   "outputs": [],
   "source": [
    "# linearregression_model = linear_model.LinearRegression()"
   ]
  },
  {
   "cell_type": "code",
   "execution_count": 67,
   "metadata": {},
   "outputs": [
    {
     "ename": "NameError",
     "evalue": "name 'X_train' is not defined",
     "output_type": "error",
     "traceback": [
      "\u001b[0;31m---------------------------------------------------------------------------\u001b[0m",
      "\u001b[0;31mNameError\u001b[0m                                 Traceback (most recent call last)",
      "\u001b[0;32m<ipython-input-67-45afc3815874>\u001b[0m in \u001b[0;36m<module>\u001b[0;34m\u001b[0m\n\u001b[1;32m      1\u001b[0m \u001b[0mregressor\u001b[0m \u001b[0;34m=\u001b[0m \u001b[0mLinearRegression\u001b[0m\u001b[0;34m(\u001b[0m\u001b[0;34m)\u001b[0m\u001b[0;34m\u001b[0m\u001b[0;34m\u001b[0m\u001b[0m\n\u001b[0;32m----> 2\u001b[0;31m \u001b[0mregressor\u001b[0m\u001b[0;34m.\u001b[0m\u001b[0mfit\u001b[0m\u001b[0;34m(\u001b[0m\u001b[0mX_train\u001b[0m\u001b[0;34m,\u001b[0m \u001b[0my_train\u001b[0m\u001b[0;34m)\u001b[0m\u001b[0;34m\u001b[0m\u001b[0;34m\u001b[0m\u001b[0m\n\u001b[0m",
      "\u001b[0;31mNameError\u001b[0m: name 'X_train' is not defined"
     ]
    }
   ],
   "source": [
    "regressor = LinearRegression()  \n",
    "regressor.fit(X_train, y_train)"
   ]
  },
  {
   "cell_type": "code",
   "execution_count": 68,
   "metadata": {},
   "outputs": [
    {
     "ename": "AttributeError",
     "evalue": "'LinearRegression' object has no attribute 'coef_'",
     "output_type": "error",
     "traceback": [
      "\u001b[0;31m---------------------------------------------------------------------------\u001b[0m",
      "\u001b[0;31mAttributeError\u001b[0m                            Traceback (most recent call last)",
      "\u001b[0;32m<ipython-input-68-00b5b4f20ffc>\u001b[0m in \u001b[0;36m<module>\u001b[0;34m\u001b[0m\n\u001b[0;32m----> 1\u001b[0;31m \u001b[0mcoeff_df\u001b[0m \u001b[0;34m=\u001b[0m \u001b[0mpd\u001b[0m\u001b[0;34m.\u001b[0m\u001b[0mDataFrame\u001b[0m\u001b[0;34m(\u001b[0m\u001b[0mregressor\u001b[0m\u001b[0;34m.\u001b[0m\u001b[0mcoef_\u001b[0m\u001b[0;34m,\u001b[0m \u001b[0mX\u001b[0m\u001b[0;34m.\u001b[0m\u001b[0mcolumns\u001b[0m\u001b[0;34m,\u001b[0m \u001b[0mcolumns\u001b[0m\u001b[0;34m=\u001b[0m\u001b[0;34m[\u001b[0m\u001b[0;34m'Coefficient'\u001b[0m\u001b[0;34m]\u001b[0m\u001b[0;34m)\u001b[0m\u001b[0;34m\u001b[0m\u001b[0;34m\u001b[0m\u001b[0m\n\u001b[0m\u001b[1;32m      2\u001b[0m \u001b[0mcoeff_df\u001b[0m\u001b[0;34m\u001b[0m\u001b[0;34m\u001b[0m\u001b[0m\n",
      "\u001b[0;31mAttributeError\u001b[0m: 'LinearRegression' object has no attribute 'coef_'"
     ]
    }
   ],
   "source": [
    "coeff_df = pd.DataFrame(regressor.coef_, X.columns, columns=['Coefficient'])  \n",
    "coeff_df"
   ]
  },
  {
   "cell_type": "code",
   "execution_count": null,
   "metadata": {},
   "outputs": [],
   "source": [
    "y_pred = regressor.predict(X_test)\n",
    "\n",
    "y_pred"
   ]
  },
  {
   "cell_type": "code",
   "execution_count": null,
   "metadata": {},
   "outputs": [],
   "source": [
    "df = pd.DataFrame({'Actual': y_test, 'Predicted': y_pred})\n",
    "df1 = df.head(25)"
   ]
  },
  {
   "cell_type": "code",
   "execution_count": null,
   "metadata": {},
   "outputs": [],
   "source": [
    "df1"
   ]
  },
  {
   "cell_type": "code",
   "execution_count": null,
   "metadata": {},
   "outputs": [],
   "source": [
    "df1.plot(kind='bar',figsize=(10,8))\n",
    "plt.grid(which='major', linestyle='-', linewidth='0.5', color='green')\n",
    "plt.grid(which='minor', linestyle=':', linewidth='0.5', color='black')\n",
    "plt.show()"
   ]
  },
  {
   "cell_type": "code",
   "execution_count": null,
   "metadata": {},
   "outputs": [],
   "source": [
    "print('Mean Absolute Error:', metrics.mean_absolute_error(y_test, y_pred))  \n",
    "print('Mean Squared Error:', metrics.mean_squared_error(y_test, y_pred))  \n",
    "print('Root Mean Squared Error:', np.sqrt(metrics.mean_squared_error(y_test, y_pred)))"
   ]
  },
  {
   "cell_type": "code",
   "execution_count": null,
   "metadata": {},
   "outputs": [],
   "source": [
    "regressor.score(X_test, y_test)"
   ]
  },
  {
   "cell_type": "code",
   "execution_count": null,
   "metadata": {},
   "outputs": [],
   "source": [
    "import statsmodels.api as sm\n",
    "from statsmodels.formula.api import ols\n",
    "data = pd.concat([X_train,y_train], axis=1)\n",
    "model = ols(\"y_train~X_train\", data=data).fit()\n",
    "print(model.summary())"
   ]
  },
  {
   "cell_type": "code",
   "execution_count": null,
   "metadata": {},
   "outputs": [],
   "source": [
    "X_train"
   ]
  },
  {
   "cell_type": "code",
   "execution_count": null,
   "metadata": {},
   "outputs": [],
   "source": [
    "%matplotlib inline\n",
    "# visualizer.poof() "
   ]
  },
  {
   "cell_type": "code",
   "execution_count": null,
   "metadata": {},
   "outputs": [],
   "source": [
    "!pip install patsy\n",
    "!pip install statsmodels"
   ]
  },
  {
   "cell_type": "code",
   "execution_count": null,
   "metadata": {},
   "outputs": [],
   "source": [
    "import statsmodels.api as sm\n",
    "\n",
    "predictions = linearregression_model.predict(X_test)\n",
    "residuals = y_test - predictions\n",
    "sm.qqplot(residuals)"
   ]
  },
  {
   "cell_type": "code",
   "execution_count": null,
   "metadata": {},
   "outputs": [],
   "source": [
    "predictions"
   ]
  },
  {
   "cell_type": "markdown",
   "metadata": {},
   "source": [
    "# Random Forest"
   ]
  },
  {
   "cell_type": "code",
   "execution_count": 69,
   "metadata": {},
   "outputs": [
    {
     "data": {
      "text/plain": [
       "0        0.0020\n",
       "1        0.0030\n",
       "2       -0.0545\n",
       "3        0.0411\n",
       "4        0.0100\n",
       "          ...  \n",
       "26371    0.0030\n",
       "26376   -0.0010\n",
       "26377    0.1240\n",
       "26379    0.2585\n",
       "26382   -0.0523\n",
       "Name: logerror, Length: 15507, dtype: float64"
      ]
     },
     "execution_count": 69,
     "metadata": {},
     "output_type": "execute_result"
    }
   ],
   "source": [
    "X = zillow_2016_new[zillow_2016_new.columns].drop(columns = [\"logerror\"])\n",
    "\n",
    "X\n",
    "\n",
    "y =zillow_2016_new[\"logerror\"]\n",
    "\n",
    "y"
   ]
  },
  {
   "cell_type": "code",
   "execution_count": 70,
   "metadata": {},
   "outputs": [],
   "source": [
    "from sklearn.model_selection import train_test_split\n",
    "\n",
    "\n",
    "\n",
    "\n",
    "X_train, X_test, y_train,y_test = train_test_split(X,y,train_size = .8)"
   ]
  },
  {
   "cell_type": "code",
   "execution_count": 71,
   "metadata": {},
   "outputs": [],
   "source": [
    "# Import the model we are using\n",
    "from sklearn.ensemble import RandomForestRegressor\n",
    "from sklearn.metrics import accuracy_score\n"
   ]
  },
  {
   "cell_type": "code",
   "execution_count": 72,
   "metadata": {},
   "outputs": [
    {
     "data": {
      "text/plain": [
       "RandomForestRegressor(bootstrap=True, criterion='mse', max_depth=None,\n",
       "                      max_features='auto', max_leaf_nodes=None,\n",
       "                      min_impurity_decrease=0.0, min_impurity_split=None,\n",
       "                      min_samples_leaf=1, min_samples_split=2,\n",
       "                      min_weight_fraction_leaf=0.0, n_estimators=100,\n",
       "                      n_jobs=None, oob_score=True, random_state=0, verbose=0,\n",
       "                      warm_start=False)"
      ]
     },
     "execution_count": 72,
     "metadata": {},
     "output_type": "execute_result"
    }
   ],
   "source": [
    "# Instantiate model with 100 decision trees\n",
    "rf = RandomForestRegressor(n_estimators = 100, oob_score = True, random_state = 0)\n",
    "# Train the model on training data\n",
    "rf.fit(X_train, y_train)"
   ]
  },
  {
   "cell_type": "code",
   "execution_count": 73,
   "metadata": {},
   "outputs": [
    {
     "name": "stdout",
     "output_type": "stream",
     "text": [
      "Out-of-bag R-2 score estimate: -0.0704\n",
      "Test data R-2 score: -0.00298\n",
      "Test data Spearman correlation: 0.0674\n",
      "Test data Pearson correlation: 0.114\n"
     ]
    }
   ],
   "source": [
    "from sklearn.metrics import r2_score\n",
    "from scipy.stats import spearmanr, pearsonr\n",
    "predicted_train = rf.predict(X_train)\n",
    "predicted_test = rf.predict(X_test)\n",
    "test_score = r2_score(y_test, predicted_test)\n",
    "spearman = spearmanr(y_test, predicted_test)\n",
    "pearson = pearsonr(y_test, predicted_test)\n",
    "print(f'Out-of-bag R-2 score estimate: {rf.oob_score_:>5.3}')\n",
    "print(f'Test data R-2 score: {test_score:>5.3}')\n",
    "print(f'Test data Spearman correlation: {spearman[0]:.3}')\n",
    "print(f'Test data Pearson correlation: {pearson[0]:.3}')"
   ]
  },
  {
   "cell_type": "code",
   "execution_count": null,
   "metadata": {},
   "outputs": [],
   "source": [
    "# RF_predictions = rf.predict(X_test)\n",
    "# score = accuracy_score(y_test, RF_predictions)\n",
    "# print(score)"
   ]
  },
  {
   "cell_type": "code",
   "execution_count": 74,
   "metadata": {},
   "outputs": [
    {
     "data": {
      "text/plain": [
       "array([-0.009881,  0.057852, -0.010736, ...,  0.005901,  0.023366,\n",
       "        0.073014])"
      ]
     },
     "execution_count": 74,
     "metadata": {},
     "output_type": "execute_result"
    }
   ],
   "source": [
    "# Use the forest's predict method on the test data\n",
    "predictions = rf.predict(X_test)\n",
    "\n",
    "predictions\n"
   ]
  },
  {
   "cell_type": "code",
   "execution_count": 75,
   "metadata": {},
   "outputs": [
    {
     "data": {
      "text/plain": [
       "1549     0.078481\n",
       "20908    0.121852\n",
       "6410     0.024864\n",
       "10293    0.027265\n",
       "19900    0.013656\n",
       "           ...   \n",
       "7604     0.050439\n",
       "13458    0.085186\n",
       "1122     0.069199\n",
       "21803    0.041566\n",
       "20859    0.036786\n",
       "Name: logerror, Length: 3102, dtype: float64"
      ]
     },
     "execution_count": 75,
     "metadata": {},
     "output_type": "execute_result"
    }
   ],
   "source": [
    "# Calculate the absolute errors\n",
    "errors = abs(predictions - y_test)\n",
    "errors"
   ]
  },
  {
   "cell_type": "code",
   "execution_count": 76,
   "metadata": {},
   "outputs": [
    {
     "name": "stdout",
     "output_type": "stream",
     "text": [
      "Mean Absolute Error: 0.08\n"
     ]
    }
   ],
   "source": [
    "# Print out the mean absolute error (mae)\n",
    "print('Mean Absolute Error:', round(np.mean(errors), 2))"
   ]
  },
  {
   "cell_type": "code",
   "execution_count": 77,
   "metadata": {},
   "outputs": [
    {
     "data": {
      "text/plain": [
       "1549     114.403790\n",
       "20908   -190.393750\n",
       "6410     -69.842697\n",
       "10293    -34.512658\n",
       "19900    682.800000\n",
       "            ...    \n",
       "7604     -73.849195\n",
       "13458   -443.677083\n",
       "1122      92.142477\n",
       "21803   -228.384615\n",
       "20859     33.502732\n",
       "Name: logerror, Length: 3102, dtype: float64"
      ]
     },
     "execution_count": 77,
     "metadata": {},
     "output_type": "execute_result"
    }
   ],
   "source": [
    "# Calculate mean absolute percentage error (MAPE)\n",
    "mape = 100 * (errors / y_test)\n",
    "mape"
   ]
  },
  {
   "cell_type": "code",
   "execution_count": 78,
   "metadata": {},
   "outputs": [
    {
     "name": "stdout",
     "output_type": "stream",
     "text": [
      "Accuracy: -inf %.\n"
     ]
    }
   ],
   "source": [
    "# Calculate and display accuracy\n",
    "accuracy = 100 - np.mean(mape)\n",
    "print('Accuracy:', round(accuracy, 2), '%.')"
   ]
  },
  {
   "cell_type": "markdown",
   "metadata": {},
   "source": [
    "# KNN"
   ]
  },
  {
   "cell_type": "code",
   "execution_count": 79,
   "metadata": {},
   "outputs": [],
   "source": [
    "#import required packages\n",
    "from sklearn import neighbors\n",
    "from sklearn.metrics import mean_squared_error \n",
    "from math import sqrt\n",
    "import matplotlib.pyplot as plt\n",
    "%matplotlib inline"
   ]
  },
  {
   "cell_type": "code",
   "execution_count": 80,
   "metadata": {},
   "outputs": [
    {
     "data": {
      "text/plain": [
       "0        0.0020\n",
       "1        0.0030\n",
       "2       -0.0545\n",
       "3        0.0411\n",
       "4        0.0100\n",
       "          ...  \n",
       "26371    0.0030\n",
       "26376   -0.0010\n",
       "26377    0.1240\n",
       "26379    0.2585\n",
       "26382   -0.0523\n",
       "Name: logerror, Length: 15507, dtype: float64"
      ]
     },
     "execution_count": 80,
     "metadata": {},
     "output_type": "execute_result"
    }
   ],
   "source": [
    "X = zillow_2016_new[zillow_2016_new.columns].drop(columns = [\"logerror\"])\n",
    "\n",
    "X\n",
    "\n",
    "y =zillow_2016_new[\"logerror\"]\n",
    "\n",
    "y"
   ]
  },
  {
   "cell_type": "code",
   "execution_count": null,
   "metadata": {},
   "outputs": [],
   "source": []
  },
  {
   "cell_type": "code",
   "execution_count": 81,
   "metadata": {},
   "outputs": [],
   "source": [
    "from sklearn.model_selection import train_test_split\n",
    "\n",
    "\n",
    "\n",
    "\n",
    "X_train, X_test, y_train,y_test = train_test_split(X,y,train_size = .8)"
   ]
  },
  {
   "cell_type": "code",
   "execution_count": 100,
   "metadata": {},
   "outputs": [],
   "source": [
    "from sklearn.neighbors import KNeighborsRegressor"
   ]
  },
  {
   "cell_type": "code",
   "execution_count": 101,
   "metadata": {},
   "outputs": [
    {
     "ename": "ValueError",
     "evalue": "continuous is not supported",
     "output_type": "error",
     "traceback": [
      "\u001b[0;31m---------------------------------------------------------------------------\u001b[0m",
      "\u001b[0;31mValueError\u001b[0m                                Traceback (most recent call last)",
      "\u001b[0;32m<ipython-input-101-1f8759f2446a>\u001b[0m in \u001b[0;36m<module>\u001b[0;34m\u001b[0m\n\u001b[1;32m      2\u001b[0m \u001b[0mknn\u001b[0m\u001b[0;34m.\u001b[0m\u001b[0mfit\u001b[0m\u001b[0;34m(\u001b[0m\u001b[0mX_train\u001b[0m\u001b[0;34m,\u001b[0m \u001b[0my_train\u001b[0m\u001b[0;34m)\u001b[0m\u001b[0;34m\u001b[0m\u001b[0;34m\u001b[0m\u001b[0m\n\u001b[1;32m      3\u001b[0m \u001b[0my_pred\u001b[0m \u001b[0;34m=\u001b[0m \u001b[0mknn\u001b[0m\u001b[0;34m.\u001b[0m\u001b[0mpredict\u001b[0m\u001b[0;34m(\u001b[0m\u001b[0mX_test\u001b[0m\u001b[0;34m)\u001b[0m\u001b[0;34m\u001b[0m\u001b[0;34m\u001b[0m\u001b[0m\n\u001b[0;32m----> 4\u001b[0;31m \u001b[0mprint\u001b[0m\u001b[0;34m(\u001b[0m\u001b[0mmetrics\u001b[0m\u001b[0;34m.\u001b[0m\u001b[0maccuracy_score\u001b[0m\u001b[0;34m(\u001b[0m\u001b[0my_test\u001b[0m\u001b[0;34m,\u001b[0m \u001b[0my_pred\u001b[0m\u001b[0;34m)\u001b[0m\u001b[0;34m)\u001b[0m\u001b[0;34m\u001b[0m\u001b[0;34m\u001b[0m\u001b[0m\n\u001b[0m",
      "\u001b[0;32m/anaconda2/envs/py37/lib/python3.7/site-packages/sklearn/metrics/classification.py\u001b[0m in \u001b[0;36maccuracy_score\u001b[0;34m(y_true, y_pred, normalize, sample_weight)\u001b[0m\n\u001b[1;32m    174\u001b[0m \u001b[0;34m\u001b[0m\u001b[0m\n\u001b[1;32m    175\u001b[0m     \u001b[0;31m# Compute accuracy for each possible representation\u001b[0m\u001b[0;34m\u001b[0m\u001b[0;34m\u001b[0m\u001b[0;34m\u001b[0m\u001b[0m\n\u001b[0;32m--> 176\u001b[0;31m     \u001b[0my_type\u001b[0m\u001b[0;34m,\u001b[0m \u001b[0my_true\u001b[0m\u001b[0;34m,\u001b[0m \u001b[0my_pred\u001b[0m \u001b[0;34m=\u001b[0m \u001b[0m_check_targets\u001b[0m\u001b[0;34m(\u001b[0m\u001b[0my_true\u001b[0m\u001b[0;34m,\u001b[0m \u001b[0my_pred\u001b[0m\u001b[0;34m)\u001b[0m\u001b[0;34m\u001b[0m\u001b[0;34m\u001b[0m\u001b[0m\n\u001b[0m\u001b[1;32m    177\u001b[0m     \u001b[0mcheck_consistent_length\u001b[0m\u001b[0;34m(\u001b[0m\u001b[0my_true\u001b[0m\u001b[0;34m,\u001b[0m \u001b[0my_pred\u001b[0m\u001b[0;34m,\u001b[0m \u001b[0msample_weight\u001b[0m\u001b[0;34m)\u001b[0m\u001b[0;34m\u001b[0m\u001b[0;34m\u001b[0m\u001b[0m\n\u001b[1;32m    178\u001b[0m     \u001b[0;32mif\u001b[0m \u001b[0my_type\u001b[0m\u001b[0;34m.\u001b[0m\u001b[0mstartswith\u001b[0m\u001b[0;34m(\u001b[0m\u001b[0;34m'multilabel'\u001b[0m\u001b[0;34m)\u001b[0m\u001b[0;34m:\u001b[0m\u001b[0;34m\u001b[0m\u001b[0;34m\u001b[0m\u001b[0m\n",
      "\u001b[0;32m/anaconda2/envs/py37/lib/python3.7/site-packages/sklearn/metrics/classification.py\u001b[0m in \u001b[0;36m_check_targets\u001b[0;34m(y_true, y_pred)\u001b[0m\n\u001b[1;32m     86\u001b[0m     \u001b[0;31m# No metrics support \"multiclass-multioutput\" format\u001b[0m\u001b[0;34m\u001b[0m\u001b[0;34m\u001b[0m\u001b[0;34m\u001b[0m\u001b[0m\n\u001b[1;32m     87\u001b[0m     \u001b[0;32mif\u001b[0m \u001b[0;34m(\u001b[0m\u001b[0my_type\u001b[0m \u001b[0;32mnot\u001b[0m \u001b[0;32min\u001b[0m \u001b[0;34m[\u001b[0m\u001b[0;34m\"binary\"\u001b[0m\u001b[0;34m,\u001b[0m \u001b[0;34m\"multiclass\"\u001b[0m\u001b[0;34m,\u001b[0m \u001b[0;34m\"multilabel-indicator\"\u001b[0m\u001b[0;34m]\u001b[0m\u001b[0;34m)\u001b[0m\u001b[0;34m:\u001b[0m\u001b[0;34m\u001b[0m\u001b[0;34m\u001b[0m\u001b[0m\n\u001b[0;32m---> 88\u001b[0;31m         \u001b[0;32mraise\u001b[0m \u001b[0mValueError\u001b[0m\u001b[0;34m(\u001b[0m\u001b[0;34m\"{0} is not supported\"\u001b[0m\u001b[0;34m.\u001b[0m\u001b[0mformat\u001b[0m\u001b[0;34m(\u001b[0m\u001b[0my_type\u001b[0m\u001b[0;34m)\u001b[0m\u001b[0;34m)\u001b[0m\u001b[0;34m\u001b[0m\u001b[0;34m\u001b[0m\u001b[0m\n\u001b[0m\u001b[1;32m     89\u001b[0m \u001b[0;34m\u001b[0m\u001b[0m\n\u001b[1;32m     90\u001b[0m     \u001b[0;32mif\u001b[0m \u001b[0my_type\u001b[0m \u001b[0;32min\u001b[0m \u001b[0;34m[\u001b[0m\u001b[0;34m\"binary\"\u001b[0m\u001b[0;34m,\u001b[0m \u001b[0;34m\"multiclass\"\u001b[0m\u001b[0;34m]\u001b[0m\u001b[0;34m:\u001b[0m\u001b[0;34m\u001b[0m\u001b[0;34m\u001b[0m\u001b[0m\n",
      "\u001b[0;31mValueError\u001b[0m: continuous is not supported"
     ]
    }
   ],
   "source": [
    "knn = KNeighborsRegressor(n_neighbors=3)\n",
    "knn.fit(X_train, y_train)\n",
    "y_pred = knn.predict(X_test)\n",
    "print(metrics.accuracy_score(y_test, y_pred))"
   ]
  },
  {
   "cell_type": "code",
   "execution_count": 94,
   "metadata": {},
   "outputs": [
    {
     "name": "stdout",
     "output_type": "stream",
     "text": [
      "RMSE value for k=  1 is: 0.2199325356745267\n",
      "RMSE value for k=  2 is: 0.1985866900431205\n",
      "RMSE value for k=  3 is: 0.18799119262303926\n",
      "RMSE value for k=  4 is: 0.1841300045377808\n",
      "RMSE value for k=  5 is: 0.18196458223230186\n"
     ]
    }
   ],
   "source": [
    "# rmse_val = [] #to store rmse values for different k\n",
    "# for K in range(5):\n",
    "#     K = K+1\n",
    "#     model = neighbors.KNeighborsRegressor(n_neighbors = K)\n",
    "\n",
    "#     model.fit(X_train, y_train)  #fit the model\n",
    "#     pred=model.predict(X_test) #make prediction on test set\n",
    "#     error = sqrt(mean_squared_error(y_test,pred)) #calculate rmse\n",
    "#     rmse_val.append(error) #store rmse values\n",
    "#     print('RMSE value for k= ' , K , 'is:', error)"
   ]
  },
  {
   "cell_type": "code",
   "execution_count": 95,
   "metadata": {},
   "outputs": [
    {
     "data": {
      "text/plain": [
       "<matplotlib.axes._subplots.AxesSubplot at 0x1c23000210>"
      ]
     },
     "execution_count": 95,
     "metadata": {},
     "output_type": "execute_result"
    },
    {
     "data": {
      "image/png": "[encoded data removed]",
      "text/plain": [
       "<Figure size 432x288 with 1 Axes>"
      ]
     },
     "metadata": {
      "needs_background": "light"
     },
     "output_type": "display_data"
    }
   ],
   "source": [
    "#plotting the rmse values against k values\n",
    "curve = pd.DataFrame(rmse_val) #elbow curve \n",
    "curve.plot()"
   ]
  },
  {
   "cell_type": "code",
   "execution_count": 96,
   "metadata": {},
   "outputs": [
    {
     "data": {
      "text/plain": [
       "-0.15824872778948196"
      ]
     },
     "execution_count": 96,
     "metadata": {},
     "output_type": "execute_result"
    }
   ],
   "source": [
    "#check accuracy of our model on the test data\n",
    "model.score(X_test, y_test)"
   ]
  },
  {
   "cell_type": "code",
   "execution_count": 97,
   "metadata": {},
   "outputs": [
    {
     "data": {
      "image/png": "[encoded data removed]",
      "text/plain": [
       "<Figure size 720x432 with 1 Axes>"
      ]
     },
     "metadata": {
      "needs_background": "light"
     },
     "output_type": "display_data"
    }
   ],
   "source": [
    "import mglearn \n",
    "import matplotlib.pyplot as plt\n",
    "\n",
    "mglearn.plots.plot_knn_regression(n_neighbors=1)"
   ]
  },
  {
   "cell_type": "code",
   "execution_count": null,
   "metadata": {},
   "outputs": [],
   "source": []
  }
 ],
 "metadata": {
  "kernelspec": {
   "display_name": "Python 3",
   "language": "python",
   "name": "python3"
  },
  "language_info": {
   "codemirror_mode": {
    "name": "ipython",
    "version": 3
   },
   "file_extension": ".py",
   "mimetype": "text/x-python",
   "name": "python",
   "nbconvert_exporter": "python",
   "pygments_lexer": "ipython3",
   "version": "3.7.4"
  }
 },
 "nbformat": 4,
 "nbformat_minor": 2
}
