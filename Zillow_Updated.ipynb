{
 "cells": [
  {
   "cell_type": "code",
   "execution_count": 113,
   "metadata": {},
   "outputs": [
    {
     "data": {
      "text/html": [
       "<div>\n",
       "<style scoped>\n",
       "    .dataframe tbody tr th:only-of-type {\n",
       "        vertical-align: middle;\n",
       "    }\n",
       "\n",
       "    .dataframe tbody tr th {\n",
       "        vertical-align: top;\n",
       "    }\n",
       "\n",
       "    .dataframe thead th {\n",
       "        text-align: right;\n",
       "    }\n",
       "</style>\n",
       "<table border=\"1\" class=\"dataframe\">\n",
       "  <thead>\n",
       "    <tr style=\"text-align: right;\">\n",
       "      <th></th>\n",
       "      <th>parcelid</th>\n",
       "      <th>logerror</th>\n",
       "      <th>transactiondate</th>\n",
       "      <th>regionidzip</th>\n",
       "      <th>taxdelinquencyflag</th>\n",
       "      <th>airconditioningtypeid</th>\n",
       "      <th>bathroomcnt</th>\n",
       "      <th>bedroomcnt</th>\n",
       "      <th>buildingqualitytypeid</th>\n",
       "      <th>calculatedfinishedsquarefeet</th>\n",
       "      <th>...</th>\n",
       "      <th>regionidcounty</th>\n",
       "      <th>regionidneighborhood</th>\n",
       "      <th>unitcnt</th>\n",
       "      <th>yearbuilt</th>\n",
       "      <th>numberofstories</th>\n",
       "      <th>structuretaxvaluedollarcnt</th>\n",
       "      <th>taxvaluedollarcnt</th>\n",
       "      <th>assessmentyear</th>\n",
       "      <th>landtaxvaluedollarcnt</th>\n",
       "      <th>taxamount</th>\n",
       "    </tr>\n",
       "  </thead>\n",
       "  <tbody>\n",
       "    <tr>\n",
       "      <td>0</td>\n",
       "      <td>10836049</td>\n",
       "      <td>0.0020</td>\n",
       "      <td>2016-01-08</td>\n",
       "      <td>96415</td>\n",
       "      <td>N</td>\n",
       "      <td>0</td>\n",
       "      <td>1</td>\n",
       "      <td>3</td>\n",
       "      <td>7</td>\n",
       "      <td>1126</td>\n",
       "      <td>...</td>\n",
       "      <td>3101</td>\n",
       "      <td>32368</td>\n",
       "      <td>1</td>\n",
       "      <td>1950</td>\n",
       "      <td>0</td>\n",
       "      <td>22008</td>\n",
       "      <td>61967</td>\n",
       "      <td>2015</td>\n",
       "      <td>39959</td>\n",
       "      <td>933.78</td>\n",
       "    </tr>\n",
       "    <tr>\n",
       "      <td>1</td>\n",
       "      <td>10771670</td>\n",
       "      <td>0.0030</td>\n",
       "      <td>2016-01-12</td>\n",
       "      <td>96341</td>\n",
       "      <td>N</td>\n",
       "      <td>0</td>\n",
       "      <td>2</td>\n",
       "      <td>3</td>\n",
       "      <td>7</td>\n",
       "      <td>1216</td>\n",
       "      <td>...</td>\n",
       "      <td>3101</td>\n",
       "      <td>27987</td>\n",
       "      <td>1</td>\n",
       "      <td>1955</td>\n",
       "      <td>0</td>\n",
       "      <td>54031</td>\n",
       "      <td>229427</td>\n",
       "      <td>2015</td>\n",
       "      <td>175396</td>\n",
       "      <td>2838.77</td>\n",
       "    </tr>\n",
       "    <tr>\n",
       "      <td>2</td>\n",
       "      <td>10880407</td>\n",
       "      <td>-0.0545</td>\n",
       "      <td>2016-01-05</td>\n",
       "      <td>96450</td>\n",
       "      <td>N</td>\n",
       "      <td>1</td>\n",
       "      <td>1</td>\n",
       "      <td>3</td>\n",
       "      <td>7</td>\n",
       "      <td>984</td>\n",
       "      <td>...</td>\n",
       "      <td>3101</td>\n",
       "      <td>46795</td>\n",
       "      <td>1</td>\n",
       "      <td>1949</td>\n",
       "      <td>0</td>\n",
       "      <td>41803</td>\n",
       "      <td>209018</td>\n",
       "      <td>2015</td>\n",
       "      <td>167215</td>\n",
       "      <td>2655.27</td>\n",
       "    </tr>\n",
       "    <tr>\n",
       "      <td>3</td>\n",
       "      <td>10984360</td>\n",
       "      <td>0.0411</td>\n",
       "      <td>2016-01-03</td>\n",
       "      <td>96361</td>\n",
       "      <td>N</td>\n",
       "      <td>0</td>\n",
       "      <td>2</td>\n",
       "      <td>4</td>\n",
       "      <td>7</td>\n",
       "      <td>1150</td>\n",
       "      <td>...</td>\n",
       "      <td>3101</td>\n",
       "      <td>40215</td>\n",
       "      <td>1</td>\n",
       "      <td>1956</td>\n",
       "      <td>0</td>\n",
       "      <td>101800</td>\n",
       "      <td>330000</td>\n",
       "      <td>2015</td>\n",
       "      <td>228200</td>\n",
       "      <td>4205.43</td>\n",
       "    </tr>\n",
       "    <tr>\n",
       "      <td>4</td>\n",
       "      <td>12462074</td>\n",
       "      <td>0.0100</td>\n",
       "      <td>2016-01-04</td>\n",
       "      <td>96241</td>\n",
       "      <td>N</td>\n",
       "      <td>0</td>\n",
       "      <td>2</td>\n",
       "      <td>2</td>\n",
       "      <td>7</td>\n",
       "      <td>1648</td>\n",
       "      <td>...</td>\n",
       "      <td>3101</td>\n",
       "      <td>272968</td>\n",
       "      <td>1</td>\n",
       "      <td>1941</td>\n",
       "      <td>0</td>\n",
       "      <td>29551</td>\n",
       "      <td>60330</td>\n",
       "      <td>2015</td>\n",
       "      <td>30779</td>\n",
       "      <td>6542.57</td>\n",
       "    </tr>\n",
       "    <tr>\n",
       "      <td>...</td>\n",
       "      <td>...</td>\n",
       "      <td>...</td>\n",
       "      <td>...</td>\n",
       "      <td>...</td>\n",
       "      <td>...</td>\n",
       "      <td>...</td>\n",
       "      <td>...</td>\n",
       "      <td>...</td>\n",
       "      <td>...</td>\n",
       "      <td>...</td>\n",
       "      <td>...</td>\n",
       "      <td>...</td>\n",
       "      <td>...</td>\n",
       "      <td>...</td>\n",
       "      <td>...</td>\n",
       "      <td>...</td>\n",
       "      <td>...</td>\n",
       "      <td>...</td>\n",
       "      <td>...</td>\n",
       "      <td>...</td>\n",
       "      <td>...</td>\n",
       "    </tr>\n",
       "    <tr>\n",
       "      <td>95</td>\n",
       "      <td>11655826</td>\n",
       "      <td>-0.2421</td>\n",
       "      <td>2016-01-06</td>\n",
       "      <td>96086</td>\n",
       "      <td>N</td>\n",
       "      <td>1</td>\n",
       "      <td>7</td>\n",
       "      <td>7</td>\n",
       "      <td>10</td>\n",
       "      <td>8520</td>\n",
       "      <td>...</td>\n",
       "      <td>3101</td>\n",
       "      <td>113749</td>\n",
       "      <td>1</td>\n",
       "      <td>1966</td>\n",
       "      <td>0</td>\n",
       "      <td>4969342</td>\n",
       "      <td>7797746</td>\n",
       "      <td>2015</td>\n",
       "      <td>2828404</td>\n",
       "      <td>94997.03</td>\n",
       "    </tr>\n",
       "    <tr>\n",
       "      <td>96</td>\n",
       "      <td>12651416</td>\n",
       "      <td>0.0325</td>\n",
       "      <td>2016-01-08</td>\n",
       "      <td>96221</td>\n",
       "      <td>N</td>\n",
       "      <td>0</td>\n",
       "      <td>2</td>\n",
       "      <td>2</td>\n",
       "      <td>4</td>\n",
       "      <td>1876</td>\n",
       "      <td>...</td>\n",
       "      <td>3101</td>\n",
       "      <td>54300</td>\n",
       "      <td>1</td>\n",
       "      <td>1980</td>\n",
       "      <td>0</td>\n",
       "      <td>99970</td>\n",
       "      <td>499867</td>\n",
       "      <td>2015</td>\n",
       "      <td>399897</td>\n",
       "      <td>6106.45</td>\n",
       "    </tr>\n",
       "    <tr>\n",
       "      <td>97</td>\n",
       "      <td>10834436</td>\n",
       "      <td>-0.0040</td>\n",
       "      <td>2016-01-08</td>\n",
       "      <td>96415</td>\n",
       "      <td>N</td>\n",
       "      <td>0</td>\n",
       "      <td>1</td>\n",
       "      <td>3</td>\n",
       "      <td>7</td>\n",
       "      <td>1080</td>\n",
       "      <td>...</td>\n",
       "      <td>3101</td>\n",
       "      <td>32368</td>\n",
       "      <td>1</td>\n",
       "      <td>1949</td>\n",
       "      <td>0</td>\n",
       "      <td>19762</td>\n",
       "      <td>61759</td>\n",
       "      <td>2015</td>\n",
       "      <td>41997</td>\n",
       "      <td>801.58</td>\n",
       "    </tr>\n",
       "    <tr>\n",
       "      <td>98</td>\n",
       "      <td>10862983</td>\n",
       "      <td>0.0354</td>\n",
       "      <td>2016-01-07</td>\n",
       "      <td>96412</td>\n",
       "      <td>N</td>\n",
       "      <td>1</td>\n",
       "      <td>2</td>\n",
       "      <td>2</td>\n",
       "      <td>4</td>\n",
       "      <td>1261</td>\n",
       "      <td>...</td>\n",
       "      <td>3101</td>\n",
       "      <td>27080</td>\n",
       "      <td>1</td>\n",
       "      <td>1965</td>\n",
       "      <td>0</td>\n",
       "      <td>96788</td>\n",
       "      <td>228845</td>\n",
       "      <td>2015</td>\n",
       "      <td>132057</td>\n",
       "      <td>2867.68</td>\n",
       "    </tr>\n",
       "    <tr>\n",
       "      <td>99</td>\n",
       "      <td>12672640</td>\n",
       "      <td>0.0060</td>\n",
       "      <td>2016-01-07</td>\n",
       "      <td>96161</td>\n",
       "      <td>N</td>\n",
       "      <td>0</td>\n",
       "      <td>2</td>\n",
       "      <td>3</td>\n",
       "      <td>7</td>\n",
       "      <td>1162</td>\n",
       "      <td>...</td>\n",
       "      <td>3101</td>\n",
       "      <td>416331</td>\n",
       "      <td>1</td>\n",
       "      <td>1955</td>\n",
       "      <td>0</td>\n",
       "      <td>133404</td>\n",
       "      <td>667020</td>\n",
       "      <td>2015</td>\n",
       "      <td>533616</td>\n",
       "      <td>7727.33</td>\n",
       "    </tr>\n",
       "  </tbody>\n",
       "</table>\n",
       "<p>100 rows × 34 columns</p>\n",
       "</div>"
      ],
      "text/plain": [
       "    parcelid  logerror transactiondate  regionidzip taxdelinquencyflag  \\\n",
       "0   10836049    0.0020      2016-01-08        96415                  N   \n",
       "1   10771670    0.0030      2016-01-12        96341                  N   \n",
       "2   10880407   -0.0545      2016-01-05        96450                  N   \n",
       "3   10984360    0.0411      2016-01-03        96361                  N   \n",
       "4   12462074    0.0100      2016-01-04        96241                  N   \n",
       "..       ...       ...             ...          ...                ...   \n",
       "95  11655826   -0.2421      2016-01-06        96086                  N   \n",
       "96  12651416    0.0325      2016-01-08        96221                  N   \n",
       "97  10834436   -0.0040      2016-01-08        96415                  N   \n",
       "98  10862983    0.0354      2016-01-07        96412                  N   \n",
       "99  12672640    0.0060      2016-01-07        96161                  N   \n",
       "\n",
       "    airconditioningtypeid  bathroomcnt  bedroomcnt  buildingqualitytypeid  \\\n",
       "0                       0            1           3                      7   \n",
       "1                       0            2           3                      7   \n",
       "2                       1            1           3                      7   \n",
       "3                       0            2           4                      7   \n",
       "4                       0            2           2                      7   \n",
       "..                    ...          ...         ...                    ...   \n",
       "95                      1            7           7                     10   \n",
       "96                      0            2           2                      4   \n",
       "97                      0            1           3                      7   \n",
       "98                      1            2           2                      4   \n",
       "99                      0            2           3                      7   \n",
       "\n",
       "    calculatedfinishedsquarefeet  ...  regionidcounty  regionidneighborhood  \\\n",
       "0                           1126  ...            3101                 32368   \n",
       "1                           1216  ...            3101                 27987   \n",
       "2                            984  ...            3101                 46795   \n",
       "3                           1150  ...            3101                 40215   \n",
       "4                           1648  ...            3101                272968   \n",
       "..                           ...  ...             ...                   ...   \n",
       "95                          8520  ...            3101                113749   \n",
       "96                          1876  ...            3101                 54300   \n",
       "97                          1080  ...            3101                 32368   \n",
       "98                          1261  ...            3101                 27080   \n",
       "99                          1162  ...            3101                416331   \n",
       "\n",
       "    unitcnt  yearbuilt  numberofstories  structuretaxvaluedollarcnt  \\\n",
       "0         1       1950                0                       22008   \n",
       "1         1       1955                0                       54031   \n",
       "2         1       1949                0                       41803   \n",
       "3         1       1956                0                      101800   \n",
       "4         1       1941                0                       29551   \n",
       "..      ...        ...              ...                         ...   \n",
       "95        1       1966                0                     4969342   \n",
       "96        1       1980                0                       99970   \n",
       "97        1       1949                0                       19762   \n",
       "98        1       1965                0                       96788   \n",
       "99        1       1955                0                      133404   \n",
       "\n",
       "    taxvaluedollarcnt  assessmentyear landtaxvaluedollarcnt  taxamount  \n",
       "0               61967            2015                 39959     933.78  \n",
       "1              229427            2015                175396    2838.77  \n",
       "2              209018            2015                167215    2655.27  \n",
       "3              330000            2015                228200    4205.43  \n",
       "4               60330            2015                 30779    6542.57  \n",
       "..                ...             ...                   ...        ...  \n",
       "95            7797746            2015               2828404   94997.03  \n",
       "96             499867            2015                399897    6106.45  \n",
       "97              61759            2015                 41997     801.58  \n",
       "98             228845            2015                132057    2867.68  \n",
       "99             667020            2015                533616    7727.33  \n",
       "\n",
       "[100 rows x 34 columns]"
      ]
     },
     "execution_count": 113,
     "metadata": {},
     "output_type": "execute_result"
    }
   ],
   "source": [
    "import pandas as pd\n",
    "import numpy as np\n",
    "import seaborn as sns\n",
    "\n",
    "zillow_2016_merged = pd.read_csv('/Users/katherineling/Desktop/Ironhack/zillow_2016_merger.csv') \n",
    "\n",
    "zillow_2016_merged.head(100)"
   ]
  },
  {
   "cell_type": "code",
   "execution_count": 114,
   "metadata": {},
   "outputs": [],
   "source": [
    "zillow_2016_merged = zillow_2016_merged.drop(columns=['pooltypeid10', 'pooltypeid7', 'bathroomcnt', 'censustractandblock', 'pooltypeid7', 'taxvaluedollarcnt', 'taxamount', 'parcelid'])"
   ]
  },
  {
   "cell_type": "code",
   "execution_count": 115,
   "metadata": {},
   "outputs": [],
   "source": [
    "indexNames = zillow_2016_merged[ zillow_2016_merged['bedroomcnt'] > 6 ].index\n",
    "\n",
    "zillow_2016_merged.drop(indexNames, inplace=True)"
   ]
  },
  {
   "cell_type": "code",
   "execution_count": 116,
   "metadata": {},
   "outputs": [],
   "source": [
    "indexNames = zillow_2016_merged[ zillow_2016_merged['calculatedfinishedsquarefeet'] > 4410 ].index\n",
    "\n",
    "zillow_2016_merged.drop(indexNames, inplace=True)"
   ]
  },
  {
   "cell_type": "code",
   "execution_count": 117,
   "metadata": {},
   "outputs": [],
   "source": [
    "indexNames = zillow_2016_merged[ zillow_2016_merged['lotsizesquarefeet'] > 62961 ].index\n",
    "\n",
    "zillow_2016_merged.drop(indexNames, inplace=True)"
   ]
  },
  {
   "cell_type": "code",
   "execution_count": 118,
   "metadata": {},
   "outputs": [],
   "source": [
    "zillow_2016_merged = zillow_2016_merged.drop(columns=['numberofstories', 'unitcnt', 'assessmentyear'])"
   ]
  },
  {
   "cell_type": "code",
   "execution_count": 119,
   "metadata": {},
   "outputs": [],
   "source": [
    "zillow_2016_merged['taxdelinquencyflag'] = zillow_2016_merged['taxdelinquencyflag'].replace('Y', 1)\n",
    "zillow_2016_merged['taxdelinquencyflag'] = zillow_2016_merged['taxdelinquencyflag'].replace('N', 0)"
   ]
  },
  {
   "cell_type": "code",
   "execution_count": 120,
   "metadata": {},
   "outputs": [],
   "source": [
    "zillow_2016_merged = pd.get_dummies(zillow_2016_merged, columns=[\"heatingorsystemtypeid\"])"
   ]
  },
  {
   "cell_type": "code",
   "execution_count": 121,
   "metadata": {},
   "outputs": [],
   "source": [
    "indexNames8 = zillow_2016_merged[ zillow_2016_merged['buildingqualitytypeid'] == 8].index\n",
    "\n",
    "indexNames8\n",
    "\n",
    "zillow_2016_merged.drop(indexNames8, inplace=True)"
   ]
  },
  {
   "cell_type": "code",
   "execution_count": 122,
   "metadata": {},
   "outputs": [],
   "source": [
    "vc = zillow_2016_merged['propertycountylandusecode'].value_counts()\n",
    "u  = [i not in set(vc[vc<51].index) for i in zillow_2016_merged['propertycountylandusecode']]\n",
    "zillow_2016_merged = zillow_2016_merged[u]"
   ]
  },
  {
   "cell_type": "code",
   "execution_count": 123,
   "metadata": {},
   "outputs": [
    {
     "data": {
      "text/plain": [
       "0100    13664\n",
       "0101     3642\n",
       "010C     2972\n",
       "010E      967\n",
       "010D      624\n",
       "0104      157\n",
       "012C       99\n",
       "Name: propertycountylandusecode, dtype: int64"
      ]
     },
     "execution_count": 123,
     "metadata": {},
     "output_type": "execute_result"
    }
   ],
   "source": [
    "zillow_2016_merged['propertycountylandusecode'].value_counts()"
   ]
  },
  {
   "cell_type": "code",
   "execution_count": 124,
   "metadata": {},
   "outputs": [
    {
     "data": {
      "text/plain": [
       "(22125, 27)"
      ]
     },
     "execution_count": 124,
     "metadata": {},
     "output_type": "execute_result"
    }
   ],
   "source": [
    "zillow_2016_merged.shape"
   ]
  },
  {
   "cell_type": "code",
   "execution_count": 125,
   "metadata": {},
   "outputs": [],
   "source": [
    "zillow_2016_merged = pd.get_dummies(zillow_2016_merged, columns=[\"propertycountylandusecode\"])"
   ]
  },
  {
   "cell_type": "code",
   "execution_count": 126,
   "metadata": {},
   "outputs": [],
   "source": [
    "zillow_2016_merged = pd.get_dummies(zillow_2016_merged, columns=[\"propertylandusetypeid\"])"
   ]
  },
  {
   "cell_type": "code",
   "execution_count": 127,
   "metadata": {},
   "outputs": [
    {
     "data": {
      "text/plain": [
       "1950    762\n",
       "1953    687\n",
       "1954    635\n",
       "1951    579\n",
       "1955    561\n",
       "       ... \n",
       "2010     10\n",
       "2013     10\n",
       "2011      8\n",
       "2012      8\n",
       "2014      6\n",
       "Name: yearbuilt, Length: 80, dtype: int64"
      ]
     },
     "execution_count": 127,
     "metadata": {},
     "output_type": "execute_result"
    }
   ],
   "source": [
    "\n",
    "indexNames = zillow_2016_merged[ zillow_2016_merged['yearbuilt'] <1935].index\n",
    " \n",
    "zillow_2016_merged.drop(indexNames , inplace=True)\n",
    "\n",
    "zillow_2016_merged['yearbuilt'].value_counts()"
   ]
  },
  {
   "cell_type": "code",
   "execution_count": 128,
   "metadata": {},
   "outputs": [],
   "source": [
    "zillow_2016_new = zillow_2016_merged.drop(columns=['transactiondate', 'regionidzip', 'propertyzoningdesc', 'rawcensustractandblock', 'latitude', 'longitude', 'regionidcounty', 'regionidneighborhood'])\n"
   ]
  },
  {
   "cell_type": "code",
   "execution_count": 129,
   "metadata": {},
   "outputs": [
    {
     "data": {
      "text/plain": [
       "(18085, 27)"
      ]
     },
     "execution_count": 129,
     "metadata": {},
     "output_type": "execute_result"
    }
   ],
   "source": [
    "zillow_2016_new.shape"
   ]
  },
  {
   "cell_type": "markdown",
   "metadata": {},
   "source": [
    "# Normalizing Data"
   ]
  },
  {
   "cell_type": "code",
   "execution_count": 63,
   "metadata": {},
   "outputs": [
    {
     "data": {
      "text/plain": [
       "(18085, 7)"
      ]
     },
     "execution_count": 63,
     "metadata": {},
     "output_type": "execute_result"
    }
   ],
   "source": [
    "from sklearn.preprocessing import MinMaxScaler\n",
    "\n",
    "import pandas as pd\n",
    "from sklearn import preprocessing\n",
    "\n",
    "\n",
    "column_names_to_normalize = ['bedroomcnt', 'buildingqualitytypeid', 'calculatedfinishedsquarefeet', 'lotsizesquarefeet', 'poolcnt', 'structuretaxvaluedollarcnt', 'landtaxvaluedollarcnt']\n",
    "\n",
    "column_names_to_normalize\n",
    "\n",
    "\n",
    "x = zillow_2016_new[column_names_to_normalize].values\n",
    "\n",
    "x\n",
    "\n",
    "min_max_scaler = preprocessing.MinMaxScaler()\n",
    "\n",
    "x_scaled = min_max_scaler.fit_transform(x)\n",
    "\n",
    "x_scaled\n",
    "\n",
    "\n",
    "\n",
    "a = pd.DataFrame(x_scaled)\n",
    "\n",
    "a.values\n",
    "\n",
    "zillow_2016_new[['bedroomcnt', 'buildingqualitytypeid', 'calculatedfinishedsquarefeet', 'lotsizesquarefeet', 'poolcnt', 'structuretaxvaluedollarcnt', 'landtaxvaluedollarcnt']] = a.values\n",
    "\n",
    "\n",
    "a.shape\n"
   ]
  },
  {
   "cell_type": "code",
   "execution_count": 130,
   "metadata": {},
   "outputs": [
    {
     "data": {
      "text/plain": [
       "(18085, 27)"
      ]
     },
     "execution_count": 130,
     "metadata": {},
     "output_type": "execute_result"
    }
   ],
   "source": [
    "zillow_2016_new.shape"
   ]
  },
  {
   "cell_type": "markdown",
   "metadata": {},
   "source": [
    "# Years to Decades"
   ]
  },
  {
   "cell_type": "code",
   "execution_count": 131,
   "metadata": {},
   "outputs": [],
   "source": [
    "zillow_2016_new['yearbuilt'] = zillow_2016_new['yearbuilt'].astype('category')"
   ]
  },
  {
   "cell_type": "code",
   "execution_count": 132,
   "metadata": {},
   "outputs": [],
   "source": [
    "zillow_2016_new['yearbuilt'] = zillow_2016_new['yearbuilt'].astype('str')"
   ]
  },
  {
   "cell_type": "code",
   "execution_count": 133,
   "metadata": {},
   "outputs": [],
   "source": [
    "zillow_2016_new['yearbuilt'] = zillow_2016_new['yearbuilt'].astype('int')"
   ]
  },
  {
   "cell_type": "code",
   "execution_count": 134,
   "metadata": {},
   "outputs": [
    {
     "data": {
      "text/plain": [
       "1950    762\n",
       "1953    687\n",
       "1954    635\n",
       "1951    579\n",
       "1955    561\n",
       "       ... \n",
       "2010     10\n",
       "2013     10\n",
       "2011      8\n",
       "2012      8\n",
       "2014      6\n",
       "Name: yearbuilt, Length: 80, dtype: int64"
      ]
     },
     "execution_count": 134,
     "metadata": {},
     "output_type": "execute_result"
    }
   ],
   "source": [
    "indexNames = zillow_2016_new[ zillow_2016_new['yearbuilt'] <1935].index\n",
    " \n",
    "zillow_2016_new.drop(indexNames , inplace=True)\n",
    "\n",
    "zillow_2016_new['yearbuilt'].value_counts()\n"
   ]
  },
  {
   "cell_type": "code",
   "execution_count": 135,
   "metadata": {},
   "outputs": [],
   "source": [
    "zillow_2016_new['yearbuilt'] = zillow_2016_new['yearbuilt'].astype('str')"
   ]
  },
  {
   "cell_type": "code",
   "execution_count": 136,
   "metadata": {},
   "outputs": [],
   "source": [
    "zillow_2016_new['yearbuilt'] = (zillow_2016_new.yearbuilt.replace({'195':'1950'}, regex=True))"
   ]
  },
  {
   "cell_type": "code",
   "execution_count": 137,
   "metadata": {},
   "outputs": [],
   "source": [
    "zillow_2016_new['yearbuilt'] = (zillow_2016_new.yearbuilt.replace({'193':'1930'}, regex=True))"
   ]
  },
  {
   "cell_type": "code",
   "execution_count": 138,
   "metadata": {},
   "outputs": [],
   "source": [
    "zillow_2016_new['yearbuilt'] = (zillow_2016_new.yearbuilt.replace({'194':'1940'}, regex=True))"
   ]
  },
  {
   "cell_type": "code",
   "execution_count": 139,
   "metadata": {},
   "outputs": [],
   "source": [
    "zillow_2016_new['yearbuilt'] = (zillow_2016_new.yearbuilt.replace({'196':'1960'}, regex=True))"
   ]
  },
  {
   "cell_type": "code",
   "execution_count": 140,
   "metadata": {},
   "outputs": [],
   "source": [
    "zillow_2016_new['yearbuilt'] = (zillow_2016_new.yearbuilt.replace({'197':'1970'}, regex=True))"
   ]
  },
  {
   "cell_type": "code",
   "execution_count": 141,
   "metadata": {},
   "outputs": [],
   "source": [
    "zillow_2016_new['yearbuilt'] = (zillow_2016_new.yearbuilt.replace({'198':'1980'}, regex=True))"
   ]
  },
  {
   "cell_type": "code",
   "execution_count": 142,
   "metadata": {},
   "outputs": [],
   "source": [
    "zillow_2016_new['yearbuilt'] = (zillow_2016_new.yearbuilt.replace({'199':'1990'}, regex=True))"
   ]
  },
  {
   "cell_type": "code",
   "execution_count": 143,
   "metadata": {},
   "outputs": [],
   "source": [
    "zillow_2016_new['yearbuilt'] = (zillow_2016_new.yearbuilt.replace({'20':'2000'}, regex=True))"
   ]
  },
  {
   "cell_type": "code",
   "execution_count": 144,
   "metadata": {},
   "outputs": [],
   "source": [
    "zillow_2016_new['yearbuilt'] = (zillow_2016_new.yearbuilt.replace({'201':'2010'}, regex=True))"
   ]
  },
  {
   "cell_type": "code",
   "execution_count": 145,
   "metadata": {},
   "outputs": [],
   "source": [
    "zillow_2016_new['yearbuilt'] = zillow_2016_new['yearbuilt'].astype(str).str[:-1]"
   ]
  },
  {
   "cell_type": "code",
   "execution_count": 146,
   "metadata": {},
   "outputs": [],
   "source": [
    "zillow_2016_new['yearbuilt'] = (zillow_2016_new.yearbuilt.replace({'19500':'1950'}, regex=True))"
   ]
  },
  {
   "cell_type": "code",
   "execution_count": 147,
   "metadata": {},
   "outputs": [
    {
     "data": {
      "text/plain": [
       "array(['1950', '1940', '1980', '1930', '1970', '1960', '1990', '20000',\n",
       "       '20001'], dtype=object)"
      ]
     },
     "execution_count": 147,
     "metadata": {},
     "output_type": "execute_result"
    }
   ],
   "source": [
    "zillow_2016_new['yearbuilt'].unique()"
   ]
  },
  {
   "cell_type": "code",
   "execution_count": 148,
   "metadata": {},
   "outputs": [],
   "source": [
    "zillow_2016_new['yearbuilt'] = (zillow_2016_new.yearbuilt.replace({'20000':'2000'}, regex=True))"
   ]
  },
  {
   "cell_type": "code",
   "execution_count": 149,
   "metadata": {},
   "outputs": [],
   "source": [
    "zillow_2016_new['yearbuilt'] = (zillow_2016_new.yearbuilt.replace({'20001':'2010'}, regex=True))"
   ]
  },
  {
   "cell_type": "code",
   "execution_count": 150,
   "metadata": {},
   "outputs": [
    {
     "data": {
      "text/plain": [
       "array(['1950', '1940', '1980', '1930', '1970', '1960', '1990', '2000',\n",
       "       '2010'], dtype=object)"
      ]
     },
     "execution_count": 150,
     "metadata": {},
     "output_type": "execute_result"
    }
   ],
   "source": [
    "zillow_2016_new['yearbuilt'].unique()"
   ]
  },
  {
   "cell_type": "code",
   "execution_count": 151,
   "metadata": {},
   "outputs": [],
   "source": [
    "zillow_2016_new['yearbuilt'] = zillow_2016_new['yearbuilt'].astype('category')"
   ]
  },
  {
   "cell_type": "code",
   "execution_count": 152,
   "metadata": {},
   "outputs": [
    {
     "data": {
      "text/html": [
       "<div>\n",
       "<style scoped>\n",
       "    .dataframe tbody tr th:only-of-type {\n",
       "        vertical-align: middle;\n",
       "    }\n",
       "\n",
       "    .dataframe tbody tr th {\n",
       "        vertical-align: top;\n",
       "    }\n",
       "\n",
       "    .dataframe thead th {\n",
       "        text-align: right;\n",
       "    }\n",
       "</style>\n",
       "<table border=\"1\" class=\"dataframe\">\n",
       "  <thead>\n",
       "    <tr style=\"text-align: right;\">\n",
       "      <th></th>\n",
       "      <th>logerror</th>\n",
       "      <th>taxdelinquencyflag</th>\n",
       "      <th>airconditioningtypeid</th>\n",
       "      <th>bedroomcnt</th>\n",
       "      <th>buildingqualitytypeid</th>\n",
       "      <th>calculatedfinishedsquarefeet</th>\n",
       "      <th>hashottuborspa</th>\n",
       "      <th>lotsizesquarefeet</th>\n",
       "      <th>poolcnt</th>\n",
       "      <th>regionidcity</th>\n",
       "      <th>...</th>\n",
       "      <th>propertylandusetypeid_269</th>\n",
       "      <th>yearbuilt_1930</th>\n",
       "      <th>yearbuilt_1940</th>\n",
       "      <th>yearbuilt_1950</th>\n",
       "      <th>yearbuilt_1960</th>\n",
       "      <th>yearbuilt_1970</th>\n",
       "      <th>yearbuilt_1980</th>\n",
       "      <th>yearbuilt_1990</th>\n",
       "      <th>yearbuilt_2000</th>\n",
       "      <th>yearbuilt_2010</th>\n",
       "    </tr>\n",
       "  </thead>\n",
       "  <tbody>\n",
       "    <tr>\n",
       "      <td>0</td>\n",
       "      <td>0.0020</td>\n",
       "      <td>0</td>\n",
       "      <td>0</td>\n",
       "      <td>3</td>\n",
       "      <td>7</td>\n",
       "      <td>1126</td>\n",
       "      <td>0</td>\n",
       "      <td>6306.0</td>\n",
       "      <td>0</td>\n",
       "      <td>12447</td>\n",
       "      <td>...</td>\n",
       "      <td>0</td>\n",
       "      <td>0</td>\n",
       "      <td>0</td>\n",
       "      <td>1</td>\n",
       "      <td>0</td>\n",
       "      <td>0</td>\n",
       "      <td>0</td>\n",
       "      <td>0</td>\n",
       "      <td>0</td>\n",
       "      <td>0</td>\n",
       "    </tr>\n",
       "    <tr>\n",
       "      <td>1</td>\n",
       "      <td>0.0030</td>\n",
       "      <td>0</td>\n",
       "      <td>0</td>\n",
       "      <td>3</td>\n",
       "      <td>7</td>\n",
       "      <td>1216</td>\n",
       "      <td>0</td>\n",
       "      <td>7560.0</td>\n",
       "      <td>0</td>\n",
       "      <td>12447</td>\n",
       "      <td>...</td>\n",
       "      <td>0</td>\n",
       "      <td>0</td>\n",
       "      <td>0</td>\n",
       "      <td>1</td>\n",
       "      <td>0</td>\n",
       "      <td>0</td>\n",
       "      <td>0</td>\n",
       "      <td>0</td>\n",
       "      <td>0</td>\n",
       "      <td>0</td>\n",
       "    </tr>\n",
       "    <tr>\n",
       "      <td>2</td>\n",
       "      <td>-0.0545</td>\n",
       "      <td>0</td>\n",
       "      <td>1</td>\n",
       "      <td>3</td>\n",
       "      <td>7</td>\n",
       "      <td>984</td>\n",
       "      <td>0</td>\n",
       "      <td>6448.0</td>\n",
       "      <td>0</td>\n",
       "      <td>12447</td>\n",
       "      <td>...</td>\n",
       "      <td>0</td>\n",
       "      <td>0</td>\n",
       "      <td>1</td>\n",
       "      <td>0</td>\n",
       "      <td>0</td>\n",
       "      <td>0</td>\n",
       "      <td>0</td>\n",
       "      <td>0</td>\n",
       "      <td>0</td>\n",
       "      <td>0</td>\n",
       "    </tr>\n",
       "    <tr>\n",
       "      <td>3</td>\n",
       "      <td>0.0411</td>\n",
       "      <td>0</td>\n",
       "      <td>0</td>\n",
       "      <td>4</td>\n",
       "      <td>7</td>\n",
       "      <td>1150</td>\n",
       "      <td>0</td>\n",
       "      <td>7552.0</td>\n",
       "      <td>0</td>\n",
       "      <td>12447</td>\n",
       "      <td>...</td>\n",
       "      <td>0</td>\n",
       "      <td>0</td>\n",
       "      <td>0</td>\n",
       "      <td>1</td>\n",
       "      <td>0</td>\n",
       "      <td>0</td>\n",
       "      <td>0</td>\n",
       "      <td>0</td>\n",
       "      <td>0</td>\n",
       "      <td>0</td>\n",
       "    </tr>\n",
       "    <tr>\n",
       "      <td>4</td>\n",
       "      <td>0.0100</td>\n",
       "      <td>0</td>\n",
       "      <td>0</td>\n",
       "      <td>2</td>\n",
       "      <td>7</td>\n",
       "      <td>1648</td>\n",
       "      <td>0</td>\n",
       "      <td>5697.0</td>\n",
       "      <td>0</td>\n",
       "      <td>46298</td>\n",
       "      <td>...</td>\n",
       "      <td>0</td>\n",
       "      <td>0</td>\n",
       "      <td>1</td>\n",
       "      <td>0</td>\n",
       "      <td>0</td>\n",
       "      <td>0</td>\n",
       "      <td>0</td>\n",
       "      <td>0</td>\n",
       "      <td>0</td>\n",
       "      <td>0</td>\n",
       "    </tr>\n",
       "    <tr>\n",
       "      <td>...</td>\n",
       "      <td>...</td>\n",
       "      <td>...</td>\n",
       "      <td>...</td>\n",
       "      <td>...</td>\n",
       "      <td>...</td>\n",
       "      <td>...</td>\n",
       "      <td>...</td>\n",
       "      <td>...</td>\n",
       "      <td>...</td>\n",
       "      <td>...</td>\n",
       "      <td>...</td>\n",
       "      <td>...</td>\n",
       "      <td>...</td>\n",
       "      <td>...</td>\n",
       "      <td>...</td>\n",
       "      <td>...</td>\n",
       "      <td>...</td>\n",
       "      <td>...</td>\n",
       "      <td>...</td>\n",
       "      <td>...</td>\n",
       "      <td>...</td>\n",
       "    </tr>\n",
       "    <tr>\n",
       "      <td>142</td>\n",
       "      <td>0.0459</td>\n",
       "      <td>0</td>\n",
       "      <td>1</td>\n",
       "      <td>3</td>\n",
       "      <td>4</td>\n",
       "      <td>1627</td>\n",
       "      <td>0</td>\n",
       "      <td>15487.0</td>\n",
       "      <td>0</td>\n",
       "      <td>48424</td>\n",
       "      <td>...</td>\n",
       "      <td>0</td>\n",
       "      <td>0</td>\n",
       "      <td>0</td>\n",
       "      <td>0</td>\n",
       "      <td>0</td>\n",
       "      <td>0</td>\n",
       "      <td>1</td>\n",
       "      <td>0</td>\n",
       "      <td>0</td>\n",
       "      <td>0</td>\n",
       "    </tr>\n",
       "    <tr>\n",
       "      <td>144</td>\n",
       "      <td>-0.0171</td>\n",
       "      <td>0</td>\n",
       "      <td>1</td>\n",
       "      <td>2</td>\n",
       "      <td>4</td>\n",
       "      <td>1253</td>\n",
       "      <td>0</td>\n",
       "      <td>12016.0</td>\n",
       "      <td>0</td>\n",
       "      <td>47019</td>\n",
       "      <td>...</td>\n",
       "      <td>0</td>\n",
       "      <td>0</td>\n",
       "      <td>0</td>\n",
       "      <td>0</td>\n",
       "      <td>0</td>\n",
       "      <td>0</td>\n",
       "      <td>1</td>\n",
       "      <td>0</td>\n",
       "      <td>0</td>\n",
       "      <td>0</td>\n",
       "    </tr>\n",
       "    <tr>\n",
       "      <td>145</td>\n",
       "      <td>0.1890</td>\n",
       "      <td>0</td>\n",
       "      <td>0</td>\n",
       "      <td>3</td>\n",
       "      <td>7</td>\n",
       "      <td>2242</td>\n",
       "      <td>0</td>\n",
       "      <td>8501.0</td>\n",
       "      <td>0</td>\n",
       "      <td>12447</td>\n",
       "      <td>...</td>\n",
       "      <td>0</td>\n",
       "      <td>0</td>\n",
       "      <td>1</td>\n",
       "      <td>0</td>\n",
       "      <td>0</td>\n",
       "      <td>0</td>\n",
       "      <td>0</td>\n",
       "      <td>0</td>\n",
       "      <td>0</td>\n",
       "      <td>0</td>\n",
       "    </tr>\n",
       "    <tr>\n",
       "      <td>146</td>\n",
       "      <td>-0.6368</td>\n",
       "      <td>0</td>\n",
       "      <td>0</td>\n",
       "      <td>2</td>\n",
       "      <td>7</td>\n",
       "      <td>936</td>\n",
       "      <td>0</td>\n",
       "      <td>8369.0</td>\n",
       "      <td>0</td>\n",
       "      <td>12447</td>\n",
       "      <td>...</td>\n",
       "      <td>0</td>\n",
       "      <td>1</td>\n",
       "      <td>0</td>\n",
       "      <td>0</td>\n",
       "      <td>0</td>\n",
       "      <td>0</td>\n",
       "      <td>0</td>\n",
       "      <td>0</td>\n",
       "      <td>0</td>\n",
       "      <td>0</td>\n",
       "    </tr>\n",
       "    <tr>\n",
       "      <td>147</td>\n",
       "      <td>-0.0040</td>\n",
       "      <td>0</td>\n",
       "      <td>0</td>\n",
       "      <td>5</td>\n",
       "      <td>4</td>\n",
       "      <td>2075</td>\n",
       "      <td>0</td>\n",
       "      <td>5500.0</td>\n",
       "      <td>0</td>\n",
       "      <td>54722</td>\n",
       "      <td>...</td>\n",
       "      <td>0</td>\n",
       "      <td>0</td>\n",
       "      <td>0</td>\n",
       "      <td>0</td>\n",
       "      <td>1</td>\n",
       "      <td>0</td>\n",
       "      <td>0</td>\n",
       "      <td>0</td>\n",
       "      <td>0</td>\n",
       "      <td>0</td>\n",
       "    </tr>\n",
       "  </tbody>\n",
       "</table>\n",
       "<p>100 rows × 35 columns</p>\n",
       "</div>"
      ],
      "text/plain": [
       "     logerror  taxdelinquencyflag  airconditioningtypeid  bedroomcnt  \\\n",
       "0      0.0020                   0                      0           3   \n",
       "1      0.0030                   0                      0           3   \n",
       "2     -0.0545                   0                      1           3   \n",
       "3      0.0411                   0                      0           4   \n",
       "4      0.0100                   0                      0           2   \n",
       "..        ...                 ...                    ...         ...   \n",
       "142    0.0459                   0                      1           3   \n",
       "144   -0.0171                   0                      1           2   \n",
       "145    0.1890                   0                      0           3   \n",
       "146   -0.6368                   0                      0           2   \n",
       "147   -0.0040                   0                      0           5   \n",
       "\n",
       "     buildingqualitytypeid  calculatedfinishedsquarefeet  hashottuborspa  \\\n",
       "0                        7                          1126               0   \n",
       "1                        7                          1216               0   \n",
       "2                        7                           984               0   \n",
       "3                        7                          1150               0   \n",
       "4                        7                          1648               0   \n",
       "..                     ...                           ...             ...   \n",
       "142                      4                          1627               0   \n",
       "144                      4                          1253               0   \n",
       "145                      7                          2242               0   \n",
       "146                      7                           936               0   \n",
       "147                      4                          2075               0   \n",
       "\n",
       "     lotsizesquarefeet  poolcnt  regionidcity  ...  propertylandusetypeid_269  \\\n",
       "0               6306.0        0         12447  ...                          0   \n",
       "1               7560.0        0         12447  ...                          0   \n",
       "2               6448.0        0         12447  ...                          0   \n",
       "3               7552.0        0         12447  ...                          0   \n",
       "4               5697.0        0         46298  ...                          0   \n",
       "..                 ...      ...           ...  ...                        ...   \n",
       "142            15487.0        0         48424  ...                          0   \n",
       "144            12016.0        0         47019  ...                          0   \n",
       "145             8501.0        0         12447  ...                          0   \n",
       "146             8369.0        0         12447  ...                          0   \n",
       "147             5500.0        0         54722  ...                          0   \n",
       "\n",
       "     yearbuilt_1930  yearbuilt_1940  yearbuilt_1950  yearbuilt_1960  \\\n",
       "0                 0               0               1               0   \n",
       "1                 0               0               1               0   \n",
       "2                 0               1               0               0   \n",
       "3                 0               0               1               0   \n",
       "4                 0               1               0               0   \n",
       "..              ...             ...             ...             ...   \n",
       "142               0               0               0               0   \n",
       "144               0               0               0               0   \n",
       "145               0               1               0               0   \n",
       "146               1               0               0               0   \n",
       "147               0               0               0               1   \n",
       "\n",
       "     yearbuilt_1970  yearbuilt_1980  yearbuilt_1990  yearbuilt_2000  \\\n",
       "0                 0               0               0               0   \n",
       "1                 0               0               0               0   \n",
       "2                 0               0               0               0   \n",
       "3                 0               0               0               0   \n",
       "4                 0               0               0               0   \n",
       "..              ...             ...             ...             ...   \n",
       "142               0               1               0               0   \n",
       "144               0               1               0               0   \n",
       "145               0               0               0               0   \n",
       "146               0               0               0               0   \n",
       "147               0               0               0               0   \n",
       "\n",
       "     yearbuilt_2010  \n",
       "0                 0  \n",
       "1                 0  \n",
       "2                 0  \n",
       "3                 0  \n",
       "4                 0  \n",
       "..              ...  \n",
       "142               0  \n",
       "144               0  \n",
       "145               0  \n",
       "146               0  \n",
       "147               0  \n",
       "\n",
       "[100 rows x 35 columns]"
      ]
     },
     "execution_count": 152,
     "metadata": {},
     "output_type": "execute_result"
    }
   ],
   "source": [
    "zillow_2016_new = pd.get_dummies(zillow_2016_new, columns=[\"yearbuilt\"])\n",
    "\n",
    "zillow_2016_new.head(100)"
   ]
  },
  {
   "cell_type": "code",
   "execution_count": 153,
   "metadata": {},
   "outputs": [
    {
     "data": {
      "text/plain": [
       "(18085, 35)"
      ]
     },
     "execution_count": 153,
     "metadata": {},
     "output_type": "execute_result"
    }
   ],
   "source": [
    "zillow_2016_new.shape"
   ]
  },
  {
   "cell_type": "markdown",
   "metadata": {},
   "source": [
    "# Normalize Data"
   ]
  },
  {
   "cell_type": "code",
   "execution_count": 154,
   "metadata": {},
   "outputs": [
    {
     "data": {
      "text/plain": [
       "(18085, 7)"
      ]
     },
     "execution_count": 154,
     "metadata": {},
     "output_type": "execute_result"
    }
   ],
   "source": [
    "from sklearn.preprocessing import MinMaxScaler\n",
    "\n",
    "import pandas as pd\n",
    "from sklearn import preprocessing\n",
    "\n",
    "\n",
    "column_names_to_normalize = ['bedroomcnt', 'buildingqualitytypeid', 'calculatedfinishedsquarefeet', 'lotsizesquarefeet', 'poolcnt', 'structuretaxvaluedollarcnt', 'landtaxvaluedollarcnt']\n",
    "\n",
    "column_names_to_normalize\n",
    "\n",
    "\n",
    "x = zillow_2016_new[column_names_to_normalize].values\n",
    "\n",
    "x\n",
    "\n",
    "min_max_scaler = preprocessing.MinMaxScaler()\n",
    "\n",
    "x_scaled = min_max_scaler.fit_transform(x)\n",
    "\n",
    "x_scaled\n",
    "\n",
    "\n",
    "\n",
    "a = pd.DataFrame(x_scaled)\n",
    "\n",
    "a.values\n",
    "\n",
    "zillow_2016_new[['bedroomcnt', 'buildingqualitytypeid', 'calculatedfinishedsquarefeet', 'lotsizesquarefeet', 'poolcnt', 'structuretaxvaluedollarcnt', 'landtaxvaluedollarcnt']] = a.values\n",
    "\n",
    "\n",
    "a.shape\n"
   ]
  },
  {
   "cell_type": "markdown",
   "metadata": {},
   "source": [
    "# PCA Analysis"
   ]
  },
  {
   "cell_type": "code",
   "execution_count": 155,
   "metadata": {},
   "outputs": [
    {
     "data": {
      "text/plain": [
       "array([[-0.29210679,  0.05594724, -0.15913451, ..., -0.06856282,\n",
       "        -0.01798715, -0.0021261 ],\n",
       "       [-0.28642709,  0.04864136, -0.14124131, ..., -0.0506748 ,\n",
       "        -0.00352419, -0.00926292],\n",
       "       [-0.29519087,  0.0748585 , -0.16281388, ..., -0.08263989,\n",
       "         0.01119138, -0.00668506],\n",
       "       ...,\n",
       "       [-0.15661385,  0.21952755,  0.25434786, ...,  0.1500496 ,\n",
       "        -0.0471289 , -0.03934337],\n",
       "       [ 0.76438617, -0.01172073,  0.03497608, ...,  0.03162361,\n",
       "         0.01140892, -0.05131323],\n",
       "       [-0.29972057,  0.14895746, -0.13755839, ...,  0.06006688,\n",
       "        -0.02740356, -0.01215202]])"
      ]
     },
     "execution_count": 155,
     "metadata": {},
     "output_type": "execute_result"
    }
   ],
   "source": [
    "from sklearn.decomposition import PCA\n",
    "import matplotlib.pyplot as plt\n",
    "\n",
    "\n",
    "pca_zillow = PCA(n_components=7, random_state = 0)\n",
    "# principalComponents_zillow = pca_zillow.fit_transform(x_scaled)\n",
    "\n",
    "principalComponents_zillow = pca_zillow.fit_transform(a)\n",
    "\n",
    "principalComponents_zillow"
   ]
  },
  {
   "cell_type": "code",
   "execution_count": 156,
   "metadata": {},
   "outputs": [
    {
     "data": {
      "text/plain": [
       "PCA(copy=True, iterated_power='auto', n_components=7, random_state=0,\n",
       "    svd_solver='auto', tol=0.0, whiten=False)"
      ]
     },
     "execution_count": 156,
     "metadata": {},
     "output_type": "execute_result"
    }
   ],
   "source": [
    "pca_zillow"
   ]
  },
  {
   "cell_type": "code",
   "execution_count": 157,
   "metadata": {},
   "outputs": [
    {
     "data": {
      "text/plain": [
       "PCA(copy=True, iterated_power='auto', n_components=None, random_state=None,\n",
       "    svd_solver='auto', tol=0.0, whiten=False)"
      ]
     },
     "execution_count": 157,
     "metadata": {},
     "output_type": "execute_result"
    }
   ],
   "source": [
    "pca = PCA()\n",
    "pca.fit(a)"
   ]
  },
  {
   "cell_type": "code",
   "execution_count": 158,
   "metadata": {},
   "outputs": [
    {
     "data": {
      "text/plain": [
       "array([63.2, 15.4, 11.8,  5.9,  2.6,  0.8,  0.3])"
      ]
     },
     "execution_count": 158,
     "metadata": {},
     "output_type": "execute_result"
    }
   ],
   "source": [
    "variations = pca.explained_variance_ratio_*100\n",
    "variations = np.round(variations, decimals=1)\n",
    "variations"
   ]
  },
  {
   "cell_type": "code",
   "execution_count": 103,
   "metadata": {},
   "outputs": [],
   "source": [
    "plot_labels = ['PC'+str(i) for i in range(1,len(variations)+1)]\n",
    "?plot_labels"
   ]
  },
  {
   "cell_type": "code",
   "execution_count": 159,
   "metadata": {},
   "outputs": [
    {
     "data": {
      "text/plain": [
       "Text(0.5, 1.0, 'PCA Scree Plot')"
      ]
     },
     "execution_count": 159,
     "metadata": {},
     "output_type": "execute_result"
    },
    {
     "data": {
      "image/png": "[encoded data removed]",
      "text/plain": [
       "<Figure size 1440x360 with 1 Axes>"
      ]
     },
     "metadata": {
      "needs_background": "light"
     },
     "output_type": "display_data"
    }
   ],
   "source": [
    "from matplotlib.pyplot import figure\n",
    "figure(figsize=(20,5))\n",
    "plt.bar(x = plot_labels, height=variations)\n",
    "plt.xlabel('Principal Components')\n",
    "plt.ylabel('Variance Explained')\n",
    "plt.title('PCA Scree Plot')"
   ]
  },
  {
   "cell_type": "code",
   "execution_count": 160,
   "metadata": {},
   "outputs": [
    {
     "data": {
      "text/html": [
       "<div>\n",
       "<style scoped>\n",
       "    .dataframe tbody tr th:only-of-type {\n",
       "        vertical-align: middle;\n",
       "    }\n",
       "\n",
       "    .dataframe tbody tr th {\n",
       "        vertical-align: top;\n",
       "    }\n",
       "\n",
       "    .dataframe thead th {\n",
       "        text-align: right;\n",
       "    }\n",
       "</style>\n",
       "<table border=\"1\" class=\"dataframe\">\n",
       "  <thead>\n",
       "    <tr style=\"text-align: right;\">\n",
       "      <th></th>\n",
       "      <th>PC 1</th>\n",
       "      <th>PC 2</th>\n",
       "      <th>PC 3</th>\n",
       "      <th>PC 4</th>\n",
       "      <th>PC 5</th>\n",
       "      <th>PC 6</th>\n",
       "      <th>PC 7</th>\n",
       "    </tr>\n",
       "  </thead>\n",
       "  <tbody>\n",
       "    <tr>\n",
       "      <td>0</td>\n",
       "      <td>-0.292107</td>\n",
       "      <td>0.055947</td>\n",
       "      <td>-0.159135</td>\n",
       "      <td>0.014340</td>\n",
       "      <td>-0.068563</td>\n",
       "      <td>-0.017987</td>\n",
       "      <td>-0.002126</td>\n",
       "    </tr>\n",
       "    <tr>\n",
       "      <td>1</td>\n",
       "      <td>-0.286427</td>\n",
       "      <td>0.048641</td>\n",
       "      <td>-0.141241</td>\n",
       "      <td>0.034411</td>\n",
       "      <td>-0.050675</td>\n",
       "      <td>-0.003524</td>\n",
       "      <td>-0.009263</td>\n",
       "    </tr>\n",
       "    <tr>\n",
       "      <td>2</td>\n",
       "      <td>-0.295191</td>\n",
       "      <td>0.074858</td>\n",
       "      <td>-0.162814</td>\n",
       "      <td>0.007627</td>\n",
       "      <td>-0.082640</td>\n",
       "      <td>0.011191</td>\n",
       "      <td>-0.006685</td>\n",
       "    </tr>\n",
       "    <tr>\n",
       "      <td>3</td>\n",
       "      <td>-0.277491</td>\n",
       "      <td>-0.047648</td>\n",
       "      <td>-0.158766</td>\n",
       "      <td>0.089209</td>\n",
       "      <td>-0.166919</td>\n",
       "      <td>0.042382</td>\n",
       "      <td>0.000789</td>\n",
       "    </tr>\n",
       "    <tr>\n",
       "      <td>4</td>\n",
       "      <td>-0.289360</td>\n",
       "      <td>0.081121</td>\n",
       "      <td>-0.126352</td>\n",
       "      <td>-0.015755</td>\n",
       "      <td>0.119637</td>\n",
       "      <td>-0.082950</td>\n",
       "      <td>-0.010353</td>\n",
       "    </tr>\n",
       "    <tr>\n",
       "      <td>...</td>\n",
       "      <td>...</td>\n",
       "      <td>...</td>\n",
       "      <td>...</td>\n",
       "      <td>...</td>\n",
       "      <td>...</td>\n",
       "      <td>...</td>\n",
       "      <td>...</td>\n",
       "    </tr>\n",
       "    <tr>\n",
       "      <td>18080</td>\n",
       "      <td>-0.265254</td>\n",
       "      <td>-0.005710</td>\n",
       "      <td>0.065224</td>\n",
       "      <td>-0.188607</td>\n",
       "      <td>0.095297</td>\n",
       "      <td>-0.039425</td>\n",
       "      <td>0.030600</td>\n",
       "    </tr>\n",
       "    <tr>\n",
       "      <td>18081</td>\n",
       "      <td>-0.255066</td>\n",
       "      <td>-0.058858</td>\n",
       "      <td>0.067422</td>\n",
       "      <td>-0.115309</td>\n",
       "      <td>-0.062792</td>\n",
       "      <td>-0.035243</td>\n",
       "      <td>0.000064</td>\n",
       "    </tr>\n",
       "    <tr>\n",
       "      <td>18082</td>\n",
       "      <td>-0.156614</td>\n",
       "      <td>0.219528</td>\n",
       "      <td>0.254348</td>\n",
       "      <td>0.840577</td>\n",
       "      <td>0.150050</td>\n",
       "      <td>-0.047129</td>\n",
       "      <td>-0.039343</td>\n",
       "    </tr>\n",
       "    <tr>\n",
       "      <td>18083</td>\n",
       "      <td>0.764386</td>\n",
       "      <td>-0.011721</td>\n",
       "      <td>0.034976</td>\n",
       "      <td>-0.052743</td>\n",
       "      <td>0.031624</td>\n",
       "      <td>0.011409</td>\n",
       "      <td>-0.051313</td>\n",
       "    </tr>\n",
       "    <tr>\n",
       "      <td>18084</td>\n",
       "      <td>-0.299721</td>\n",
       "      <td>0.148957</td>\n",
       "      <td>-0.137558</td>\n",
       "      <td>-0.036592</td>\n",
       "      <td>0.060067</td>\n",
       "      <td>-0.027404</td>\n",
       "      <td>-0.012152</td>\n",
       "    </tr>\n",
       "  </tbody>\n",
       "</table>\n",
       "<p>18085 rows × 7 columns</p>\n",
       "</div>"
      ],
      "text/plain": [
       "           PC 1      PC 2      PC 3      PC 4      PC 5      PC 6      PC 7\n",
       "0     -0.292107  0.055947 -0.159135  0.014340 -0.068563 -0.017987 -0.002126\n",
       "1     -0.286427  0.048641 -0.141241  0.034411 -0.050675 -0.003524 -0.009263\n",
       "2     -0.295191  0.074858 -0.162814  0.007627 -0.082640  0.011191 -0.006685\n",
       "3     -0.277491 -0.047648 -0.158766  0.089209 -0.166919  0.042382  0.000789\n",
       "4     -0.289360  0.081121 -0.126352 -0.015755  0.119637 -0.082950 -0.010353\n",
       "...         ...       ...       ...       ...       ...       ...       ...\n",
       "18080 -0.265254 -0.005710  0.065224 -0.188607  0.095297 -0.039425  0.030600\n",
       "18081 -0.255066 -0.058858  0.067422 -0.115309 -0.062792 -0.035243  0.000064\n",
       "18082 -0.156614  0.219528  0.254348  0.840577  0.150050 -0.047129 -0.039343\n",
       "18083  0.764386 -0.011721  0.034976 -0.052743  0.031624  0.011409 -0.051313\n",
       "18084 -0.299721  0.148957 -0.137558 -0.036592  0.060067 -0.027404 -0.012152\n",
       "\n",
       "[18085 rows x 7 columns]"
      ]
     },
     "execution_count": 160,
     "metadata": {},
     "output_type": "execute_result"
    }
   ],
   "source": [
    "principal_zillow_Df = pd.DataFrame(data = principalComponents_zillow, columns = ['PC 1', 'PC 2', 'PC 3', 'PC 4', 'PC 5', 'PC 6', 'PC 7'])\n",
    "\n",
    "principal_zillow_Df\n"
   ]
  },
  {
   "cell_type": "code",
   "execution_count": 161,
   "metadata": {},
   "outputs": [
    {
     "name": "stdout",
     "output_type": "stream",
     "text": [
      "Explained variation per principal component: [0.6316781  0.15405442 0.11837797 0.05929608 0.02602934 0.00778273\n",
      " 0.00278136]\n"
     ]
    }
   ],
   "source": [
    "print('Explained variation per principal component: {}'.format(pca_zillow.explained_variance_ratio_))"
   ]
  },
  {
   "cell_type": "code",
   "execution_count": 162,
   "metadata": {},
   "outputs": [
    {
     "data": {
      "text/plain": [
       "PCA(copy=True, iterated_power='auto', n_components=4, random_state=0,\n",
       "    svd_solver='auto', tol=0.0, whiten=False)"
      ]
     },
     "execution_count": 162,
     "metadata": {},
     "output_type": "execute_result"
    }
   ],
   "source": [
    "pca_new = PCA(n_components=4, random_state=0)\n",
    "\n",
    "pca_new"
   ]
  },
  {
   "cell_type": "code",
   "execution_count": 163,
   "metadata": {},
   "outputs": [],
   "source": [
    "top_pca = principal_zillow_Df.iloc[:, : 4]"
   ]
  },
  {
   "cell_type": "code",
   "execution_count": 164,
   "metadata": {},
   "outputs": [
    {
     "data": {
      "text/html": [
       "<div>\n",
       "<style scoped>\n",
       "    .dataframe tbody tr th:only-of-type {\n",
       "        vertical-align: middle;\n",
       "    }\n",
       "\n",
       "    .dataframe tbody tr th {\n",
       "        vertical-align: top;\n",
       "    }\n",
       "\n",
       "    .dataframe thead th {\n",
       "        text-align: right;\n",
       "    }\n",
       "</style>\n",
       "<table border=\"1\" class=\"dataframe\">\n",
       "  <thead>\n",
       "    <tr style=\"text-align: right;\">\n",
       "      <th></th>\n",
       "      <th>PC 1</th>\n",
       "      <th>PC 2</th>\n",
       "      <th>PC 3</th>\n",
       "      <th>PC 4</th>\n",
       "    </tr>\n",
       "  </thead>\n",
       "  <tbody>\n",
       "    <tr>\n",
       "      <td>0</td>\n",
       "      <td>-0.292107</td>\n",
       "      <td>0.055947</td>\n",
       "      <td>-0.159135</td>\n",
       "      <td>0.014340</td>\n",
       "    </tr>\n",
       "    <tr>\n",
       "      <td>1</td>\n",
       "      <td>-0.286427</td>\n",
       "      <td>0.048641</td>\n",
       "      <td>-0.141241</td>\n",
       "      <td>0.034411</td>\n",
       "    </tr>\n",
       "    <tr>\n",
       "      <td>2</td>\n",
       "      <td>-0.295191</td>\n",
       "      <td>0.074858</td>\n",
       "      <td>-0.162814</td>\n",
       "      <td>0.007627</td>\n",
       "    </tr>\n",
       "    <tr>\n",
       "      <td>3</td>\n",
       "      <td>-0.277491</td>\n",
       "      <td>-0.047648</td>\n",
       "      <td>-0.158766</td>\n",
       "      <td>0.089209</td>\n",
       "    </tr>\n",
       "    <tr>\n",
       "      <td>4</td>\n",
       "      <td>-0.289360</td>\n",
       "      <td>0.081121</td>\n",
       "      <td>-0.126352</td>\n",
       "      <td>-0.015755</td>\n",
       "    </tr>\n",
       "    <tr>\n",
       "      <td>...</td>\n",
       "      <td>...</td>\n",
       "      <td>...</td>\n",
       "      <td>...</td>\n",
       "      <td>...</td>\n",
       "    </tr>\n",
       "    <tr>\n",
       "      <td>18080</td>\n",
       "      <td>-0.265254</td>\n",
       "      <td>-0.005710</td>\n",
       "      <td>0.065224</td>\n",
       "      <td>-0.188607</td>\n",
       "    </tr>\n",
       "    <tr>\n",
       "      <td>18081</td>\n",
       "      <td>-0.255066</td>\n",
       "      <td>-0.058858</td>\n",
       "      <td>0.067422</td>\n",
       "      <td>-0.115309</td>\n",
       "    </tr>\n",
       "    <tr>\n",
       "      <td>18082</td>\n",
       "      <td>-0.156614</td>\n",
       "      <td>0.219528</td>\n",
       "      <td>0.254348</td>\n",
       "      <td>0.840577</td>\n",
       "    </tr>\n",
       "    <tr>\n",
       "      <td>18083</td>\n",
       "      <td>0.764386</td>\n",
       "      <td>-0.011721</td>\n",
       "      <td>0.034976</td>\n",
       "      <td>-0.052743</td>\n",
       "    </tr>\n",
       "    <tr>\n",
       "      <td>18084</td>\n",
       "      <td>-0.299721</td>\n",
       "      <td>0.148957</td>\n",
       "      <td>-0.137558</td>\n",
       "      <td>-0.036592</td>\n",
       "    </tr>\n",
       "  </tbody>\n",
       "</table>\n",
       "<p>18085 rows × 4 columns</p>\n",
       "</div>"
      ],
      "text/plain": [
       "           PC 1      PC 2      PC 3      PC 4\n",
       "0     -0.292107  0.055947 -0.159135  0.014340\n",
       "1     -0.286427  0.048641 -0.141241  0.034411\n",
       "2     -0.295191  0.074858 -0.162814  0.007627\n",
       "3     -0.277491 -0.047648 -0.158766  0.089209\n",
       "4     -0.289360  0.081121 -0.126352 -0.015755\n",
       "...         ...       ...       ...       ...\n",
       "18080 -0.265254 -0.005710  0.065224 -0.188607\n",
       "18081 -0.255066 -0.058858  0.067422 -0.115309\n",
       "18082 -0.156614  0.219528  0.254348  0.840577\n",
       "18083  0.764386 -0.011721  0.034976 -0.052743\n",
       "18084 -0.299721  0.148957 -0.137558 -0.036592\n",
       "\n",
       "[18085 rows x 4 columns]"
      ]
     },
     "execution_count": 164,
     "metadata": {},
     "output_type": "execute_result"
    }
   ],
   "source": [
    "top_pca"
   ]
  },
  {
   "cell_type": "code",
   "execution_count": 165,
   "metadata": {},
   "outputs": [],
   "source": [
    "#concat with categorical\n",
    "\n",
    "categorical_columns = ['taxdelinquencyflag', 'airconditioningtypeid', 'hashottuborspa', 'regionidcity_45457',\n",
    "                      'regionidcity_46298', 'regionidcity_47019', 'regionidcity_48424', 'regionidcity_51617',\n",
    "                      'regionidcity_51861', 'regionidcity_54299', 'regionidcity_54311', 'regionidcity_54722',\n",
    "                      'regionidcity_396054', 'yearbuilt_1930', 'yearbuilt_1940', 'yearbuilt_1950', 'yearbuilt_1960',\n",
    "                      'yearbuilt_1970', 'yearbuilt_1980', 'yearbuilt_1990', 'yearbuilt_2000', 'yearbuilt_2010']"
   ]
  },
  {
   "cell_type": "code",
   "execution_count": 167,
   "metadata": {},
   "outputs": [
    {
     "ename": "KeyError",
     "evalue": "\"['regionidcity_54311', 'regionidcity_47019', 'regionidcity_51861', 'regionidcity_45457', 'regionidcity_46298', 'regionidcity_48424', 'regionidcity_396054', 'regionidcity_51617', 'regionidcity_54722', 'regionidcity_54299'] not in index\"",
     "output_type": "error",
     "traceback": [
      "\u001b[0;31m---------------------------------------------------------------------------\u001b[0m",
      "\u001b[0;31mKeyError\u001b[0m                                  Traceback (most recent call last)",
      "\u001b[0;32m<ipython-input-167-7c5af11b7ad2>\u001b[0m in \u001b[0;36m<module>\u001b[0;34m\u001b[0m\n\u001b[0;32m----> 1\u001b[0;31m \u001b[0mcategorical\u001b[0m \u001b[0;34m=\u001b[0m \u001b[0mzillow_2016_new\u001b[0m\u001b[0;34m[\u001b[0m\u001b[0mcategorical_columns\u001b[0m\u001b[0;34m]\u001b[0m\u001b[0;34m.\u001b[0m\u001b[0mvalues\u001b[0m\u001b[0;34m\u001b[0m\u001b[0;34m\u001b[0m\u001b[0m\n\u001b[0m\u001b[1;32m      2\u001b[0m \u001b[0;34m\u001b[0m\u001b[0m\n\u001b[1;32m      3\u001b[0m \u001b[0mcategorical\u001b[0m\u001b[0;34m\u001b[0m\u001b[0;34m\u001b[0m\u001b[0m\n",
      "\u001b[0;32m/anaconda2/envs/py37/lib/python3.7/site-packages/pandas/core/frame.py\u001b[0m in \u001b[0;36m__getitem__\u001b[0;34m(self, key)\u001b[0m\n\u001b[1;32m   2984\u001b[0m             \u001b[0;32mif\u001b[0m \u001b[0mis_iterator\u001b[0m\u001b[0;34m(\u001b[0m\u001b[0mkey\u001b[0m\u001b[0;34m)\u001b[0m\u001b[0;34m:\u001b[0m\u001b[0;34m\u001b[0m\u001b[0;34m\u001b[0m\u001b[0m\n\u001b[1;32m   2985\u001b[0m                 \u001b[0mkey\u001b[0m \u001b[0;34m=\u001b[0m \u001b[0mlist\u001b[0m\u001b[0;34m(\u001b[0m\u001b[0mkey\u001b[0m\u001b[0;34m)\u001b[0m\u001b[0;34m\u001b[0m\u001b[0;34m\u001b[0m\u001b[0m\n\u001b[0;32m-> 2986\u001b[0;31m             \u001b[0mindexer\u001b[0m \u001b[0;34m=\u001b[0m \u001b[0mself\u001b[0m\u001b[0;34m.\u001b[0m\u001b[0mloc\u001b[0m\u001b[0;34m.\u001b[0m\u001b[0m_convert_to_indexer\u001b[0m\u001b[0;34m(\u001b[0m\u001b[0mkey\u001b[0m\u001b[0;34m,\u001b[0m \u001b[0maxis\u001b[0m\u001b[0;34m=\u001b[0m\u001b[0;36m1\u001b[0m\u001b[0;34m,\u001b[0m \u001b[0mraise_missing\u001b[0m\u001b[0;34m=\u001b[0m\u001b[0;32mTrue\u001b[0m\u001b[0;34m)\u001b[0m\u001b[0;34m\u001b[0m\u001b[0;34m\u001b[0m\u001b[0m\n\u001b[0m\u001b[1;32m   2987\u001b[0m \u001b[0;34m\u001b[0m\u001b[0m\n\u001b[1;32m   2988\u001b[0m         \u001b[0;31m# take() does not accept boolean indexers\u001b[0m\u001b[0;34m\u001b[0m\u001b[0;34m\u001b[0m\u001b[0;34m\u001b[0m\u001b[0m\n",
      "\u001b[0;32m/anaconda2/envs/py37/lib/python3.7/site-packages/pandas/core/indexing.py\u001b[0m in \u001b[0;36m_convert_to_indexer\u001b[0;34m(self, obj, axis, is_setter, raise_missing)\u001b[0m\n\u001b[1;32m   1283\u001b[0m                 \u001b[0;31m# When setting, missing keys are not allowed, even with .loc:\u001b[0m\u001b[0;34m\u001b[0m\u001b[0;34m\u001b[0m\u001b[0;34m\u001b[0m\u001b[0m\n\u001b[1;32m   1284\u001b[0m                 \u001b[0mkwargs\u001b[0m \u001b[0;34m=\u001b[0m \u001b[0;34m{\u001b[0m\u001b[0;34m\"raise_missing\"\u001b[0m\u001b[0;34m:\u001b[0m \u001b[0;32mTrue\u001b[0m \u001b[0;32mif\u001b[0m \u001b[0mis_setter\u001b[0m \u001b[0;32melse\u001b[0m \u001b[0mraise_missing\u001b[0m\u001b[0;34m}\u001b[0m\u001b[0;34m\u001b[0m\u001b[0;34m\u001b[0m\u001b[0m\n\u001b[0;32m-> 1285\u001b[0;31m                 \u001b[0;32mreturn\u001b[0m \u001b[0mself\u001b[0m\u001b[0;34m.\u001b[0m\u001b[0m_get_listlike_indexer\u001b[0m\u001b[0;34m(\u001b[0m\u001b[0mobj\u001b[0m\u001b[0;34m,\u001b[0m \u001b[0maxis\u001b[0m\u001b[0;34m,\u001b[0m \u001b[0;34m**\u001b[0m\u001b[0mkwargs\u001b[0m\u001b[0;34m)\u001b[0m\u001b[0;34m[\u001b[0m\u001b[0;36m1\u001b[0m\u001b[0;34m]\u001b[0m\u001b[0;34m\u001b[0m\u001b[0;34m\u001b[0m\u001b[0m\n\u001b[0m\u001b[1;32m   1286\u001b[0m         \u001b[0;32melse\u001b[0m\u001b[0;34m:\u001b[0m\u001b[0;34m\u001b[0m\u001b[0;34m\u001b[0m\u001b[0m\n\u001b[1;32m   1287\u001b[0m             \u001b[0;32mtry\u001b[0m\u001b[0;34m:\u001b[0m\u001b[0;34m\u001b[0m\u001b[0;34m\u001b[0m\u001b[0m\n",
      "\u001b[0;32m/anaconda2/envs/py37/lib/python3.7/site-packages/pandas/core/indexing.py\u001b[0m in \u001b[0;36m_get_listlike_indexer\u001b[0;34m(self, key, axis, raise_missing)\u001b[0m\n\u001b[1;32m   1090\u001b[0m \u001b[0;34m\u001b[0m\u001b[0m\n\u001b[1;32m   1091\u001b[0m         self._validate_read_indexer(\n\u001b[0;32m-> 1092\u001b[0;31m             \u001b[0mkeyarr\u001b[0m\u001b[0;34m,\u001b[0m \u001b[0mindexer\u001b[0m\u001b[0;34m,\u001b[0m \u001b[0mo\u001b[0m\u001b[0;34m.\u001b[0m\u001b[0m_get_axis_number\u001b[0m\u001b[0;34m(\u001b[0m\u001b[0maxis\u001b[0m\u001b[0;34m)\u001b[0m\u001b[0;34m,\u001b[0m \u001b[0mraise_missing\u001b[0m\u001b[0;34m=\u001b[0m\u001b[0mraise_missing\u001b[0m\u001b[0;34m\u001b[0m\u001b[0;34m\u001b[0m\u001b[0m\n\u001b[0m\u001b[1;32m   1093\u001b[0m         )\n\u001b[1;32m   1094\u001b[0m         \u001b[0;32mreturn\u001b[0m \u001b[0mkeyarr\u001b[0m\u001b[0;34m,\u001b[0m \u001b[0mindexer\u001b[0m\u001b[0;34m\u001b[0m\u001b[0;34m\u001b[0m\u001b[0m\n",
      "\u001b[0;32m/anaconda2/envs/py37/lib/python3.7/site-packages/pandas/core/indexing.py\u001b[0m in \u001b[0;36m_validate_read_indexer\u001b[0;34m(self, key, indexer, axis, raise_missing)\u001b[0m\n\u001b[1;32m   1183\u001b[0m             \u001b[0;32mif\u001b[0m \u001b[0;32mnot\u001b[0m \u001b[0;34m(\u001b[0m\u001b[0mself\u001b[0m\u001b[0;34m.\u001b[0m\u001b[0mname\u001b[0m \u001b[0;34m==\u001b[0m \u001b[0;34m\"loc\"\u001b[0m \u001b[0;32mand\u001b[0m \u001b[0;32mnot\u001b[0m \u001b[0mraise_missing\u001b[0m\u001b[0;34m)\u001b[0m\u001b[0;34m:\u001b[0m\u001b[0;34m\u001b[0m\u001b[0;34m\u001b[0m\u001b[0m\n\u001b[1;32m   1184\u001b[0m                 \u001b[0mnot_found\u001b[0m \u001b[0;34m=\u001b[0m \u001b[0mlist\u001b[0m\u001b[0;34m(\u001b[0m\u001b[0mset\u001b[0m\u001b[0;34m(\u001b[0m\u001b[0mkey\u001b[0m\u001b[0;34m)\u001b[0m \u001b[0;34m-\u001b[0m \u001b[0mset\u001b[0m\u001b[0;34m(\u001b[0m\u001b[0max\u001b[0m\u001b[0;34m)\u001b[0m\u001b[0;34m)\u001b[0m\u001b[0;34m\u001b[0m\u001b[0;34m\u001b[0m\u001b[0m\n\u001b[0;32m-> 1185\u001b[0;31m                 \u001b[0;32mraise\u001b[0m \u001b[0mKeyError\u001b[0m\u001b[0;34m(\u001b[0m\u001b[0;34m\"{} not in index\"\u001b[0m\u001b[0;34m.\u001b[0m\u001b[0mformat\u001b[0m\u001b[0;34m(\u001b[0m\u001b[0mnot_found\u001b[0m\u001b[0;34m)\u001b[0m\u001b[0;34m)\u001b[0m\u001b[0;34m\u001b[0m\u001b[0;34m\u001b[0m\u001b[0m\n\u001b[0m\u001b[1;32m   1186\u001b[0m \u001b[0;34m\u001b[0m\u001b[0m\n\u001b[1;32m   1187\u001b[0m             \u001b[0;31m# we skip the warning on Categorical/Interval\u001b[0m\u001b[0;34m\u001b[0m\u001b[0;34m\u001b[0m\u001b[0;34m\u001b[0m\u001b[0m\n",
      "\u001b[0;31mKeyError\u001b[0m: \"['regionidcity_54311', 'regionidcity_47019', 'regionidcity_51861', 'regionidcity_45457', 'regionidcity_46298', 'regionidcity_48424', 'regionidcity_396054', 'regionidcity_51617', 'regionidcity_54722', 'regionidcity_54299'] not in index\""
     ]
    }
   ],
   "source": [
    "categorical = zillow_2016_new[categorical_columns].values\n",
    "\n",
    "categorical"
   ]
  },
  {
   "cell_type": "code",
   "execution_count": null,
   "metadata": {},
   "outputs": [],
   "source": []
  }
 ],
 "metadata": {
  "kernelspec": {
   "display_name": "Python 3",
   "language": "python",
   "name": "python3"
  },
  "language_info": {
   "codemirror_mode": {
    "name": "ipython",
    "version": 3
   },
   "file_extension": ".py",
   "mimetype": "text/x-python",
   "name": "python",
   "nbconvert_exporter": "python",
   "pygments_lexer": "ipython3",
   "version": "3.7.4"
  }
 },
 "nbformat": 4,
 "nbformat_minor": 2
}
